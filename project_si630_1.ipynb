{
 "cells": [
  {
   "cell_type": "markdown",
   "id": "a9420597-9507-4b40-9c6d-932bc5bba7a9",
   "metadata": {},
   "source": [
    "## Plot/testing data part"
   ]
  },
  {
   "cell_type": "code",
   "execution_count": 2,
   "id": "6e276b10-30f9-4334-a78e-ebd7563cd98b",
   "metadata": {},
   "outputs": [],
   "source": [
    "import pandas as pd\n",
    "import numpy as np"
   ]
  },
  {
   "cell_type": "code",
   "execution_count": 3,
   "id": "b0406279-66ac-44e3-ab60-293fbd844a76",
   "metadata": {
    "jupyter": {
     "source_hidden": true
    },
    "tags": []
   },
   "outputs": [],
   "source": [
    "data = pd.read_csv('data/smallDataWithLyrics0311.csv')"
   ]
  },
  {
   "cell_type": "code",
   "execution_count": 16,
   "id": "ee15db7c-e537-4d9b-a496-d3ad00f5ae80",
   "metadata": {
    "jupyter": {
     "outputs_hidden": true,
     "source_hidden": true
    },
    "tags": []
   },
   "outputs": [],
   "source": [
    "data = data[data['data.album.tracks.items.track.playcount'] > 1000]"
   ]
  },
  {
   "cell_type": "code",
   "execution_count": 17,
   "id": "db766ae4-21f5-43f1-b448-7cbda1814f80",
   "metadata": {
    "jupyter": {
     "source_hidden": true
    },
    "tags": []
   },
   "outputs": [
    {
     "name": "stderr",
     "output_type": "stream",
     "text": [
      "<ipython-input-17-a811f915caac>:1: SettingWithCopyWarning: \n",
      "A value is trying to be set on a copy of a slice from a DataFrame.\n",
      "Try using .loc[row_indexer,col_indexer] = value instead\n",
      "\n",
      "See the caveats in the documentation: https://pandas.pydata.org/pandas-docs/stable/user_guide/indexing.html#returning-a-view-versus-a-copy\n",
      "  data['playcount_log'] = np.log(data['data.album.tracks.items.track.playcount'])\n"
     ]
    }
   ],
   "source": [
    "data['playcount_log'] = np.log(data['data.album.tracks.items.track.playcount'])"
   ]
  },
  {
   "cell_type": "code",
   "execution_count": 18,
   "id": "ed8f06d8-7a74-474f-9915-d6781423cbcc",
   "metadata": {
    "jupyter": {
     "outputs_hidden": true,
     "source_hidden": true
    },
    "tags": []
   },
   "outputs": [
    {
     "data": {
      "text/plain": [
       "7.221105098182496"
      ]
     },
     "execution_count": 18,
     "metadata": {},
     "output_type": "execute_result"
    }
   ],
   "source": [
    "data['playcount_log'].min()"
   ]
  },
  {
   "cell_type": "code",
   "execution_count": 19,
   "id": "f2c29560-a904-49d8-811f-7f4838d1f2c7",
   "metadata": {
    "jupyter": {
     "source_hidden": true
    },
    "tags": []
   },
   "outputs": [],
   "source": [
    "import matplotlib.pyplot as plt"
   ]
  },
  {
   "cell_type": "code",
   "execution_count": 28,
   "id": "c21bc971",
   "metadata": {},
   "outputs": [
    {
     "data": {
      "text/plain": [
       "<seaborn.axisgrid.FacetGrid at 0x218081cceb0>"
      ]
     },
     "execution_count": 28,
     "metadata": {},
     "output_type": "execute_result"
    },
    {
     "data": {
      "image/png": "[encoded data removed]",
      "text/plain": [
       "<Figure size 540x360 with 1 Axes>"
      ]
     },
     "metadata": {},
     "output_type": "display_data"
    }
   ],
   "source": [
    "# print(data['playcount_log'].describe())\n",
    "import seaborn as sns\n",
    "sns.set_style('white')\n",
    "sns.set_context(\"paper\", font_scale = 2)\n",
    "sns.displot(data=data, x = \"playcount_log\", kind = \"hist\", bins=30, aspect=1.5)"
   ]
  },
  {
   "cell_type": "code",
   "execution_count": 34,
   "id": "2c9c67e7",
   "metadata": {},
   "outputs": [],
   "source": [
    "#!pip install fitter"
   ]
  },
  {
   "cell_type": "code",
   "execution_count": 45,
   "id": "23ede03b",
   "metadata": {},
   "outputs": [
    {
     "data": {
      "text/html": [
       "\n",
       "            <div style=\"float: left; border: 1px solid black; width:500px\">\n",
       "              <div id=\"84fcab70-cdcf-4d9d-854d-8e9849725ad5\" style=\"background-color:blue; width:0%\">&nbsp;</div>\n",
       "            </div>\n",
       "            <label id=\"ef5eac31-0f8c-4f0d-8d05-86ce56d1019d\" style=\"padding-left: 10px;\" text = \"\"/>\n",
       "            "
      ],
      "text/plain": [
       "<IPython.core.display.HTML object>"
      ]
     },
     "metadata": {},
     "output_type": "display_data"
    },
    {
     "name": "stderr",
     "output_type": "stream",
     "text": [
      "WARNING:root:SKIPPED kstwo distribution (taking more than 30 seconds)\n",
      "WARNING:root:SKIPPED levy_stable distribution (taking more than 30 seconds)\n",
      "WARNING:root:SKIPPED loglaplace distribution (taking more than 30 seconds)\n",
      "WARNING:root:SKIPPED lognorm distribution (taking more than 30 seconds)\n",
      "WARNING:root:SKIPPED lomax distribution (taking more than 30 seconds)\n",
      "WARNING:root:SKIPPED mielke distribution (taking more than 30 seconds)\n",
      "WARNING:root:SKIPPED nakagami distribution (taking more than 30 seconds)\n",
      "WARNING:root:SKIPPED ncf distribution (taking more than 30 seconds)\n",
      "WARNING:root:SKIPPED nct distribution (taking more than 30 seconds)\n",
      "WARNING:root:SKIPPED ncx2 distribution (taking more than 30 seconds)\n",
      "WARNING:root:SKIPPED norminvgauss distribution (taking more than 30 seconds)\n",
      "WARNING:root:SKIPPED pearson3 distribution (taking more than 30 seconds)\n",
      "WARNING:root:SKIPPED powerlaw distribution (taking more than 30 seconds)\n",
      "WARNING:root:SKIPPED powerlognorm distribution (taking more than 30 seconds)\n",
      "WARNING:root:SKIPPED powernorm distribution (taking more than 30 seconds)\n",
      "WARNING:root:SKIPPED rdist distribution (taking more than 30 seconds)\n",
      "WARNING:root:SKIPPED recipinvgauss distribution (taking more than 30 seconds)\n",
      "WARNING:root:SKIPPED rice distribution (taking more than 30 seconds)\n",
      "WARNING:root:SKIPPED rv_continuous distribution (taking more than 30 seconds)\n",
      "WARNING:root:SKIPPED rv_histogram distribution (taking more than 30 seconds)\n",
      "WARNING:root:SKIPPED skewnorm distribution (taking more than 30 seconds)\n",
      "WARNING:root:SKIPPED t distribution (taking more than 30 seconds)\n",
      "WARNING:root:SKIPPED triang distribution (taking more than 30 seconds)\n",
      "WARNING:root:SKIPPED tukeylambda distribution (taking more than 30 seconds)\n",
      "WARNING:root:SKIPPED vonmises distribution (taking more than 30 seconds)\n",
      "WARNING:root:SKIPPED vonmises_line distribution (taking more than 30 seconds)\n",
      "WARNING:root:SKIPPED weibull_max distribution (taking more than 30 seconds)\n",
      "WARNING:root:SKIPPED weibull_min distribution (taking more than 30 seconds)\n"
     ]
    },
    {
     "data": {
      "text/html": [
       "<div>\n",
       "<style scoped>\n",
       "    .dataframe tbody tr th:only-of-type {\n",
       "        vertical-align: middle;\n",
       "    }\n",
       "\n",
       "    .dataframe tbody tr th {\n",
       "        vertical-align: top;\n",
       "    }\n",
       "\n",
       "    .dataframe thead th {\n",
       "        text-align: right;\n",
       "    }\n",
       "</style>\n",
       "<table border=\"1\" class=\"dataframe\">\n",
       "  <thead>\n",
       "    <tr style=\"text-align: right;\">\n",
       "      <th></th>\n",
       "      <th>sumsquare_error</th>\n",
       "      <th>aic</th>\n",
       "      <th>bic</th>\n",
       "      <th>kl_div</th>\n",
       "    </tr>\n",
       "  </thead>\n",
       "  <tbody>\n",
       "    <tr>\n",
       "      <th>loggamma</th>\n",
       "      <td>0.016561</td>\n",
       "      <td>678.614056</td>\n",
       "      <td>-63990.521996</td>\n",
       "      <td>inf</td>\n",
       "    </tr>\n",
       "    <tr>\n",
       "      <th>johnsonsu</th>\n",
       "      <td>0.016664</td>\n",
       "      <td>680.721194</td>\n",
       "      <td>-63950.539651</td>\n",
       "      <td>inf</td>\n",
       "    </tr>\n",
       "    <tr>\n",
       "      <th>burr12</th>\n",
       "      <td>0.016739</td>\n",
       "      <td>687.473319</td>\n",
       "      <td>-63927.598464</td>\n",
       "      <td>inf</td>\n",
       "    </tr>\n",
       "    <tr>\n",
       "      <th>johnsonsb</th>\n",
       "      <td>0.017458</td>\n",
       "      <td>683.935999</td>\n",
       "      <td>-63714.381257</td>\n",
       "      <td>inf</td>\n",
       "    </tr>\n",
       "    <tr>\n",
       "      <th>beta</th>\n",
       "      <td>0.017516</td>\n",
       "      <td>684.263930</td>\n",
       "      <td>-63697.593696</td>\n",
       "      <td>inf</td>\n",
       "    </tr>\n",
       "  </tbody>\n",
       "</table>\n",
       "</div>"
      ],
      "text/plain": [
       "           sumsquare_error         aic           bic  kl_div\n",
       "loggamma          0.016561  678.614056 -63990.521996     inf\n",
       "johnsonsu         0.016664  680.721194 -63950.539651     inf\n",
       "burr12            0.016739  687.473319 -63927.598464     inf\n",
       "johnsonsb         0.017458  683.935999 -63714.381257     inf\n",
       "beta              0.017516  684.263930 -63697.593696     inf"
      ]
     },
     "execution_count": 45,
     "metadata": {},
     "output_type": "execute_result"
    },
    {
     "name": "stderr",
     "output_type": "stream",
     "text": [
      "C:\\Users\\YunL\\anaconda3\\lib\\site-packages\\scipy\\stats\\_continuous_distns.py:4530: IntegrationWarning: The integral is probably divergent, or slowly convergent.\n",
      "  intg = integrate.quad(f, -xi, np.pi/2, **intg_kwargs)[0]\n"
     ]
    },
    {
     "data": {
      "image/png": "[encoded data removed]",
      "text/plain": [
       "<Figure size 432x288 with 1 Axes>"
      ]
     },
     "metadata": {},
     "output_type": "display_data"
    }
   ],
   "source": [
    "from fitter import Fitter, get_common_distributions, get_distributions\n",
    "log = data[\"playcount_log\"].values\n",
    "f = Fitter(log,\n",
    "           distributions=['alpha',\n",
    "                         'anglit',\n",
    "                         'arcsine',\n",
    "                         'argus',\n",
    "                         'beta',\n",
    "                         'betaprime',\n",
    "                         'bradford',\n",
    "                         'burr',\n",
    "                         'burr12',\n",
    "                         'cauchy',\n",
    "                         'chi',\n",
    "                         'chi2',\n",
    "                         'cosine',\n",
    "                         'crystalball',\n",
    "                         'dgamma',\n",
    "                         'dweibull',\n",
    "                         'erlang',\n",
    "                         'expon',\n",
    "                         'exponnorm',\n",
    "                         'exponpow',\n",
    "                         'exponweib',\n",
    "                         'f',\n",
    "                         'fatiguelife',\n",
    "                         'fisk',\n",
    "                         'foldcauchy',\n",
    "                         'foldnorm',\n",
    "                         'gamma',\n",
    "                         'gausshyper',\n",
    "                         'genexpon',\n",
    "                         'genextreme',\n",
    "                         'gengamma',\n",
    "                         'genhalflogistic',\n",
    "                         'geninvgauss',\n",
    "                         'genlogistic',\n",
    "                         'gennorm',\n",
    "                         'genpareto',\n",
    "                         'gilbrat',\n",
    "                         'gompertz',\n",
    "                         'gumbel_l',\n",
    "                         'gumbel_r',\n",
    "                         'halfcauchy',\n",
    "                         'halfgennorm',\n",
    "                         'halflogistic',\n",
    "                         'halfnorm',\n",
    "                         'hypsecant',\n",
    "                         'invgamma',\n",
    "                         'invgauss',\n",
    "                         'invweibull',\n",
    "                         'johnsonsb',\n",
    "                         'johnsonsu',\n",
    "                         'kappa3',\n",
    "                         'kappa4',\n",
    "                         'ksone',\n",
    "                         'kstwo',\n",
    "                         'kstwobign',\n",
    "                         'laplace',\n",
    "                         'laplace_asymmetric',\n",
    "                         'levy',\n",
    "                         'levy_l',\n",
    "                         'levy_stable',\n",
    "                         'loggamma',\n",
    "                         'logistic',\n",
    "                         'loglaplace',\n",
    "                         'lognorm',\n",
    "                         'loguniform',\n",
    "                         'lomax',\n",
    "                         'maxwell',\n",
    "                         'mielke',\n",
    "                         'moyal',\n",
    "                         'nakagami',\n",
    "                         'ncf',\n",
    "                         'nct',\n",
    "                         'ncx2',\n",
    "                         'norm',\n",
    "                         'norminvgauss',\n",
    "                         'pareto',\n",
    "                         'pearson3',\n",
    "                         'powerlaw',\n",
    "                         'powerlognorm',\n",
    "                         'powernorm',\n",
    "                         'rayleigh',\n",
    "                         'rdist',\n",
    "                         'recipinvgauss',\n",
    "                         'reciprocal',\n",
    "                         'rice',\n",
    "                         'rv_continuous',\n",
    "                         'rv_histogram',\n",
    "                         'semicircular',\n",
    "                         'skewnorm',\n",
    "                         't',\n",
    "                         'trapezoid',\n",
    "                         'trapz',\n",
    "                         'triang',\n",
    "                         'truncexpon',\n",
    "                         'truncnorm',\n",
    "                         'tukeylambda',\n",
    "                         'uniform',\n",
    "                         'vonmises',\n",
    "                         'vonmises_line',\n",
    "                         'wald',\n",
    "                         'weibull_max',\n",
    "                         'weibull_min',\n",
    "                         'wrapcauchy'])\n",
    "f.fit()\n",
    "f.summary()\n"
   ]
  },
  {
   "cell_type": "code",
   "execution_count": 36,
   "id": "07a9f455",
   "metadata": {},
   "outputs": [
    {
     "data": {
      "text/plain": [
       "{'beta': (45.10227022172867,\n",
       "  7.275366557513177,\n",
       "  -27.718023764486123,\n",
       "  51.00684395681262)}"
      ]
     },
     "execution_count": 36,
     "metadata": {},
     "output_type": "execute_result"
    }
   ],
   "source": [
    "f.get_best(method = \"sumsquare_error\")"
   ]
  },
  {
   "cell_type": "code",
   "execution_count": 44,
   "id": "8910b583",
   "metadata": {},
   "outputs": [
    {
     "data": {
      "text/plain": [
       "['alpha',\n",
       " 'anglit',\n",
       " 'arcsine',\n",
       " 'argus',\n",
       " 'beta',\n",
       " 'betaprime',\n",
       " 'bradford',\n",
       " 'burr',\n",
       " 'burr12',\n",
       " 'cauchy',\n",
       " 'chi',\n",
       " 'chi2',\n",
       " 'cosine',\n",
       " 'crystalball',\n",
       " 'dgamma',\n",
       " 'dweibull',\n",
       " 'erlang',\n",
       " 'expon',\n",
       " 'exponnorm',\n",
       " 'exponpow',\n",
       " 'exponweib',\n",
       " 'f',\n",
       " 'fatiguelife',\n",
       " 'fisk',\n",
       " 'foldcauchy',\n",
       " 'foldnorm',\n",
       " 'gamma',\n",
       " 'gausshyper',\n",
       " 'genexpon',\n",
       " 'genextreme',\n",
       " 'gengamma',\n",
       " 'genhalflogistic',\n",
       " 'geninvgauss',\n",
       " 'genlogistic',\n",
       " 'gennorm',\n",
       " 'genpareto',\n",
       " 'gilbrat',\n",
       " 'gompertz',\n",
       " 'gumbel_l',\n",
       " 'gumbel_r',\n",
       " 'halfcauchy',\n",
       " 'halfgennorm',\n",
       " 'halflogistic',\n",
       " 'halfnorm',\n",
       " 'hypsecant',\n",
       " 'invgamma',\n",
       " 'invgauss',\n",
       " 'invweibull',\n",
       " 'johnsonsb',\n",
       " 'johnsonsu',\n",
       " 'kappa3',\n",
       " 'kappa4',\n",
       " 'ksone',\n",
       " 'kstwo',\n",
       " 'kstwobign',\n",
       " 'laplace',\n",
       " 'laplace_asymmetric',\n",
       " 'levy',\n",
       " 'levy_l',\n",
       " 'levy_stable',\n",
       " 'loggamma',\n",
       " 'logistic',\n",
       " 'loglaplace',\n",
       " 'lognorm',\n",
       " 'loguniform',\n",
       " 'lomax',\n",
       " 'maxwell',\n",
       " 'mielke',\n",
       " 'moyal',\n",
       " 'nakagami',\n",
       " 'ncf',\n",
       " 'nct',\n",
       " 'ncx2',\n",
       " 'norm',\n",
       " 'norminvgauss',\n",
       " 'pareto',\n",
       " 'pearson3',\n",
       " 'powerlaw',\n",
       " 'powerlognorm',\n",
       " 'powernorm',\n",
       " 'rayleigh',\n",
       " 'rdist',\n",
       " 'recipinvgauss',\n",
       " 'reciprocal',\n",
       " 'rice',\n",
       " 'rv_continuous',\n",
       " 'rv_histogram',\n",
       " 'semicircular',\n",
       " 'skewnorm',\n",
       " 't',\n",
       " 'trapezoid',\n",
       " 'trapz',\n",
       " 'triang',\n",
       " 'truncexpon',\n",
       " 'truncnorm',\n",
       " 'tukeylambda',\n",
       " 'uniform',\n",
       " 'vonmises',\n",
       " 'vonmises_line',\n",
       " 'wald',\n",
       " 'weibull_max',\n",
       " 'weibull_min',\n",
       " 'wrapcauchy']"
      ]
     },
     "execution_count": 44,
     "metadata": {},
     "output_type": "execute_result"
    }
   ],
   "source": [
    "get_distributions()"
   ]
  },
  {
   "cell_type": "code",
   "execution_count": 21,
   "id": "cb652246-b34f-45fd-bd96-9f92f30fd2f9",
   "metadata": {
    "jupyter": {
     "source_hidden": true
    },
    "tags": []
   },
   "outputs": [
    {
     "data": {
      "text/plain": [
       "(array([  2.,   6.,  28.,   2.,   9.,  29.,  62.,  44.,  51.,  78.,  74.,\n",
       "        132., 151., 181., 254., 319., 365., 313., 410., 432., 448., 393.,\n",
       "        353., 296., 229., 166., 125.,  62.,  44.,  10.]),\n",
       " array([ 7.2211051 ,  7.70583189,  8.19055869,  8.67528548,  9.16001227,\n",
       "         9.64473907, 10.12946586, 10.61419266, 11.09891945, 11.58364625,\n",
       "        12.06837304, 12.55309983, 13.03782663, 13.52255342, 14.00728022,\n",
       "        14.49200701, 14.9767338 , 15.4614606 , 15.94618739, 16.43091419,\n",
       "        16.91564098, 17.40036777, 17.88509457, 18.36982136, 18.85454816,\n",
       "        19.33927495, 19.82400174, 20.30872854, 20.79345533, 21.27818213,\n",
       "        21.76290892]),\n",
       " <BarContainer object of 30 artists>)"
      ]
     },
     "execution_count": 21,
     "metadata": {},
     "output_type": "execute_result"
    },
    {
     "data": {
      "image/png": "[encoded data removed]",
      "text/plain": [
       "<Figure size 432x288 with 1 Axes>"
      ]
     },
     "metadata": {
      "needs_background": "light"
     },
     "output_type": "display_data"
    }
   ],
   "source": [
    "plt.hist(data['playcount_log'], bins = 30)"
   ]
  },
  {
   "cell_type": "code",
   "execution_count": 34,
   "id": "dfec8c21-9863-4ef9-8304-10225904fd5e",
   "metadata": {},
   "outputs": [
    {
     "data": {
      "text/plain": [
       "(array([4.153e+03, 4.020e+02, 1.780e+02, 1.050e+02, 5.000e+01, 4.000e+01,\n",
       "        4.800e+01, 1.400e+01, 1.500e+01, 1.300e+01, 1.300e+01, 1.500e+01,\n",
       "        7.000e+00, 1.300e+01, 4.000e+00, 2.000e+00, 5.000e+00, 3.000e+00,\n",
       "        3.000e+00, 3.000e+00, 2.000e+00, 0.000e+00, 0.000e+00, 2.000e+00,\n",
       "        0.000e+00, 1.000e+00, 0.000e+00, 0.000e+00, 0.000e+00, 1.000e+00]),\n",
       " array([0.00000000e+00, 9.42735801e+07, 1.88547160e+08, 2.82820740e+08,\n",
       "        3.77094320e+08, 4.71367900e+08, 5.65641481e+08, 6.59915061e+08,\n",
       "        7.54188641e+08, 8.48462221e+08, 9.42735801e+08, 1.03700938e+09,\n",
       "        1.13128296e+09, 1.22555654e+09, 1.31983012e+09, 1.41410370e+09,\n",
       "        1.50837728e+09, 1.60265086e+09, 1.69692444e+09, 1.79119802e+09,\n",
       "        1.88547160e+09, 1.97974518e+09, 2.07401876e+09, 2.16829234e+09,\n",
       "        2.26256592e+09, 2.35683950e+09, 2.45111308e+09, 2.54538666e+09,\n",
       "        2.63966024e+09, 2.73393382e+09, 2.82820740e+09]),\n",
       " <BarContainer object of 30 artists>)"
      ]
     },
     "execution_count": 34,
     "metadata": {},
     "output_type": "execute_result"
    },
    {
     "data": {
      "image/png": "[encoded data removed]",
      "text/plain": [
       "<Figure size 432x288 with 1 Axes>"
      ]
     },
     "metadata": {
      "needs_background": "light"
     },
     "output_type": "display_data"
    }
   ],
   "source": [
    "plt.hist(data['data.album.tracks.items.track.playcount'], bins = 30)"
   ]
  },
  {
   "cell_type": "markdown",
   "id": "c758056a-49cd-487e-86e5-f63e0ede3058",
   "metadata": {},
   "source": [
    "## The NLP part"
   ]
  },
  {
   "cell_type": "code",
   "execution_count": 14,
   "id": "b68784d1-8d17-47a5-810c-0f21a4a5394b",
   "metadata": {},
   "outputs": [
    {
     "name": "stderr",
     "output_type": "stream",
     "text": [
      "[nltk_data] Downloading package stopwords to\n",
      "[nltk_data]     C:\\Users\\YunL\\AppData\\Roaming\\nltk_data...\n",
      "[nltk_data]   Unzipping corpora\\stopwords.zip.\n"
     ]
    }
   ],
   "source": [
    "from nltk.corpus import stopwords\n",
    "import nltk\n",
    "nltk.download('stopwords')\n",
    "from nltk.tokenize import RegexpTokenizer\n",
    "import torch\n",
    "import torch.nn as nn\n",
    "import pandas as pd\n",
    "import numpy as np\n",
    "import re\n",
    "import itertools\n",
    "from collections import Counter\n",
    "\n",
    "from torch.utils.data import TensorDataset\n",
    "from torch.utils.data import DataLoader\n",
    "\n",
    "from tqdm.auto import tqdm, trange\n",
    "\n",
    "from torch.utils.tensorboard import SummaryWriter\n",
    "# import torch.nn.functional as F\n",
    "\n"
   ]
  },
  {
   "cell_type": "code",
   "execution_count": 15,
   "id": "70f8974f-7912-4e06-802f-80090f51f03c",
   "metadata": {},
   "outputs": [],
   "source": [
    "class Corpus:\n",
    "    def __init__(self):\n",
    "        self.tokenizer = RegexpTokenizer(r'\\w+')\n",
    "\n",
    "        self.word_to_index = {} # word to unique-id\n",
    "        self.index_to_word = {} # unique-id to word\n",
    "\n",
    "        self.word_counts = Counter()\n",
    "\n",
    "        self.labels = []\n",
    "        self.output = []\n",
    "\n",
    "    def tokenize(self, text):\n",
    "        return self.tokenizer.tokenize(text)\n",
    "        \n",
    "    def load_data(self, file_name, min_token_freq):\n",
    "\n",
    "        # Step 1: Read the file\n",
    "        print('Reading data and tokenizing')\n",
    "\n",
    "        raw_data = pd.read_csv(file_name)\n",
    "        raw_data = raw_data[raw_data['lyrics'].notna()]\n",
    "        raw_x = raw_data['lyrics'].to_list()\n",
    "        raw_labels = raw_data['data.album.tracks.items.track.playcount'].to_list()\n",
    "        self.labels = np.log(raw_labels)\n",
    "        \n",
    "        all_tokens = []\n",
    "        cachedStopWords = stopwords.words('english')\n",
    "        \n",
    "        for track in raw_x:\n",
    "            \n",
    "            track_re = re.sub(\"[\\(\\[].*?[\\)\\]]\", \"\", track)\n",
    "            token = self.tokenize(track_re)\n",
    "            token_without_sw = [word for word in token if not word in cachedStopWords]\n",
    "            token_without_sw_l = [word.lower() for word in token_without_sw]\n",
    "            all_tokens.append(token_without_sw_l)\n",
    "            \n",
    "    \n",
    "        # Step 2: Count how many tokens we have of each type\n",
    "        print('Counting token frequencies')\n",
    "        freqs = Counter(list(itertools.chain.from_iterable(all_tokens)))\n",
    "        \n",
    "        # Step 3: Remove low occurrence\n",
    "#         Replace all tokens below the specified frequency with an <UNK> and then remove them\n",
    "\n",
    "        print(\"Performing minimum thresholding\")\n",
    "\n",
    "        for track in all_tokens:\n",
    "            for index in range(len(track)):\n",
    "                if freqs[track[index]] < min_token_freq:\n",
    "                    track[index] = '<UNK>'\n",
    "\n",
    "                \n",
    "        for track in all_tokens:\n",
    "            t = []\n",
    "            for word in track:\n",
    "                if word != '<UNK>':\n",
    "                    t.append(word)\n",
    "                \n",
    "            self.output.append(t)\n",
    "    \n",
    "        # Step 4: update self.word_counts to be the number of times each word\n",
    "\n",
    "        self.word_counts = Counter(list(itertools.chain.from_iterable(self.output)))\n",
    "        \n",
    "        # Step 5: Create the mappings from word to unique integer ID and the\n",
    "        # reverse mapping. \n",
    "\n",
    "        n = 0\n",
    "        for i in self.word_counts.keys():\n",
    "            self.word_to_index[i] = n\n",
    "            self.index_to_word[n] = i\n",
    "\n",
    "            n += 1\n",
    "        \n",
    "        # Helpful print statement to verify what you've loaded\n",
    "        print('Loaded all data from %s; saw %d usable tracks (%d unique words)' \\\n",
    "              % (file_name, len(corpus.output),\n",
    "                 len(self.word_to_index)))\n",
    "        \n",
    "    def get_prediction_tensor(self, lyric):\n",
    "        cachedStopWords = stopwords.words('english')\n",
    "        lyric_re = re.sub(\"[\\(\\[].*?[\\)\\]]\", \"\", lyric)\n",
    "        t = self.tokenize(lyric_re)\n",
    "        t_without_sw = [word for word in t if not word in cachedStopWords]\n",
    "        t_without_sw_l = [word.lower() for word in t_without_sw]\n",
    "        \n",
    "        tra_dict = Counter(t_without_sw_l)\n",
    "        \n",
    "        r = []\n",
    "        c = []\n",
    "        d = []\n",
    "        for word in tra_dict.keys():\n",
    "            try:\n",
    "                c.append(self.word_to_index[word])\n",
    "                d.append(float(tra_dict[word]))\n",
    "                r.append(0)\n",
    "            except:\n",
    "                continue\n",
    "        i = [r, c]\n",
    "        s = torch.sparse_coo_tensor(i, d, (1, len(corpus.word_counts)))\n",
    "        return s.to_dense()\n",
    "        "
   ]
  },
  {
   "cell_type": "code",
   "execution_count": 16,
   "id": "f128dc5a-a280-4047-80d1-8e4aaeafc509",
   "metadata": {},
   "outputs": [
    {
     "name": "stdout",
     "output_type": "stream",
     "text": [
      "Reading data and tokenizing\n",
      "Counting token frequencies\n",
      "Performing minimum thresholding\n",
      "Loaded all data from data/smallDataWithLyrics.csv; saw 625 usable tracks (1746 unique words)\n"
     ]
    }
   ],
   "source": [
    "corpus = Corpus()\n",
    "corpus.load_data('data/smallDataWithLyrics.csv', 5)"
   ]
  },
  {
   "cell_type": "code",
   "execution_count": 17,
   "id": "e5a302a8-e67f-4ee7-8743-a1b7a7c324bd",
   "metadata": {
    "tags": []
   },
   "outputs": [],
   "source": [
    "# build input data\n",
    "tracks = corpus.output\n",
    "row = []\n",
    "col = []\n",
    "data = []\n",
    "\n",
    "row_num = 0\n",
    "for track in tracks:\n",
    "    track_dict = Counter(track)\n",
    "    for word in track_dict.keys():\n",
    "        col.append(corpus.word_to_index[word])\n",
    "        data.append(float(track_dict[word]))\n",
    "        row.append(row_num)\n",
    "    row_num += 1\n",
    "    \n",
    "i = [row, col]\n",
    "\n",
    "s_input = torch.sparse_coo_tensor(i, data, (len(tracks), len(corpus.word_counts)))\n",
    "labels = torch.FloatTensor(corpus.labels)"
   ]
  },
  {
   "cell_type": "code",
   "execution_count": 18,
   "id": "f2bf2b2b-233e-49de-a71d-2312e1e818a1",
   "metadata": {},
   "outputs": [],
   "source": [
    "# the classifier we are using: LinarRegression\n",
    "class linearRegression(torch.nn.Module):\n",
    "    def __init__(self, input_size, output_size):\n",
    "        super(linearRegression, self).__init__()\n",
    "        self.linear = torch.nn.Linear(input_size, output_size)\n",
    "\n",
    "    def forward(self, x):\n",
    "        output = self.linear(x)\n",
    "        return output"
   ]
  },
  {
   "cell_type": "code",
   "execution_count": 19,
   "id": "3cf1fbf8-6b5f-4ed6-b580-cbffcc1f36cf",
   "metadata": {},
   "outputs": [],
   "source": [
    "# setup parameter\n",
    "batch_size = 16\n",
    "epochs = 100\n",
    "learning_rate = 5e-5\n",
    "input_size = len(corpus.word_counts)\n",
    "output_size = 1\n",
    "\n",
    "train_dataset = TensorDataset(s_input.to_dense(), labels)\n",
    "train_dataset_batches = DataLoader(train_dataset, batch_size, shuffle=True)\n",
    "\n",
    "model = linearRegression(input_size, output_size)\n",
    "criterion = torch.nn.MSELoss() \n",
    "optimizer = torch.optim.SGD(model.parameters(), lr=learning_rate)\n",
    "writer = SummaryWriter()"
   ]
  },
  {
   "cell_type": "code",
   "execution_count": 20,
   "id": "25973d54-2b16-45f7-9509-35084118143b",
   "metadata": {
    "jupyter": {
     "outputs_hidden": true
    },
    "tags": []
   },
   "outputs": [
    {
     "data": {
      "application/vnd.jupyter.widget-view+json": {
       "model_id": "a4e5c943031543bc944faebf0db1d69f",
       "version_major": 2,
       "version_minor": 0
      },
      "text/plain": [
       "  0%|          | 0/100 [00:00<?, ?it/s]"
      ]
     },
     "metadata": {},
     "output_type": "display_data"
    },
    {
     "data": {
      "application/vnd.jupyter.widget-view+json": {
       "model_id": "dff75a387473480eaec3424bdba85c15",
       "version_major": 2,
       "version_minor": 0
      },
      "text/plain": [
       "  0%|          | 0/40 [00:00<?, ?it/s]"
      ]
     },
     "metadata": {},
     "output_type": "display_data"
    },
    {
     "name": "stdout",
     "output_type": "stream",
     "text": [
      "loss:330.77117919921875\n",
      "loss:319.6274108886719\n",
      "loss:328.1690368652344\n",
      "loss:289.5700378417969\n",
      "loss:299.31500244140625\n",
      "loss:307.99462890625\n",
      "loss:290.34356689453125\n",
      "loss:301.48577880859375\n",
      "loss:310.8533935546875\n",
      "loss:287.8812255859375\n",
      "loss:255.82823181152344\n",
      "loss:283.8321838378906\n",
      "loss:292.3829345703125\n",
      "loss:255.8967742919922\n",
      "loss:281.4691162109375\n",
      "loss:256.4628601074219\n",
      "loss:271.1257019042969\n",
      "loss:244.37623596191406\n",
      "loss:274.5584716796875\n",
      "loss:233.35458374023438\n",
      "loss:236.160400390625\n",
      "loss:248.9036865234375\n",
      "loss:250.0041046142578\n",
      "loss:251.72132873535156\n",
      "loss:260.5025939941406\n",
      "loss:241.47415161132812\n",
      "loss:221.05657958984375\n",
      "loss:221.28810119628906\n",
      "loss:245.66973876953125\n",
      "loss:219.57827758789062\n",
      "loss:229.46780395507812\n",
      "loss:200.84774780273438\n",
      "loss:215.7174530029297\n",
      "loss:182.37335205078125\n",
      "loss:208.41358947753906\n",
      "loss:189.62899780273438\n",
      "loss:188.94058227539062\n",
      "loss:204.75042724609375\n",
      "loss:176.08749389648438\n",
      "loss:127.93921661376953\n"
     ]
    },
    {
     "data": {
      "application/vnd.jupyter.widget-view+json": {
       "model_id": "46eadc4ff53d43dda02b288596a9abb7",
       "version_major": 2,
       "version_minor": 0
      },
      "text/plain": [
       "  0%|          | 0/40 [00:00<?, ?it/s]"
      ]
     },
     "metadata": {},
     "output_type": "display_data"
    },
    {
     "name": "stdout",
     "output_type": "stream",
     "text": [
      "loss:178.6220245361328\n",
      "loss:187.7135009765625\n",
      "loss:206.74166870117188\n",
      "loss:173.47633361816406\n",
      "loss:180.17237854003906\n",
      "loss:196.2839813232422\n",
      "loss:139.2465362548828\n",
      "loss:181.7061767578125\n",
      "loss:170.42752075195312\n",
      "loss:178.4907684326172\n",
      "loss:197.7079315185547\n",
      "loss:140.58082580566406\n",
      "loss:183.70736694335938\n",
      "loss:130.5835418701172\n",
      "loss:132.0169219970703\n",
      "loss:169.52098083496094\n",
      "loss:186.52207946777344\n",
      "loss:132.7542724609375\n",
      "loss:141.7614288330078\n",
      "loss:156.29322814941406\n",
      "loss:151.03402709960938\n",
      "loss:151.9591827392578\n",
      "loss:173.5898895263672\n",
      "loss:152.49278259277344\n",
      "loss:97.6988754272461\n",
      "loss:183.95262145996094\n",
      "loss:149.1342315673828\n",
      "loss:122.07584381103516\n",
      "loss:150.92636108398438\n",
      "loss:156.12469482421875\n",
      "loss:163.24362182617188\n",
      "loss:174.05160522460938\n",
      "loss:154.77479553222656\n",
      "loss:136.93426513671875\n",
      "loss:139.01412963867188\n",
      "loss:91.37763977050781\n",
      "loss:131.62535095214844\n",
      "loss:145.67572021484375\n",
      "loss:113.10907745361328\n",
      "loss:153.97650146484375\n"
     ]
    },
    {
     "data": {
      "application/vnd.jupyter.widget-view+json": {
       "model_id": "4f9e9801b9cd45e880bc1f2285e7c1cf",
       "version_major": 2,
       "version_minor": 0
      },
      "text/plain": [
       "  0%|          | 0/40 [00:00<?, ?it/s]"
      ]
     },
     "metadata": {},
     "output_type": "display_data"
    },
    {
     "name": "stdout",
     "output_type": "stream",
     "text": [
      "loss:146.65025329589844\n",
      "loss:122.55821228027344\n",
      "loss:124.82530975341797\n",
      "loss:131.23715209960938\n",
      "loss:164.42092895507812\n",
      "loss:123.44410705566406\n",
      "loss:135.7861328125\n",
      "loss:129.3880615234375\n",
      "loss:144.13067626953125\n",
      "loss:151.4184112548828\n",
      "loss:106.04215240478516\n",
      "loss:123.33708190917969\n",
      "loss:124.88209533691406\n",
      "loss:142.28268432617188\n",
      "loss:69.73880767822266\n",
      "loss:137.68557739257812\n",
      "loss:105.76387786865234\n",
      "loss:102.9556655883789\n",
      "loss:96.5627670288086\n",
      "loss:132.68028259277344\n",
      "loss:109.43435668945312\n",
      "loss:126.67498779296875\n",
      "loss:101.63585662841797\n",
      "loss:111.73890686035156\n",
      "loss:83.92921447753906\n",
      "loss:77.895263671875\n",
      "loss:116.15328216552734\n",
      "loss:94.54741668701172\n",
      "loss:103.75262451171875\n",
      "loss:113.1469955444336\n",
      "loss:119.50731658935547\n",
      "loss:81.48149108886719\n",
      "loss:117.84954071044922\n",
      "loss:109.05001831054688\n",
      "loss:100.77799987792969\n",
      "loss:110.02474975585938\n",
      "loss:82.00200653076172\n",
      "loss:91.22499084472656\n",
      "loss:169.98696899414062\n",
      "loss:24.224037170410156\n"
     ]
    },
    {
     "data": {
      "application/vnd.jupyter.widget-view+json": {
       "model_id": "925bc9a7b4664aae91b18043c24dba4b",
       "version_major": 2,
       "version_minor": 0
      },
      "text/plain": [
       "  0%|          | 0/40 [00:00<?, ?it/s]"
      ]
     },
     "metadata": {},
     "output_type": "display_data"
    },
    {
     "name": "stdout",
     "output_type": "stream",
     "text": [
      "loss:89.41866302490234\n",
      "loss:84.42615509033203\n",
      "loss:109.14292907714844\n",
      "loss:92.19631958007812\n",
      "loss:144.97584533691406\n",
      "loss:120.19461059570312\n",
      "loss:72.06114196777344\n",
      "loss:108.31060028076172\n",
      "loss:142.13333129882812\n",
      "loss:109.31549072265625\n",
      "loss:60.903228759765625\n",
      "loss:66.66632843017578\n",
      "loss:90.97261047363281\n",
      "loss:81.49186706542969\n",
      "loss:93.1974105834961\n",
      "loss:68.43209075927734\n",
      "loss:132.5950469970703\n",
      "loss:95.97637176513672\n",
      "loss:108.36178588867188\n",
      "loss:77.61964416503906\n",
      "loss:90.979736328125\n",
      "loss:99.5467529296875\n",
      "loss:112.53079986572266\n",
      "loss:88.75047302246094\n",
      "loss:89.3829116821289\n",
      "loss:124.13475036621094\n",
      "loss:106.54712677001953\n",
      "loss:119.64065551757812\n",
      "loss:100.15667724609375\n",
      "loss:138.23016357421875\n",
      "loss:87.66120910644531\n",
      "loss:105.9317398071289\n",
      "loss:84.06639099121094\n",
      "loss:104.79773712158203\n",
      "loss:95.51370239257812\n",
      "loss:105.74659729003906\n",
      "loss:109.68793487548828\n",
      "loss:95.60929870605469\n",
      "loss:57.90666198730469\n",
      "loss:15.004252433776855\n"
     ]
    },
    {
     "data": {
      "application/vnd.jupyter.widget-view+json": {
       "model_id": "219c0ec0d3444b51a131b25f80d519a9",
       "version_major": 2,
       "version_minor": 0
      },
      "text/plain": [
       "  0%|          | 0/40 [00:00<?, ?it/s]"
      ]
     },
     "metadata": {},
     "output_type": "display_data"
    },
    {
     "name": "stdout",
     "output_type": "stream",
     "text": [
      "loss:111.77607727050781\n",
      "loss:61.72566604614258\n",
      "loss:108.4012680053711\n",
      "loss:55.34584045410156\n",
      "loss:85.99478912353516\n",
      "loss:109.0445327758789\n",
      "loss:67.93750762939453\n",
      "loss:106.98870086669922\n",
      "loss:76.83081817626953\n",
      "loss:81.49065399169922\n",
      "loss:66.88581085205078\n",
      "loss:74.00437927246094\n",
      "loss:109.93283081054688\n",
      "loss:88.22166442871094\n",
      "loss:91.41239166259766\n",
      "loss:112.57748413085938\n",
      "loss:109.37140655517578\n",
      "loss:69.59521484375\n",
      "loss:102.46003723144531\n",
      "loss:78.66403198242188\n",
      "loss:109.01116180419922\n",
      "loss:101.16829681396484\n",
      "loss:87.29622650146484\n",
      "loss:82.71392822265625\n",
      "loss:104.08399200439453\n",
      "loss:72.18679809570312\n",
      "loss:85.47860717773438\n",
      "loss:118.0062255859375\n",
      "loss:109.96593475341797\n",
      "loss:57.45782470703125\n",
      "loss:108.97270965576172\n",
      "loss:93.88529968261719\n",
      "loss:73.2054214477539\n",
      "loss:103.45977020263672\n",
      "loss:67.89366149902344\n",
      "loss:94.11344909667969\n",
      "loss:129.92990112304688\n",
      "loss:80.6923599243164\n",
      "loss:88.05867004394531\n",
      "loss:246.45156860351562\n"
     ]
    },
    {
     "data": {
      "application/vnd.jupyter.widget-view+json": {
       "model_id": "a7ceefe53d514329ae02152ca13fe8a4",
       "version_major": 2,
       "version_minor": 0
      },
      "text/plain": [
       "  0%|          | 0/40 [00:00<?, ?it/s]"
      ]
     },
     "metadata": {},
     "output_type": "display_data"
    },
    {
     "name": "stdout",
     "output_type": "stream",
     "text": [
      "loss:96.5434341430664\n",
      "loss:56.08737564086914\n",
      "loss:55.10075378417969\n",
      "loss:114.50276947021484\n",
      "loss:64.33381652832031\n",
      "loss:79.69586181640625\n",
      "loss:78.84245300292969\n",
      "loss:85.80716705322266\n",
      "loss:105.57450866699219\n",
      "loss:83.22589874267578\n",
      "loss:76.09305572509766\n",
      "loss:119.77959442138672\n",
      "loss:66.83414459228516\n",
      "loss:93.35286712646484\n",
      "loss:94.36236572265625\n",
      "loss:89.52508544921875\n",
      "loss:59.31458282470703\n",
      "loss:78.29505920410156\n",
      "loss:87.8098373413086\n",
      "loss:78.2768325805664\n",
      "loss:119.83229064941406\n",
      "loss:98.185302734375\n",
      "loss:91.54813385009766\n",
      "loss:76.56692504882812\n",
      "loss:68.6784439086914\n",
      "loss:88.27583312988281\n",
      "loss:86.95083618164062\n",
      "loss:83.98518371582031\n",
      "loss:91.06982421875\n",
      "loss:54.93683624267578\n",
      "loss:60.29605484008789\n",
      "loss:96.6460952758789\n",
      "loss:95.15625\n",
      "loss:104.34305572509766\n",
      "loss:102.32571411132812\n",
      "loss:87.44527435302734\n",
      "loss:80.28355407714844\n",
      "loss:113.9843521118164\n",
      "loss:99.00943756103516\n",
      "loss:112.11756134033203\n"
     ]
    },
    {
     "data": {
      "application/vnd.jupyter.widget-view+json": {
       "model_id": "1563990892244424ab2fccfe552ef183",
       "version_major": 2,
       "version_minor": 0
      },
      "text/plain": [
       "  0%|          | 0/40 [00:00<?, ?it/s]"
      ]
     },
     "metadata": {},
     "output_type": "display_data"
    },
    {
     "name": "stdout",
     "output_type": "stream",
     "text": [
      "loss:80.81781005859375\n",
      "loss:56.884521484375\n",
      "loss:77.48025512695312\n",
      "loss:110.87823486328125\n",
      "loss:93.65870666503906\n",
      "loss:65.09092712402344\n",
      "loss:88.34042358398438\n",
      "loss:114.97138977050781\n",
      "loss:51.112789154052734\n",
      "loss:83.34736633300781\n",
      "loss:122.5773696899414\n",
      "loss:65.56451416015625\n",
      "loss:52.67388153076172\n",
      "loss:78.99176788330078\n",
      "loss:70.5108642578125\n",
      "loss:82.78243255615234\n",
      "loss:99.85755920410156\n",
      "loss:112.69305419921875\n",
      "loss:72.09294891357422\n",
      "loss:99.88126373291016\n",
      "loss:63.845367431640625\n",
      "loss:90.95799255371094\n",
      "loss:62.21867370605469\n",
      "loss:76.89015197753906\n",
      "loss:84.3065414428711\n",
      "loss:61.53691101074219\n",
      "loss:106.92623901367188\n",
      "loss:99.70464324951172\n",
      "loss:45.97184753417969\n",
      "loss:76.59324645996094\n",
      "loss:109.84270477294922\n",
      "loss:118.32991790771484\n",
      "loss:82.82842254638672\n",
      "loss:80.61837768554688\n",
      "loss:71.41991424560547\n",
      "loss:106.6890640258789\n",
      "loss:86.18894958496094\n",
      "loss:74.58204650878906\n",
      "loss:75.7955322265625\n",
      "loss:110.64314270019531\n"
     ]
    },
    {
     "data": {
      "application/vnd.jupyter.widget-view+json": {
       "model_id": "18cf6375a94547cb9505be95bfe49689",
       "version_major": 2,
       "version_minor": 0
      },
      "text/plain": [
       "  0%|          | 0/40 [00:00<?, ?it/s]"
      ]
     },
     "metadata": {},
     "output_type": "display_data"
    },
    {
     "name": "stdout",
     "output_type": "stream",
     "text": [
      "loss:45.456756591796875\n",
      "loss:132.7611083984375\n",
      "loss:104.02980041503906\n",
      "loss:51.61144256591797\n",
      "loss:70.78597259521484\n",
      "loss:104.79901123046875\n",
      "loss:113.69498443603516\n",
      "loss:78.7166976928711\n",
      "loss:72.4608154296875\n",
      "loss:64.11085510253906\n",
      "loss:138.60186767578125\n",
      "loss:92.43208312988281\n",
      "loss:87.90446472167969\n",
      "loss:87.5869140625\n",
      "loss:90.13074493408203\n",
      "loss:67.0692367553711\n",
      "loss:61.47248458862305\n",
      "loss:127.48345947265625\n",
      "loss:96.46812438964844\n",
      "loss:79.80502319335938\n",
      "loss:60.65386962890625\n",
      "loss:85.2851791381836\n",
      "loss:128.60549926757812\n",
      "loss:75.5483169555664\n",
      "loss:72.12916564941406\n",
      "loss:52.61756896972656\n",
      "loss:80.1785888671875\n",
      "loss:39.641082763671875\n",
      "loss:56.82537078857422\n",
      "loss:60.11885452270508\n",
      "loss:74.06652069091797\n",
      "loss:93.35256958007812\n",
      "loss:104.17027282714844\n",
      "loss:44.80495071411133\n",
      "loss:48.76491165161133\n",
      "loss:98.30741882324219\n",
      "loss:85.73599243164062\n",
      "loss:56.782928466796875\n",
      "loss:99.06048583984375\n",
      "loss:16.101486206054688\n"
     ]
    },
    {
     "data": {
      "application/vnd.jupyter.widget-view+json": {
       "model_id": "7c88dac3334f4f5b8dfa9b75e66ecd01",
       "version_major": 2,
       "version_minor": 0
      },
      "text/plain": [
       "  0%|          | 0/40 [00:00<?, ?it/s]"
      ]
     },
     "metadata": {},
     "output_type": "display_data"
    },
    {
     "name": "stdout",
     "output_type": "stream",
     "text": [
      "loss:63.475616455078125\n",
      "loss:79.33483123779297\n",
      "loss:120.91902160644531\n",
      "loss:96.68241882324219\n",
      "loss:66.98411560058594\n",
      "loss:84.90008544921875\n",
      "loss:76.49293518066406\n",
      "loss:73.59114074707031\n",
      "loss:66.60468292236328\n",
      "loss:65.70369720458984\n",
      "loss:92.53936767578125\n",
      "loss:52.4556884765625\n",
      "loss:134.2361297607422\n",
      "loss:67.62596130371094\n",
      "loss:46.64401626586914\n",
      "loss:65.86598205566406\n",
      "loss:69.23335266113281\n",
      "loss:119.5756607055664\n",
      "loss:56.20226287841797\n",
      "loss:88.65138244628906\n",
      "loss:82.63581085205078\n",
      "loss:64.02035522460938\n",
      "loss:110.86197662353516\n",
      "loss:101.05270385742188\n",
      "loss:70.77122497558594\n",
      "loss:99.86251831054688\n",
      "loss:60.40830993652344\n",
      "loss:55.31965255737305\n",
      "loss:46.795989990234375\n",
      "loss:50.7125244140625\n",
      "loss:89.61742401123047\n",
      "loss:83.23404693603516\n",
      "loss:72.6215591430664\n",
      "loss:70.8402099609375\n",
      "loss:107.98027038574219\n",
      "loss:88.94367218017578\n",
      "loss:68.52308654785156\n",
      "loss:107.10281372070312\n",
      "loss:93.79347229003906\n",
      "loss:134.4251251220703\n"
     ]
    },
    {
     "data": {
      "application/vnd.jupyter.widget-view+json": {
       "model_id": "6990b33f591a4f759e44d3f377f16a52",
       "version_major": 2,
       "version_minor": 0
      },
      "text/plain": [
       "  0%|          | 0/40 [00:00<?, ?it/s]"
      ]
     },
     "metadata": {},
     "output_type": "display_data"
    },
    {
     "name": "stdout",
     "output_type": "stream",
     "text": [
      "loss:89.77213287353516\n",
      "loss:87.71376037597656\n",
      "loss:110.66152954101562\n",
      "loss:71.7070541381836\n",
      "loss:65.59071350097656\n",
      "loss:54.634376525878906\n",
      "loss:89.36125183105469\n",
      "loss:46.105735778808594\n",
      "loss:50.61969757080078\n",
      "loss:102.32832336425781\n",
      "loss:107.23872375488281\n",
      "loss:100.48367309570312\n",
      "loss:53.418434143066406\n",
      "loss:68.41329956054688\n",
      "loss:35.20672607421875\n",
      "loss:86.51254272460938\n",
      "loss:77.86974334716797\n",
      "loss:62.103614807128906\n",
      "loss:88.27291107177734\n",
      "loss:86.97183227539062\n",
      "loss:70.71256256103516\n",
      "loss:92.91634368896484\n",
      "loss:66.0194320678711\n",
      "loss:79.8169174194336\n",
      "loss:91.89633178710938\n",
      "loss:95.50782775878906\n",
      "loss:110.59178161621094\n",
      "loss:62.74557113647461\n",
      "loss:87.25332641601562\n",
      "loss:38.336585998535156\n",
      "loss:92.25164031982422\n",
      "loss:134.04193115234375\n",
      "loss:32.25428771972656\n",
      "loss:74.3726806640625\n",
      "loss:69.20152282714844\n",
      "loss:72.52775573730469\n",
      "loss:33.31008529663086\n",
      "loss:116.21823120117188\n",
      "loss:94.2762222290039\n",
      "loss:224.27499389648438\n"
     ]
    },
    {
     "data": {
      "application/vnd.jupyter.widget-view+json": {
       "model_id": "f95f0ba58d3f48abaf75b0beb3fb3139",
       "version_major": 2,
       "version_minor": 0
      },
      "text/plain": [
       "  0%|          | 0/40 [00:00<?, ?it/s]"
      ]
     },
     "metadata": {},
     "output_type": "display_data"
    },
    {
     "name": "stdout",
     "output_type": "stream",
     "text": [
      "loss:98.86549377441406\n",
      "loss:124.7717056274414\n",
      "loss:54.95421600341797\n",
      "loss:80.7981185913086\n",
      "loss:61.58989715576172\n",
      "loss:98.20572662353516\n",
      "loss:41.281715393066406\n",
      "loss:85.33113098144531\n",
      "loss:65.4293441772461\n",
      "loss:78.10662841796875\n",
      "loss:74.57142639160156\n",
      "loss:64.85243225097656\n",
      "loss:73.62530517578125\n",
      "loss:76.4083480834961\n",
      "loss:84.58509826660156\n",
      "loss:38.586551666259766\n",
      "loss:93.9698486328125\n",
      "loss:90.06597137451172\n",
      "loss:64.32020568847656\n",
      "loss:55.31202697753906\n",
      "loss:83.75431823730469\n",
      "loss:62.022056579589844\n",
      "loss:110.71353149414062\n",
      "loss:57.687503814697266\n",
      "loss:89.8591537475586\n",
      "loss:63.0031623840332\n",
      "loss:73.3290023803711\n",
      "loss:84.09202575683594\n",
      "loss:82.03700256347656\n",
      "loss:74.6532211303711\n",
      "loss:93.34747314453125\n",
      "loss:116.56624603271484\n",
      "loss:62.92304611206055\n",
      "loss:74.27034759521484\n",
      "loss:89.45125579833984\n",
      "loss:34.68962097167969\n",
      "loss:118.44164276123047\n",
      "loss:43.653541564941406\n",
      "loss:84.59192657470703\n",
      "loss:61.3630485534668\n"
     ]
    },
    {
     "data": {
      "application/vnd.jupyter.widget-view+json": {
       "model_id": "91d2f32f3fc14934aa7e3265234d2297",
       "version_major": 2,
       "version_minor": 0
      },
      "text/plain": [
       "  0%|          | 0/40 [00:00<?, ?it/s]"
      ]
     },
     "metadata": {},
     "output_type": "display_data"
    },
    {
     "name": "stdout",
     "output_type": "stream",
     "text": [
      "loss:109.07560729980469\n",
      "loss:81.488037109375\n",
      "loss:102.5231704711914\n",
      "loss:81.5877685546875\n",
      "loss:43.586326599121094\n",
      "loss:53.87690353393555\n",
      "loss:26.587617874145508\n",
      "loss:78.73198699951172\n",
      "loss:80.47547149658203\n",
      "loss:82.34870147705078\n",
      "loss:65.55339813232422\n",
      "loss:42.54595184326172\n",
      "loss:72.52999877929688\n",
      "loss:62.764183044433594\n",
      "loss:65.12803649902344\n",
      "loss:62.20993423461914\n",
      "loss:64.89624786376953\n",
      "loss:98.54829406738281\n",
      "loss:69.52458953857422\n",
      "loss:95.80683135986328\n",
      "loss:54.93122100830078\n",
      "loss:80.82827758789062\n",
      "loss:97.1289291381836\n",
      "loss:73.95005798339844\n",
      "loss:70.3739013671875\n",
      "loss:84.5628890991211\n",
      "loss:74.53704833984375\n",
      "loss:97.62049865722656\n",
      "loss:90.73526763916016\n",
      "loss:80.43306732177734\n",
      "loss:70.34432983398438\n",
      "loss:76.80143737792969\n",
      "loss:107.05608367919922\n",
      "loss:67.03662872314453\n",
      "loss:83.37821960449219\n",
      "loss:50.767112731933594\n",
      "loss:78.21764373779297\n",
      "loss:66.63800811767578\n",
      "loss:106.85840606689453\n",
      "loss:66.5527114868164\n"
     ]
    },
    {
     "data": {
      "application/vnd.jupyter.widget-view+json": {
       "model_id": "0e05e9e0d0b84deb9b08a034b79d61a6",
       "version_major": 2,
       "version_minor": 0
      },
      "text/plain": [
       "  0%|          | 0/40 [00:00<?, ?it/s]"
      ]
     },
     "metadata": {},
     "output_type": "display_data"
    },
    {
     "name": "stdout",
     "output_type": "stream",
     "text": [
      "loss:118.05764770507812\n",
      "loss:95.27066802978516\n",
      "loss:39.98500061035156\n",
      "loss:61.31108093261719\n",
      "loss:87.69728088378906\n",
      "loss:42.54347229003906\n",
      "loss:79.07225799560547\n",
      "loss:55.87990951538086\n",
      "loss:78.57881927490234\n",
      "loss:98.71389770507812\n",
      "loss:49.08369064331055\n",
      "loss:73.12899017333984\n",
      "loss:95.47208404541016\n",
      "loss:98.02593231201172\n",
      "loss:91.72994995117188\n",
      "loss:81.72651672363281\n",
      "loss:94.56722259521484\n",
      "loss:56.79894256591797\n",
      "loss:96.60393524169922\n",
      "loss:48.12721252441406\n",
      "loss:80.90116882324219\n",
      "loss:104.4616470336914\n",
      "loss:64.4462890625\n",
      "loss:65.70686340332031\n",
      "loss:69.65032958984375\n",
      "loss:50.73115158081055\n",
      "loss:46.13092041015625\n",
      "loss:65.34386444091797\n",
      "loss:75.09762573242188\n",
      "loss:62.179420471191406\n",
      "loss:64.47688293457031\n",
      "loss:81.9139175415039\n",
      "loss:58.72691345214844\n",
      "loss:106.56629943847656\n",
      "loss:89.78549194335938\n",
      "loss:54.237125396728516\n",
      "loss:57.367191314697266\n",
      "loss:79.56831359863281\n",
      "loss:85.81971740722656\n",
      "loss:50.465179443359375\n"
     ]
    },
    {
     "data": {
      "application/vnd.jupyter.widget-view+json": {
       "model_id": "6ebc374a6ba44bafbb4e435987ea820f",
       "version_major": 2,
       "version_minor": 0
      },
      "text/plain": [
       "  0%|          | 0/40 [00:00<?, ?it/s]"
      ]
     },
     "metadata": {},
     "output_type": "display_data"
    },
    {
     "name": "stdout",
     "output_type": "stream",
     "text": [
      "loss:56.60790252685547\n",
      "loss:84.60317993164062\n",
      "loss:88.54594421386719\n",
      "loss:61.264583587646484\n",
      "loss:23.673307418823242\n",
      "loss:47.0364875793457\n",
      "loss:76.23739624023438\n",
      "loss:54.804237365722656\n",
      "loss:107.31964874267578\n",
      "loss:94.00434112548828\n",
      "loss:89.7770767211914\n",
      "loss:37.05867004394531\n",
      "loss:80.72242736816406\n",
      "loss:88.4068374633789\n",
      "loss:19.164133071899414\n",
      "loss:75.70623016357422\n",
      "loss:66.70169830322266\n",
      "loss:99.43817138671875\n",
      "loss:48.32347869873047\n",
      "loss:63.236488342285156\n",
      "loss:80.23876953125\n",
      "loss:129.1318359375\n",
      "loss:59.12486267089844\n",
      "loss:51.01091003417969\n",
      "loss:114.571044921875\n",
      "loss:69.26126098632812\n",
      "loss:87.33670043945312\n",
      "loss:82.77967071533203\n",
      "loss:58.35936737060547\n",
      "loss:62.205726623535156\n",
      "loss:58.69346237182617\n",
      "loss:83.1925277709961\n",
      "loss:92.26464080810547\n",
      "loss:61.90412139892578\n",
      "loss:88.2065658569336\n",
      "loss:73.88673400878906\n",
      "loss:82.7851791381836\n",
      "loss:76.553955078125\n",
      "loss:86.65372467041016\n",
      "loss:10.483370780944824\n"
     ]
    },
    {
     "data": {
      "application/vnd.jupyter.widget-view+json": {
       "model_id": "ab8bea738f2d4ea6bce7c81969fc397d",
       "version_major": 2,
       "version_minor": 0
      },
      "text/plain": [
       "  0%|          | 0/40 [00:00<?, ?it/s]"
      ]
     },
     "metadata": {},
     "output_type": "display_data"
    },
    {
     "name": "stdout",
     "output_type": "stream",
     "text": [
      "loss:99.52922058105469\n",
      "loss:38.03242874145508\n",
      "loss:77.15459442138672\n",
      "loss:96.9771728515625\n",
      "loss:81.79369354248047\n",
      "loss:78.06495666503906\n",
      "loss:98.18386840820312\n",
      "loss:42.10125732421875\n",
      "loss:90.19097137451172\n",
      "loss:84.6568374633789\n",
      "loss:61.709285736083984\n",
      "loss:66.06520080566406\n",
      "loss:63.694149017333984\n",
      "loss:89.06317138671875\n",
      "loss:73.71853637695312\n",
      "loss:50.367794036865234\n",
      "loss:73.82561492919922\n",
      "loss:109.50466918945312\n",
      "loss:53.0960807800293\n",
      "loss:79.4560546875\n",
      "loss:76.15316009521484\n",
      "loss:44.005733489990234\n",
      "loss:38.48203659057617\n",
      "loss:64.59576416015625\n",
      "loss:48.30270004272461\n",
      "loss:58.046756744384766\n",
      "loss:58.58095932006836\n",
      "loss:59.699913024902344\n",
      "loss:74.2926254272461\n",
      "loss:72.3772201538086\n",
      "loss:52.23493576049805\n",
      "loss:80.94822692871094\n",
      "loss:73.60115814208984\n",
      "loss:61.74104690551758\n",
      "loss:54.891021728515625\n",
      "loss:93.60516357421875\n",
      "loss:127.07706451416016\n",
      "loss:95.25801849365234\n",
      "loss:76.06407928466797\n",
      "loss:3.3166491985321045\n"
     ]
    },
    {
     "data": {
      "application/vnd.jupyter.widget-view+json": {
       "model_id": "c858d07800d545a99532b317f73e818d",
       "version_major": 2,
       "version_minor": 0
      },
      "text/plain": [
       "  0%|          | 0/40 [00:00<?, ?it/s]"
      ]
     },
     "metadata": {},
     "output_type": "display_data"
    },
    {
     "name": "stdout",
     "output_type": "stream",
     "text": [
      "loss:74.39339447021484\n",
      "loss:61.9425163269043\n",
      "loss:95.07833862304688\n",
      "loss:114.19216918945312\n",
      "loss:61.296119689941406\n",
      "loss:50.505672454833984\n",
      "loss:72.96472930908203\n",
      "loss:71.33070373535156\n",
      "loss:70.16267395019531\n",
      "loss:42.119041442871094\n",
      "loss:65.9389877319336\n",
      "loss:95.38963317871094\n",
      "loss:84.56157684326172\n",
      "loss:50.17811965942383\n",
      "loss:62.47430419921875\n",
      "loss:76.66857147216797\n",
      "loss:65.35263061523438\n",
      "loss:78.07389831542969\n",
      "loss:75.16240692138672\n",
      "loss:73.64585876464844\n",
      "loss:76.77054595947266\n",
      "loss:66.52376556396484\n",
      "loss:83.67225646972656\n",
      "loss:110.06503295898438\n",
      "loss:43.26211166381836\n",
      "loss:56.362449645996094\n",
      "loss:58.726348876953125\n",
      "loss:73.58721923828125\n",
      "loss:62.795406341552734\n",
      "loss:69.45281982421875\n",
      "loss:81.88922882080078\n",
      "loss:67.1739273071289\n",
      "loss:62.124122619628906\n",
      "loss:48.317413330078125\n",
      "loss:61.732913970947266\n",
      "loss:97.85423278808594\n",
      "loss:83.75083923339844\n",
      "loss:29.854738235473633\n",
      "loss:98.14102935791016\n",
      "loss:15.029937744140625\n"
     ]
    },
    {
     "data": {
      "application/vnd.jupyter.widget-view+json": {
       "model_id": "64bd8cd291de4261983dee2d7266fea5",
       "version_major": 2,
       "version_minor": 0
      },
      "text/plain": [
       "  0%|          | 0/40 [00:00<?, ?it/s]"
      ]
     },
     "metadata": {},
     "output_type": "display_data"
    },
    {
     "name": "stdout",
     "output_type": "stream",
     "text": [
      "loss:82.63970184326172\n",
      "loss:86.98832702636719\n",
      "loss:62.1654052734375\n",
      "loss:69.78719329833984\n",
      "loss:70.85374450683594\n",
      "loss:71.43574523925781\n",
      "loss:30.6734619140625\n",
      "loss:112.01969146728516\n",
      "loss:71.1977310180664\n",
      "loss:85.01864624023438\n",
      "loss:64.18220520019531\n",
      "loss:55.32216262817383\n",
      "loss:67.3780746459961\n",
      "loss:95.32548522949219\n",
      "loss:55.8583869934082\n",
      "loss:32.634857177734375\n",
      "loss:51.98667526245117\n",
      "loss:103.5058364868164\n",
      "loss:89.20868682861328\n",
      "loss:69.08509063720703\n",
      "loss:53.900421142578125\n",
      "loss:23.29912757873535\n",
      "loss:63.06968307495117\n",
      "loss:60.888736724853516\n",
      "loss:58.32770919799805\n",
      "loss:66.91719818115234\n",
      "loss:63.139583587646484\n",
      "loss:86.59027862548828\n",
      "loss:70.02154541015625\n",
      "loss:79.42706298828125\n",
      "loss:44.07180404663086\n",
      "loss:64.04975891113281\n",
      "loss:88.38314819335938\n",
      "loss:87.62541961669922\n",
      "loss:67.43765258789062\n",
      "loss:59.659393310546875\n",
      "loss:58.359527587890625\n",
      "loss:120.60718536376953\n",
      "loss:90.45435333251953\n",
      "loss:0.019556060433387756\n"
     ]
    },
    {
     "data": {
      "application/vnd.jupyter.widget-view+json": {
       "model_id": "16cce9d4095a4be7b25ecf52eec42bd8",
       "version_major": 2,
       "version_minor": 0
      },
      "text/plain": [
       "  0%|          | 0/40 [00:00<?, ?it/s]"
      ]
     },
     "metadata": {},
     "output_type": "display_data"
    },
    {
     "name": "stdout",
     "output_type": "stream",
     "text": [
      "loss:69.95247650146484\n",
      "loss:61.20650100708008\n",
      "loss:94.53376770019531\n",
      "loss:78.6191635131836\n",
      "loss:43.64667510986328\n",
      "loss:60.43491744995117\n",
      "loss:75.72608947753906\n",
      "loss:79.77528381347656\n",
      "loss:72.03289031982422\n",
      "loss:80.82472229003906\n",
      "loss:78.3804702758789\n",
      "loss:43.27494430541992\n",
      "loss:46.16627502441406\n",
      "loss:55.980037689208984\n",
      "loss:117.99561309814453\n",
      "loss:136.0693359375\n",
      "loss:48.645263671875\n",
      "loss:81.73677825927734\n",
      "loss:81.47798156738281\n",
      "loss:36.28739929199219\n",
      "loss:49.25498580932617\n",
      "loss:73.64801788330078\n",
      "loss:70.01443481445312\n",
      "loss:102.0711669921875\n",
      "loss:65.63026428222656\n",
      "loss:55.780879974365234\n",
      "loss:61.610572814941406\n",
      "loss:49.4420280456543\n",
      "loss:59.17177963256836\n",
      "loss:107.53121185302734\n",
      "loss:39.61613845825195\n",
      "loss:70.36898040771484\n",
      "loss:52.570106506347656\n",
      "loss:50.94684600830078\n",
      "loss:91.6380386352539\n",
      "loss:49.39781951904297\n",
      "loss:60.12141799926758\n",
      "loss:55.34992218017578\n",
      "loss:81.27252960205078\n",
      "loss:121.381103515625\n"
     ]
    },
    {
     "data": {
      "application/vnd.jupyter.widget-view+json": {
       "model_id": "e15815ae820644f3a81cd4be00390aaa",
       "version_major": 2,
       "version_minor": 0
      },
      "text/plain": [
       "  0%|          | 0/40 [00:00<?, ?it/s]"
      ]
     },
     "metadata": {},
     "output_type": "display_data"
    },
    {
     "name": "stdout",
     "output_type": "stream",
     "text": [
      "loss:92.99536895751953\n",
      "loss:71.13655853271484\n",
      "loss:67.92265319824219\n",
      "loss:89.0492172241211\n",
      "loss:54.59503936767578\n",
      "loss:67.02976989746094\n",
      "loss:101.35955047607422\n",
      "loss:56.04517364501953\n",
      "loss:75.17529296875\n",
      "loss:90.22905731201172\n",
      "loss:71.03256225585938\n",
      "loss:112.14839935302734\n",
      "loss:50.62206268310547\n",
      "loss:75.792724609375\n",
      "loss:45.30548095703125\n",
      "loss:56.72357940673828\n",
      "loss:102.7950668334961\n",
      "loss:37.4810676574707\n",
      "loss:92.74516296386719\n",
      "loss:60.1471061706543\n",
      "loss:78.33364868164062\n",
      "loss:46.03404998779297\n",
      "loss:48.600730895996094\n",
      "loss:66.45808410644531\n",
      "loss:51.41719436645508\n",
      "loss:41.879432678222656\n",
      "loss:69.63934326171875\n",
      "loss:43.714656829833984\n",
      "loss:82.75668334960938\n",
      "loss:63.88583755493164\n",
      "loss:87.55392456054688\n",
      "loss:47.30436706542969\n",
      "loss:62.08674240112305\n",
      "loss:39.73055648803711\n",
      "loss:71.067626953125\n",
      "loss:77.2817611694336\n",
      "loss:84.5228042602539\n",
      "loss:64.64144134521484\n",
      "loss:60.052391052246094\n",
      "loss:23.37238311767578\n"
     ]
    },
    {
     "data": {
      "application/vnd.jupyter.widget-view+json": {
       "model_id": "2928b5d0cea543bc9ef5617b42abf904",
       "version_major": 2,
       "version_minor": 0
      },
      "text/plain": [
       "  0%|          | 0/40 [00:00<?, ?it/s]"
      ]
     },
     "metadata": {},
     "output_type": "display_data"
    },
    {
     "name": "stdout",
     "output_type": "stream",
     "text": [
      "loss:76.98377227783203\n",
      "loss:50.887062072753906\n",
      "loss:64.03681945800781\n",
      "loss:56.8246955871582\n",
      "loss:62.90204620361328\n",
      "loss:80.2298583984375\n",
      "loss:50.776546478271484\n",
      "loss:59.26615905761719\n",
      "loss:69.29744720458984\n",
      "loss:69.03945922851562\n",
      "loss:101.24263000488281\n",
      "loss:56.50284957885742\n",
      "loss:73.76666259765625\n",
      "loss:35.24565124511719\n",
      "loss:65.08383178710938\n",
      "loss:61.97803497314453\n",
      "loss:63.96120834350586\n",
      "loss:71.40345001220703\n",
      "loss:73.43624114990234\n",
      "loss:55.75784683227539\n",
      "loss:95.64362335205078\n",
      "loss:66.18156433105469\n",
      "loss:63.78229904174805\n",
      "loss:79.57638549804688\n",
      "loss:86.41156005859375\n",
      "loss:62.5777702331543\n",
      "loss:82.21363067626953\n",
      "loss:53.318580627441406\n",
      "loss:72.09612274169922\n",
      "loss:62.94862365722656\n",
      "loss:92.53582000732422\n",
      "loss:79.5260238647461\n",
      "loss:85.17548370361328\n",
      "loss:62.49026107788086\n",
      "loss:88.40486145019531\n",
      "loss:56.56730270385742\n",
      "loss:28.699554443359375\n",
      "loss:45.08184814453125\n",
      "loss:51.58501052856445\n",
      "loss:120.2704849243164\n"
     ]
    },
    {
     "data": {
      "application/vnd.jupyter.widget-view+json": {
       "model_id": "85dc7a62df2b4b1287d2d042d1233a1e",
       "version_major": 2,
       "version_minor": 0
      },
      "text/plain": [
       "  0%|          | 0/40 [00:00<?, ?it/s]"
      ]
     },
     "metadata": {},
     "output_type": "display_data"
    },
    {
     "name": "stdout",
     "output_type": "stream",
     "text": [
      "loss:46.55327606201172\n",
      "loss:54.17902374267578\n",
      "loss:79.88106536865234\n",
      "loss:83.1994857788086\n",
      "loss:93.44639587402344\n",
      "loss:60.819332122802734\n",
      "loss:44.59726333618164\n",
      "loss:97.1540756225586\n",
      "loss:88.66224670410156\n",
      "loss:63.679283142089844\n",
      "loss:79.59036254882812\n",
      "loss:61.874534606933594\n",
      "loss:55.570926666259766\n",
      "loss:82.55509185791016\n",
      "loss:45.14216613769531\n",
      "loss:63.91455078125\n",
      "loss:67.56790924072266\n",
      "loss:42.240989685058594\n",
      "loss:47.23762893676758\n",
      "loss:47.39460754394531\n",
      "loss:113.14537811279297\n",
      "loss:60.72107696533203\n",
      "loss:53.6274528503418\n",
      "loss:42.3803825378418\n",
      "loss:71.05909729003906\n",
      "loss:61.63148880004883\n",
      "loss:84.45982360839844\n",
      "loss:79.25330352783203\n",
      "loss:87.46443176269531\n",
      "loss:104.98191833496094\n",
      "loss:45.82633590698242\n",
      "loss:40.45464324951172\n",
      "loss:85.37149810791016\n",
      "loss:35.57643127441406\n",
      "loss:85.79887390136719\n",
      "loss:49.42302703857422\n",
      "loss:47.16379928588867\n",
      "loss:73.89685821533203\n",
      "loss:47.61765670776367\n",
      "loss:161.00991821289062\n"
     ]
    },
    {
     "data": {
      "application/vnd.jupyter.widget-view+json": {
       "model_id": "99c55fdddfb14cf8af5b4da2b133d1e5",
       "version_major": 2,
       "version_minor": 0
      },
      "text/plain": [
       "  0%|          | 0/40 [00:00<?, ?it/s]"
      ]
     },
     "metadata": {},
     "output_type": "display_data"
    },
    {
     "name": "stdout",
     "output_type": "stream",
     "text": [
      "loss:57.92181396484375\n",
      "loss:47.06658935546875\n",
      "loss:72.17514038085938\n",
      "loss:74.13508605957031\n",
      "loss:67.56707000732422\n",
      "loss:61.860042572021484\n",
      "loss:50.98893356323242\n",
      "loss:72.95922088623047\n",
      "loss:42.56877517700195\n",
      "loss:61.008628845214844\n",
      "loss:66.3016357421875\n",
      "loss:44.4495849609375\n",
      "loss:108.4201431274414\n",
      "loss:76.85618591308594\n",
      "loss:69.82826232910156\n",
      "loss:66.55210876464844\n",
      "loss:75.6181640625\n",
      "loss:47.12240982055664\n",
      "loss:44.700260162353516\n",
      "loss:70.44347381591797\n",
      "loss:57.96628952026367\n",
      "loss:52.0683479309082\n",
      "loss:36.86785888671875\n",
      "loss:65.3804931640625\n",
      "loss:68.50933074951172\n",
      "loss:42.9302864074707\n",
      "loss:53.76361083984375\n",
      "loss:50.646141052246094\n",
      "loss:47.1164665222168\n",
      "loss:74.76174926757812\n",
      "loss:138.53543090820312\n",
      "loss:83.55425262451172\n",
      "loss:112.1989974975586\n",
      "loss:53.20279312133789\n",
      "loss:73.03771209716797\n",
      "loss:31.198898315429688\n",
      "loss:48.78022003173828\n",
      "loss:96.70093536376953\n",
      "loss:82.9903793334961\n",
      "loss:8.285564422607422\n"
     ]
    },
    {
     "data": {
      "application/vnd.jupyter.widget-view+json": {
       "model_id": "c5b43199b67944fdac88a726af2bc007",
       "version_major": 2,
       "version_minor": 0
      },
      "text/plain": [
       "  0%|          | 0/40 [00:00<?, ?it/s]"
      ]
     },
     "metadata": {},
     "output_type": "display_data"
    },
    {
     "name": "stdout",
     "output_type": "stream",
     "text": [
      "loss:83.04237365722656\n",
      "loss:53.00617980957031\n",
      "loss:92.53001403808594\n",
      "loss:64.35140991210938\n",
      "loss:52.974430084228516\n",
      "loss:33.7341423034668\n",
      "loss:81.03714752197266\n",
      "loss:38.61071014404297\n",
      "loss:62.477882385253906\n",
      "loss:104.6290054321289\n",
      "loss:50.7617073059082\n",
      "loss:95.74199676513672\n",
      "loss:62.46308898925781\n",
      "loss:76.26416778564453\n",
      "loss:71.05811309814453\n",
      "loss:66.47276306152344\n",
      "loss:83.28729248046875\n",
      "loss:54.24894714355469\n",
      "loss:75.07109069824219\n",
      "loss:77.5738525390625\n",
      "loss:72.94881439208984\n",
      "loss:50.00562286376953\n",
      "loss:25.954320907592773\n",
      "loss:81.22026062011719\n",
      "loss:74.1754379272461\n",
      "loss:39.9503059387207\n",
      "loss:75.39923095703125\n",
      "loss:94.81295776367188\n",
      "loss:54.04229736328125\n",
      "loss:68.3040771484375\n",
      "loss:94.01823425292969\n",
      "loss:57.54996871948242\n",
      "loss:62.41048812866211\n",
      "loss:53.637420654296875\n",
      "loss:54.27686309814453\n",
      "loss:34.82067108154297\n",
      "loss:61.94456481933594\n",
      "loss:58.47562789916992\n",
      "loss:24.696340560913086\n",
      "loss:0.7199704647064209\n"
     ]
    },
    {
     "data": {
      "application/vnd.jupyter.widget-view+json": {
       "model_id": "59c787bbef6b4bec9fa9279e2690d80b",
       "version_major": 2,
       "version_minor": 0
      },
      "text/plain": [
       "  0%|          | 0/40 [00:00<?, ?it/s]"
      ]
     },
     "metadata": {},
     "output_type": "display_data"
    },
    {
     "name": "stdout",
     "output_type": "stream",
     "text": [
      "loss:83.00811767578125\n",
      "loss:53.610572814941406\n",
      "loss:73.1679458618164\n",
      "loss:80.76176452636719\n",
      "loss:64.70672607421875\n",
      "loss:53.153846740722656\n",
      "loss:59.36692428588867\n",
      "loss:53.97855758666992\n",
      "loss:55.214778900146484\n",
      "loss:54.704200744628906\n",
      "loss:58.05458068847656\n",
      "loss:94.73856353759766\n",
      "loss:53.79686737060547\n",
      "loss:87.75534057617188\n",
      "loss:63.6173095703125\n",
      "loss:53.5546760559082\n",
      "loss:73.67124938964844\n",
      "loss:77.61433410644531\n",
      "loss:35.93326187133789\n",
      "loss:53.090938568115234\n",
      "loss:58.316322326660156\n",
      "loss:51.608463287353516\n",
      "loss:62.771270751953125\n",
      "loss:49.70877456665039\n",
      "loss:84.42417907714844\n",
      "loss:70.15584564208984\n",
      "loss:58.48869323730469\n",
      "loss:61.37269592285156\n",
      "loss:49.30219650268555\n",
      "loss:55.440818786621094\n",
      "loss:95.19229888916016\n",
      "loss:68.11128997802734\n",
      "loss:136.7423858642578\n",
      "loss:60.983642578125\n",
      "loss:49.588226318359375\n",
      "loss:48.19966125488281\n",
      "loss:38.172157287597656\n",
      "loss:44.67486572265625\n",
      "loss:59.330474853515625\n",
      "loss:13.797598838806152\n"
     ]
    },
    {
     "data": {
      "application/vnd.jupyter.widget-view+json": {
       "model_id": "56e0c30d79a442d9b4feab029177c58f",
       "version_major": 2,
       "version_minor": 0
      },
      "text/plain": [
       "  0%|          | 0/40 [00:00<?, ?it/s]"
      ]
     },
     "metadata": {},
     "output_type": "display_data"
    },
    {
     "name": "stdout",
     "output_type": "stream",
     "text": [
      "loss:42.585533142089844\n",
      "loss:73.48468017578125\n",
      "loss:55.348995208740234\n",
      "loss:59.477970123291016\n",
      "loss:105.19615173339844\n",
      "loss:54.325008392333984\n",
      "loss:69.74850463867188\n",
      "loss:68.33480834960938\n",
      "loss:68.41685485839844\n",
      "loss:71.22206115722656\n",
      "loss:54.529205322265625\n",
      "loss:58.89215850830078\n",
      "loss:41.42512130737305\n",
      "loss:73.4747085571289\n",
      "loss:46.01112365722656\n",
      "loss:58.13334655761719\n",
      "loss:61.467777252197266\n",
      "loss:76.39665222167969\n",
      "loss:61.233577728271484\n",
      "loss:44.02540588378906\n",
      "loss:47.16941833496094\n",
      "loss:50.40789031982422\n",
      "loss:47.80576705932617\n",
      "loss:69.68229675292969\n",
      "loss:68.33184814453125\n",
      "loss:77.95233154296875\n",
      "loss:70.96566009521484\n",
      "loss:77.66265106201172\n",
      "loss:66.51388549804688\n",
      "loss:61.092491149902344\n",
      "loss:50.49944305419922\n",
      "loss:85.79248046875\n",
      "loss:44.92902374267578\n",
      "loss:37.4110107421875\n",
      "loss:75.63087463378906\n",
      "loss:54.686283111572266\n",
      "loss:93.79298400878906\n",
      "loss:78.51144409179688\n",
      "loss:46.93453598022461\n",
      "loss:112.80493927001953\n"
     ]
    },
    {
     "data": {
      "application/vnd.jupyter.widget-view+json": {
       "model_id": "29d833faa12d45fab30ef2955e1850c8",
       "version_major": 2,
       "version_minor": 0
      },
      "text/plain": [
       "  0%|          | 0/40 [00:00<?, ?it/s]"
      ]
     },
     "metadata": {},
     "output_type": "display_data"
    },
    {
     "name": "stdout",
     "output_type": "stream",
     "text": [
      "loss:77.57766723632812\n",
      "loss:50.96070098876953\n",
      "loss:69.3681640625\n",
      "loss:68.5240478515625\n",
      "loss:70.65501403808594\n",
      "loss:57.26252365112305\n",
      "loss:49.30600357055664\n",
      "loss:55.04270935058594\n",
      "loss:47.36905288696289\n",
      "loss:85.83506774902344\n",
      "loss:91.64082336425781\n",
      "loss:34.444393157958984\n",
      "loss:38.35614776611328\n",
      "loss:72.63580322265625\n",
      "loss:73.91384887695312\n",
      "loss:37.2778434753418\n",
      "loss:117.20309448242188\n",
      "loss:58.561092376708984\n",
      "loss:45.40763473510742\n",
      "loss:67.0180435180664\n",
      "loss:93.99910736083984\n",
      "loss:46.804012298583984\n",
      "loss:34.56272888183594\n",
      "loss:62.876792907714844\n",
      "loss:42.66632080078125\n",
      "loss:66.33114624023438\n",
      "loss:58.572513580322266\n",
      "loss:33.282649993896484\n",
      "loss:67.16883850097656\n",
      "loss:62.65950012207031\n",
      "loss:67.30391693115234\n",
      "loss:95.750732421875\n",
      "loss:60.86528396606445\n",
      "loss:55.866695404052734\n",
      "loss:60.57331085205078\n",
      "loss:53.77790069580078\n",
      "loss:53.964229583740234\n",
      "loss:47.142024993896484\n",
      "loss:79.32194519042969\n",
      "loss:252.46067810058594\n"
     ]
    },
    {
     "data": {
      "application/vnd.jupyter.widget-view+json": {
       "model_id": "21a6ecbeec6142e387c404cbdaf97421",
       "version_major": 2,
       "version_minor": 0
      },
      "text/plain": [
       "  0%|          | 0/40 [00:00<?, ?it/s]"
      ]
     },
     "metadata": {},
     "output_type": "display_data"
    },
    {
     "name": "stdout",
     "output_type": "stream",
     "text": [
      "loss:39.52362823486328\n",
      "loss:63.938995361328125\n",
      "loss:64.05905151367188\n",
      "loss:92.03044891357422\n",
      "loss:39.341407775878906\n",
      "loss:78.25260162353516\n",
      "loss:46.3181266784668\n",
      "loss:71.7712173461914\n",
      "loss:48.60335159301758\n",
      "loss:40.05879592895508\n",
      "loss:60.09669876098633\n",
      "loss:84.79064178466797\n",
      "loss:54.69991683959961\n",
      "loss:44.926673889160156\n",
      "loss:44.332427978515625\n",
      "loss:70.66988372802734\n",
      "loss:63.182891845703125\n",
      "loss:42.24534606933594\n",
      "loss:65.6260986328125\n",
      "loss:39.8895263671875\n",
      "loss:56.539268493652344\n",
      "loss:71.91822052001953\n",
      "loss:86.76001739501953\n",
      "loss:76.89531707763672\n",
      "loss:65.83641052246094\n",
      "loss:66.21532440185547\n",
      "loss:41.765724182128906\n",
      "loss:62.56692123413086\n",
      "loss:47.194217681884766\n",
      "loss:91.09864044189453\n",
      "loss:68.33503723144531\n",
      "loss:37.983970642089844\n",
      "loss:90.9034652709961\n",
      "loss:62.14071273803711\n",
      "loss:79.71688079833984\n",
      "loss:62.730098724365234\n",
      "loss:51.100894927978516\n",
      "loss:46.33285140991211\n",
      "loss:76.49115753173828\n",
      "loss:69.73644256591797\n"
     ]
    },
    {
     "data": {
      "application/vnd.jupyter.widget-view+json": {
       "model_id": "bbb6bbcde1184382ba393e45499f7ab5",
       "version_major": 2,
       "version_minor": 0
      },
      "text/plain": [
       "  0%|          | 0/40 [00:00<?, ?it/s]"
      ]
     },
     "metadata": {},
     "output_type": "display_data"
    },
    {
     "name": "stdout",
     "output_type": "stream",
     "text": [
      "loss:59.34294128417969\n",
      "loss:60.17797088623047\n",
      "loss:60.1908073425293\n",
      "loss:46.368865966796875\n",
      "loss:56.78654479980469\n",
      "loss:77.7642822265625\n",
      "loss:55.69789505004883\n",
      "loss:86.66936492919922\n",
      "loss:69.21923828125\n",
      "loss:39.86508560180664\n",
      "loss:72.5105209350586\n",
      "loss:47.83281707763672\n",
      "loss:60.7196159362793\n",
      "loss:38.67115020751953\n",
      "loss:101.15983581542969\n",
      "loss:67.35054016113281\n",
      "loss:62.48064422607422\n",
      "loss:52.892948150634766\n",
      "loss:65.46255493164062\n",
      "loss:68.27814483642578\n",
      "loss:51.29392623901367\n",
      "loss:64.14484405517578\n",
      "loss:39.370487213134766\n",
      "loss:97.21375274658203\n",
      "loss:39.19797897338867\n",
      "loss:34.37358856201172\n",
      "loss:61.11840057373047\n",
      "loss:57.782920837402344\n",
      "loss:67.22669982910156\n",
      "loss:68.75198364257812\n",
      "loss:35.40147399902344\n",
      "loss:86.6630859375\n",
      "loss:91.84815979003906\n",
      "loss:50.36823654174805\n",
      "loss:67.59896087646484\n",
      "loss:45.09599304199219\n",
      "loss:40.63047790527344\n",
      "loss:52.812255859375\n",
      "loss:65.056640625\n",
      "loss:90.70087432861328\n"
     ]
    },
    {
     "data": {
      "application/vnd.jupyter.widget-view+json": {
       "model_id": "74505708f838409da28f7490b20fb6d2",
       "version_major": 2,
       "version_minor": 0
      },
      "text/plain": [
       "  0%|          | 0/40 [00:00<?, ?it/s]"
      ]
     },
     "metadata": {},
     "output_type": "display_data"
    },
    {
     "name": "stdout",
     "output_type": "stream",
     "text": [
      "loss:52.15220260620117\n",
      "loss:64.2386474609375\n",
      "loss:39.590728759765625\n",
      "loss:46.38153076171875\n",
      "loss:64.59451293945312\n",
      "loss:64.44163513183594\n",
      "loss:64.17251586914062\n",
      "loss:75.20645904541016\n",
      "loss:60.74609375\n",
      "loss:69.81240844726562\n",
      "loss:55.758426666259766\n",
      "loss:66.56046295166016\n",
      "loss:48.91310119628906\n",
      "loss:23.609182357788086\n",
      "loss:36.67068862915039\n",
      "loss:65.5190658569336\n",
      "loss:62.60786437988281\n",
      "loss:42.8361701965332\n",
      "loss:74.52201080322266\n",
      "loss:102.95610046386719\n",
      "loss:82.11974334716797\n",
      "loss:44.233524322509766\n",
      "loss:50.316524505615234\n",
      "loss:71.19259643554688\n",
      "loss:35.418312072753906\n",
      "loss:64.33689880371094\n",
      "loss:79.46160888671875\n",
      "loss:80.56961059570312\n",
      "loss:79.284912109375\n",
      "loss:69.3208999633789\n",
      "loss:51.10538864135742\n",
      "loss:59.005985260009766\n",
      "loss:73.44486236572266\n",
      "loss:54.225791931152344\n",
      "loss:70.83056640625\n",
      "loss:29.87782096862793\n",
      "loss:46.45027160644531\n",
      "loss:57.988441467285156\n",
      "loss:63.898353576660156\n",
      "loss:6.337421894073486\n"
     ]
    },
    {
     "data": {
      "application/vnd.jupyter.widget-view+json": {
       "model_id": "69206a5716ec447bbf4864005427af82",
       "version_major": 2,
       "version_minor": 0
      },
      "text/plain": [
       "  0%|          | 0/40 [00:00<?, ?it/s]"
      ]
     },
     "metadata": {},
     "output_type": "display_data"
    },
    {
     "name": "stdout",
     "output_type": "stream",
     "text": [
      "loss:49.46366882324219\n",
      "loss:71.46492767333984\n",
      "loss:48.3111572265625\n",
      "loss:67.00029754638672\n",
      "loss:44.082557678222656\n",
      "loss:94.0415267944336\n",
      "loss:18.202693939208984\n",
      "loss:63.19206237792969\n",
      "loss:85.00664520263672\n",
      "loss:65.32195281982422\n",
      "loss:43.593143463134766\n",
      "loss:81.78609466552734\n",
      "loss:37.19382858276367\n",
      "loss:45.985599517822266\n",
      "loss:67.6275634765625\n",
      "loss:52.004608154296875\n",
      "loss:36.12526321411133\n",
      "loss:54.00320816040039\n",
      "loss:78.40160369873047\n",
      "loss:31.75554084777832\n",
      "loss:51.60174560546875\n",
      "loss:66.29893493652344\n",
      "loss:89.64066314697266\n",
      "loss:71.83574676513672\n",
      "loss:66.41201782226562\n",
      "loss:60.85996627807617\n",
      "loss:36.69212341308594\n",
      "loss:53.05239486694336\n",
      "loss:62.548343658447266\n",
      "loss:49.29094314575195\n",
      "loss:56.502227783203125\n",
      "loss:73.77967071533203\n",
      "loss:64.28673553466797\n",
      "loss:77.03778839111328\n",
      "loss:68.02954864501953\n",
      "loss:50.07756423950195\n",
      "loss:54.62742614746094\n",
      "loss:84.71919250488281\n",
      "loss:45.79383087158203\n",
      "loss:38.63435745239258\n"
     ]
    },
    {
     "data": {
      "application/vnd.jupyter.widget-view+json": {
       "model_id": "bc9ba104dcc34926a4c144589d156083",
       "version_major": 2,
       "version_minor": 0
      },
      "text/plain": [
       "  0%|          | 0/40 [00:00<?, ?it/s]"
      ]
     },
     "metadata": {},
     "output_type": "display_data"
    },
    {
     "name": "stdout",
     "output_type": "stream",
     "text": [
      "loss:82.07244110107422\n",
      "loss:40.79669952392578\n",
      "loss:51.421775817871094\n",
      "loss:47.5507698059082\n",
      "loss:47.53061294555664\n",
      "loss:37.90626525878906\n",
      "loss:49.95326232910156\n",
      "loss:69.74488830566406\n",
      "loss:47.538780212402344\n",
      "loss:48.481109619140625\n",
      "loss:38.13039016723633\n",
      "loss:78.87329864501953\n",
      "loss:25.762968063354492\n",
      "loss:64.26979064941406\n",
      "loss:73.41789245605469\n",
      "loss:30.401657104492188\n",
      "loss:35.158546447753906\n",
      "loss:93.63291931152344\n",
      "loss:55.5867919921875\n",
      "loss:58.28999328613281\n",
      "loss:53.833473205566406\n",
      "loss:65.6722412109375\n",
      "loss:35.57118225097656\n",
      "loss:85.89225006103516\n",
      "loss:60.422176361083984\n",
      "loss:84.08417510986328\n",
      "loss:35.065120697021484\n",
      "loss:64.88162994384766\n",
      "loss:67.82563018798828\n",
      "loss:83.12989807128906\n",
      "loss:48.548194885253906\n",
      "loss:54.15542221069336\n",
      "loss:62.116397857666016\n",
      "loss:52.68941116333008\n",
      "loss:92.95014190673828\n",
      "loss:61.22285461425781\n",
      "loss:61.683082580566406\n",
      "loss:111.5941390991211\n",
      "loss:38.10807800292969\n",
      "loss:3.3873836994171143\n"
     ]
    },
    {
     "data": {
      "application/vnd.jupyter.widget-view+json": {
       "model_id": "5d3f73a72966491b903427a56e628d0d",
       "version_major": 2,
       "version_minor": 0
      },
      "text/plain": [
       "  0%|          | 0/40 [00:00<?, ?it/s]"
      ]
     },
     "metadata": {},
     "output_type": "display_data"
    },
    {
     "name": "stdout",
     "output_type": "stream",
     "text": [
      "loss:57.09836196899414\n",
      "loss:71.80904388427734\n",
      "loss:50.26121520996094\n",
      "loss:67.28923797607422\n",
      "loss:48.29694747924805\n",
      "loss:25.920087814331055\n",
      "loss:76.5428237915039\n",
      "loss:50.82100296020508\n",
      "loss:52.998138427734375\n",
      "loss:47.31062316894531\n",
      "loss:61.17206573486328\n",
      "loss:54.68589401245117\n",
      "loss:31.228519439697266\n",
      "loss:81.38522338867188\n",
      "loss:56.6191291809082\n",
      "loss:49.47624206542969\n",
      "loss:40.04099655151367\n",
      "loss:42.87644577026367\n",
      "loss:64.20197296142578\n",
      "loss:60.618560791015625\n",
      "loss:60.506927490234375\n",
      "loss:102.187744140625\n",
      "loss:52.41011047363281\n",
      "loss:60.40046691894531\n",
      "loss:83.57688903808594\n",
      "loss:66.9075698852539\n",
      "loss:50.64955520629883\n",
      "loss:67.67118835449219\n",
      "loss:29.840423583984375\n",
      "loss:44.52370071411133\n",
      "loss:66.82891845703125\n",
      "loss:64.3853759765625\n",
      "loss:41.348087310791016\n",
      "loss:43.087188720703125\n",
      "loss:44.63206481933594\n",
      "loss:72.76793670654297\n",
      "loss:88.06658935546875\n",
      "loss:52.2796516418457\n",
      "loss:81.54257202148438\n",
      "loss:137.48849487304688\n"
     ]
    },
    {
     "data": {
      "application/vnd.jupyter.widget-view+json": {
       "model_id": "dbc4c5df5bf04fc696d79589780f65bb",
       "version_major": 2,
       "version_minor": 0
      },
      "text/plain": [
       "  0%|          | 0/40 [00:00<?, ?it/s]"
      ]
     },
     "metadata": {},
     "output_type": "display_data"
    },
    {
     "name": "stdout",
     "output_type": "stream",
     "text": [
      "loss:48.513031005859375\n",
      "loss:48.05678939819336\n",
      "loss:63.58905029296875\n",
      "loss:27.513425827026367\n",
      "loss:37.18904495239258\n",
      "loss:51.8675651550293\n",
      "loss:51.66633224487305\n",
      "loss:64.23039245605469\n",
      "loss:52.15141296386719\n",
      "loss:77.12934112548828\n",
      "loss:52.36613464355469\n",
      "loss:81.28836822509766\n",
      "loss:88.6973876953125\n",
      "loss:54.17339324951172\n",
      "loss:61.56029510498047\n",
      "loss:64.44883728027344\n",
      "loss:55.30874252319336\n",
      "loss:64.30979919433594\n",
      "loss:37.71611785888672\n",
      "loss:103.12007904052734\n",
      "loss:72.03497314453125\n",
      "loss:58.6602783203125\n",
      "loss:62.36948776245117\n",
      "loss:39.22338104248047\n",
      "loss:66.0560073852539\n",
      "loss:63.75869369506836\n",
      "loss:66.28732299804688\n",
      "loss:36.3193359375\n",
      "loss:55.697418212890625\n",
      "loss:62.04267120361328\n",
      "loss:37.059814453125\n",
      "loss:58.00489044189453\n",
      "loss:98.94281005859375\n",
      "loss:20.95484161376953\n",
      "loss:53.26834487915039\n",
      "loss:48.76923370361328\n",
      "loss:82.82662963867188\n",
      "loss:45.98191452026367\n",
      "loss:31.886520385742188\n",
      "loss:75.39557647705078\n"
     ]
    },
    {
     "data": {
      "application/vnd.jupyter.widget-view+json": {
       "model_id": "dbda2bdacc3d44c2b1e4564a5cbbfd8c",
       "version_major": 2,
       "version_minor": 0
      },
      "text/plain": [
       "  0%|          | 0/40 [00:00<?, ?it/s]"
      ]
     },
     "metadata": {},
     "output_type": "display_data"
    },
    {
     "name": "stdout",
     "output_type": "stream",
     "text": [
      "loss:66.42655944824219\n",
      "loss:57.232994079589844\n",
      "loss:68.10582733154297\n",
      "loss:63.21284484863281\n",
      "loss:54.54638671875\n",
      "loss:56.6827278137207\n",
      "loss:66.83180236816406\n",
      "loss:49.62861251831055\n",
      "loss:33.659690856933594\n",
      "loss:34.04325866699219\n",
      "loss:42.14014434814453\n",
      "loss:78.50901794433594\n",
      "loss:47.83951187133789\n",
      "loss:59.614749908447266\n",
      "loss:34.35658264160156\n",
      "loss:53.396305084228516\n",
      "loss:45.51799774169922\n",
      "loss:56.22962951660156\n",
      "loss:49.282981872558594\n",
      "loss:72.55157470703125\n",
      "loss:46.65333938598633\n",
      "loss:65.85382080078125\n",
      "loss:46.33317184448242\n",
      "loss:84.63191986083984\n",
      "loss:50.40629577636719\n",
      "loss:70.11719512939453\n",
      "loss:38.072669982910156\n",
      "loss:82.4626693725586\n",
      "loss:42.867706298828125\n",
      "loss:67.1645736694336\n",
      "loss:93.11666870117188\n",
      "loss:76.76704406738281\n",
      "loss:38.40931701660156\n",
      "loss:55.07325744628906\n",
      "loss:34.95732498168945\n",
      "loss:47.105140686035156\n",
      "loss:57.18754577636719\n",
      "loss:72.78645324707031\n",
      "loss:66.49541473388672\n",
      "loss:7.904390335083008\n"
     ]
    },
    {
     "data": {
      "application/vnd.jupyter.widget-view+json": {
       "model_id": "8e2f3ec2d7154b5fb4783ef447003748",
       "version_major": 2,
       "version_minor": 0
      },
      "text/plain": [
       "  0%|          | 0/40 [00:00<?, ?it/s]"
      ]
     },
     "metadata": {},
     "output_type": "display_data"
    },
    {
     "name": "stdout",
     "output_type": "stream",
     "text": [
      "loss:60.420448303222656\n",
      "loss:61.27546691894531\n",
      "loss:72.23960876464844\n",
      "loss:57.22190475463867\n",
      "loss:54.39316177368164\n",
      "loss:48.65394973754883\n",
      "loss:59.02653503417969\n",
      "loss:36.21469497680664\n",
      "loss:84.36224365234375\n",
      "loss:63.038719177246094\n",
      "loss:31.537033081054688\n",
      "loss:74.29009246826172\n",
      "loss:59.56074523925781\n",
      "loss:44.446163177490234\n",
      "loss:30.598175048828125\n",
      "loss:57.26753616333008\n",
      "loss:46.017112731933594\n",
      "loss:61.67975997924805\n",
      "loss:44.273014068603516\n",
      "loss:37.61187744140625\n",
      "loss:56.10710144042969\n",
      "loss:40.11309051513672\n",
      "loss:52.27070999145508\n",
      "loss:33.18583297729492\n",
      "loss:77.70584869384766\n",
      "loss:74.17567443847656\n",
      "loss:51.859989166259766\n",
      "loss:36.672672271728516\n",
      "loss:44.438297271728516\n",
      "loss:66.91121673583984\n",
      "loss:58.10095977783203\n",
      "loss:37.67781066894531\n",
      "loss:69.66156005859375\n",
      "loss:52.184226989746094\n",
      "loss:98.6583251953125\n",
      "loss:75.96009826660156\n",
      "loss:67.23499298095703\n",
      "loss:57.05567169189453\n",
      "loss:70.72830200195312\n",
      "loss:14.395410537719727\n"
     ]
    },
    {
     "data": {
      "application/vnd.jupyter.widget-view+json": {
       "model_id": "a9fb85aa52824dca96e622663f0e7fe3",
       "version_major": 2,
       "version_minor": 0
      },
      "text/plain": [
       "  0%|          | 0/40 [00:00<?, ?it/s]"
      ]
     },
     "metadata": {},
     "output_type": "display_data"
    },
    {
     "name": "stdout",
     "output_type": "stream",
     "text": [
      "loss:47.85438537597656\n",
      "loss:40.94497299194336\n",
      "loss:50.78753662109375\n",
      "loss:59.30221176147461\n",
      "loss:24.37811851501465\n",
      "loss:42.12787628173828\n",
      "loss:65.00374603271484\n",
      "loss:52.01036071777344\n",
      "loss:47.481651306152344\n",
      "loss:95.13644409179688\n",
      "loss:54.2904167175293\n",
      "loss:40.97349548339844\n",
      "loss:54.64158630371094\n",
      "loss:83.10039520263672\n",
      "loss:38.533634185791016\n",
      "loss:45.72291946411133\n",
      "loss:52.9028205871582\n",
      "loss:46.40335464477539\n",
      "loss:65.35011291503906\n",
      "loss:50.260196685791016\n",
      "loss:70.96070861816406\n",
      "loss:59.70027160644531\n",
      "loss:38.852115631103516\n",
      "loss:50.91307067871094\n",
      "loss:72.10611724853516\n",
      "loss:85.59368133544922\n",
      "loss:33.45037841796875\n",
      "loss:75.94058227539062\n",
      "loss:33.89800262451172\n",
      "loss:85.74760437011719\n",
      "loss:55.90768051147461\n",
      "loss:51.512664794921875\n",
      "loss:31.95448875427246\n",
      "loss:24.867908477783203\n",
      "loss:56.09284591674805\n",
      "loss:72.66236114501953\n",
      "loss:78.32359313964844\n",
      "loss:75.97161102294922\n",
      "loss:71.79592895507812\n",
      "loss:37.699462890625\n"
     ]
    },
    {
     "data": {
      "application/vnd.jupyter.widget-view+json": {
       "model_id": "1096b0c988974224838940c703264136",
       "version_major": 2,
       "version_minor": 0
      },
      "text/plain": [
       "  0%|          | 0/40 [00:00<?, ?it/s]"
      ]
     },
     "metadata": {},
     "output_type": "display_data"
    },
    {
     "name": "stdout",
     "output_type": "stream",
     "text": [
      "loss:67.54450988769531\n",
      "loss:51.98139572143555\n",
      "loss:55.755889892578125\n",
      "loss:52.552215576171875\n",
      "loss:54.242374420166016\n",
      "loss:33.55255126953125\n",
      "loss:110.03067016601562\n",
      "loss:45.731178283691406\n",
      "loss:64.38758087158203\n",
      "loss:56.11548614501953\n",
      "loss:47.03119659423828\n",
      "loss:56.07535934448242\n",
      "loss:22.384859085083008\n",
      "loss:51.99259567260742\n",
      "loss:74.0275650024414\n",
      "loss:53.93791198730469\n",
      "loss:55.639347076416016\n",
      "loss:51.55055618286133\n",
      "loss:73.83370971679688\n",
      "loss:72.00862884521484\n",
      "loss:49.5576286315918\n",
      "loss:38.46266555786133\n",
      "loss:41.50707244873047\n",
      "loss:113.90185546875\n",
      "loss:48.88960647583008\n",
      "loss:60.78124237060547\n",
      "loss:40.545413970947266\n",
      "loss:53.583614349365234\n",
      "loss:61.838497161865234\n",
      "loss:52.743194580078125\n",
      "loss:46.70552062988281\n",
      "loss:51.612064361572266\n",
      "loss:52.363956451416016\n",
      "loss:76.58181762695312\n",
      "loss:26.304914474487305\n",
      "loss:53.58577346801758\n",
      "loss:31.417476654052734\n",
      "loss:47.30902862548828\n",
      "loss:57.12274932861328\n",
      "loss:154.89498901367188\n"
     ]
    },
    {
     "data": {
      "application/vnd.jupyter.widget-view+json": {
       "model_id": "d31cb20008454e86899cf71223f8f2ba",
       "version_major": 2,
       "version_minor": 0
      },
      "text/plain": [
       "  0%|          | 0/40 [00:00<?, ?it/s]"
      ]
     },
     "metadata": {},
     "output_type": "display_data"
    },
    {
     "name": "stdout",
     "output_type": "stream",
     "text": [
      "loss:45.98463821411133\n",
      "loss:55.397483825683594\n",
      "loss:55.09830093383789\n",
      "loss:44.161251068115234\n",
      "loss:26.88251495361328\n",
      "loss:68.12754821777344\n",
      "loss:60.54800033569336\n",
      "loss:50.62717056274414\n",
      "loss:42.68592834472656\n",
      "loss:40.136051177978516\n",
      "loss:38.41489028930664\n",
      "loss:65.48158264160156\n",
      "loss:64.60549926757812\n",
      "loss:55.91861343383789\n",
      "loss:71.46943664550781\n",
      "loss:46.28314971923828\n",
      "loss:70.90898132324219\n",
      "loss:49.61831283569336\n",
      "loss:41.25959777832031\n",
      "loss:65.65926361083984\n",
      "loss:50.866302490234375\n",
      "loss:69.01995086669922\n",
      "loss:58.95420837402344\n",
      "loss:49.15822982788086\n",
      "loss:87.39448547363281\n",
      "loss:76.63993835449219\n",
      "loss:28.669065475463867\n",
      "loss:24.3126277923584\n",
      "loss:54.52036666870117\n",
      "loss:26.2563533782959\n",
      "loss:63.47544860839844\n",
      "loss:54.0754280090332\n",
      "loss:87.7863540649414\n",
      "loss:75.01249694824219\n",
      "loss:73.1163558959961\n",
      "loss:26.832998275756836\n",
      "loss:35.944129943847656\n",
      "loss:102.22914123535156\n",
      "loss:42.06995391845703\n",
      "loss:2.763152837753296\n"
     ]
    },
    {
     "data": {
      "application/vnd.jupyter.widget-view+json": {
       "model_id": "cfb74b35f0de4f5da9c2b0210e6b3ab0",
       "version_major": 2,
       "version_minor": 0
      },
      "text/plain": [
       "  0%|          | 0/40 [00:00<?, ?it/s]"
      ]
     },
     "metadata": {},
     "output_type": "display_data"
    },
    {
     "name": "stdout",
     "output_type": "stream",
     "text": [
      "loss:51.09672546386719\n",
      "loss:39.338985443115234\n",
      "loss:80.0615463256836\n",
      "loss:48.5642204284668\n",
      "loss:40.64630889892578\n",
      "loss:64.09844207763672\n",
      "loss:83.35798645019531\n",
      "loss:41.50948715209961\n",
      "loss:41.54634094238281\n",
      "loss:47.486637115478516\n",
      "loss:58.65869140625\n",
      "loss:51.41150665283203\n",
      "loss:53.16701889038086\n",
      "loss:36.589866638183594\n",
      "loss:42.549659729003906\n",
      "loss:45.624732971191406\n",
      "loss:54.23060989379883\n",
      "loss:54.667877197265625\n",
      "loss:42.10799026489258\n",
      "loss:60.601837158203125\n",
      "loss:58.889923095703125\n",
      "loss:49.612693786621094\n",
      "loss:26.614601135253906\n",
      "loss:67.0726547241211\n",
      "loss:39.11537170410156\n",
      "loss:45.55094909667969\n",
      "loss:56.528472900390625\n",
      "loss:61.10260009765625\n",
      "loss:48.760616302490234\n",
      "loss:62.81380081176758\n",
      "loss:70.06555938720703\n",
      "loss:37.57221221923828\n",
      "loss:50.6032600402832\n",
      "loss:50.650028228759766\n",
      "loss:85.18924713134766\n",
      "loss:79.56185913085938\n",
      "loss:33.10102081298828\n",
      "loss:113.923095703125\n",
      "loss:45.654396057128906\n",
      "loss:132.7604217529297\n"
     ]
    },
    {
     "data": {
      "application/vnd.jupyter.widget-view+json": {
       "model_id": "3a77909e1c5c4bffa8e7f2e4417b9e8c",
       "version_major": 2,
       "version_minor": 0
      },
      "text/plain": [
       "  0%|          | 0/40 [00:00<?, ?it/s]"
      ]
     },
     "metadata": {},
     "output_type": "display_data"
    },
    {
     "name": "stdout",
     "output_type": "stream",
     "text": [
      "loss:41.3392448425293\n",
      "loss:33.90904998779297\n",
      "loss:40.644386291503906\n",
      "loss:62.65868377685547\n",
      "loss:55.77305603027344\n",
      "loss:37.569007873535156\n",
      "loss:38.660850524902344\n",
      "loss:37.91709899902344\n",
      "loss:65.46177673339844\n",
      "loss:39.3906135559082\n",
      "loss:58.944393157958984\n",
      "loss:51.13874816894531\n",
      "loss:88.34152221679688\n",
      "loss:51.35022735595703\n",
      "loss:72.10599517822266\n",
      "loss:47.82853317260742\n",
      "loss:48.91355514526367\n",
      "loss:65.31785583496094\n",
      "loss:40.55983352661133\n",
      "loss:91.37709045410156\n",
      "loss:57.46181869506836\n",
      "loss:40.5106086730957\n",
      "loss:43.496891021728516\n",
      "loss:69.1063461303711\n",
      "loss:87.17481231689453\n",
      "loss:75.01500701904297\n",
      "loss:56.17208480834961\n",
      "loss:52.596153259277344\n",
      "loss:54.912906646728516\n",
      "loss:50.48686218261719\n",
      "loss:69.14654541015625\n",
      "loss:40.97344207763672\n",
      "loss:40.12372589111328\n",
      "loss:47.912147521972656\n",
      "loss:52.050025939941406\n",
      "loss:26.500764846801758\n",
      "loss:55.16893005371094\n",
      "loss:41.96385192871094\n",
      "loss:77.617431640625\n",
      "loss:2.5207302570343018\n"
     ]
    },
    {
     "data": {
      "application/vnd.jupyter.widget-view+json": {
       "model_id": "4e4abc73509043f99ea14d43a7717c28",
       "version_major": 2,
       "version_minor": 0
      },
      "text/plain": [
       "  0%|          | 0/40 [00:00<?, ?it/s]"
      ]
     },
     "metadata": {},
     "output_type": "display_data"
    },
    {
     "name": "stdout",
     "output_type": "stream",
     "text": [
      "loss:27.585262298583984\n",
      "loss:51.84469985961914\n",
      "loss:48.2144660949707\n",
      "loss:47.54268264770508\n",
      "loss:98.06840515136719\n",
      "loss:67.8194580078125\n",
      "loss:39.620853424072266\n",
      "loss:42.13013458251953\n",
      "loss:69.79240417480469\n",
      "loss:43.00241470336914\n",
      "loss:104.79015350341797\n",
      "loss:59.385562896728516\n",
      "loss:33.19538497924805\n",
      "loss:23.533411026000977\n",
      "loss:78.03534698486328\n",
      "loss:69.27318572998047\n",
      "loss:59.00956726074219\n",
      "loss:50.83674240112305\n",
      "loss:41.18470001220703\n",
      "loss:48.07368850708008\n",
      "loss:63.389671325683594\n",
      "loss:72.35591125488281\n",
      "loss:33.83720397949219\n",
      "loss:59.998661041259766\n",
      "loss:54.90801239013672\n",
      "loss:60.073631286621094\n",
      "loss:26.712234497070312\n",
      "loss:39.71308898925781\n",
      "loss:42.66315460205078\n",
      "loss:62.2772331237793\n",
      "loss:53.18999099731445\n",
      "loss:55.74946975708008\n",
      "loss:47.05982971191406\n",
      "loss:64.23509979248047\n",
      "loss:64.90352630615234\n",
      "loss:39.80316162109375\n",
      "loss:52.66046905517578\n",
      "loss:33.22319030761719\n",
      "loss:60.766517639160156\n",
      "loss:2.5941660404205322\n"
     ]
    },
    {
     "data": {
      "application/vnd.jupyter.widget-view+json": {
       "model_id": "89ca5f7bf9fb4bb8ade1d6032125ed55",
       "version_major": 2,
       "version_minor": 0
      },
      "text/plain": [
       "  0%|          | 0/40 [00:00<?, ?it/s]"
      ]
     },
     "metadata": {},
     "output_type": "display_data"
    },
    {
     "name": "stdout",
     "output_type": "stream",
     "text": [
      "loss:54.57523727416992\n",
      "loss:50.88731002807617\n",
      "loss:97.34722900390625\n",
      "loss:42.980552673339844\n",
      "loss:51.912933349609375\n",
      "loss:75.94926452636719\n",
      "loss:55.094398498535156\n",
      "loss:27.790464401245117\n",
      "loss:31.991043090820312\n",
      "loss:59.70414352416992\n",
      "loss:56.31076431274414\n",
      "loss:23.010969161987305\n",
      "loss:37.503761291503906\n",
      "loss:30.128677368164062\n",
      "loss:45.44379425048828\n",
      "loss:46.09571075439453\n",
      "loss:61.107120513916016\n",
      "loss:48.99675750732422\n",
      "loss:66.71327209472656\n",
      "loss:52.90366744995117\n",
      "loss:57.975337982177734\n",
      "loss:76.85984802246094\n",
      "loss:27.629045486450195\n",
      "loss:77.24093627929688\n",
      "loss:48.25200653076172\n",
      "loss:43.094120025634766\n",
      "loss:44.75802993774414\n",
      "loss:88.18347930908203\n",
      "loss:34.794212341308594\n",
      "loss:48.69944381713867\n",
      "loss:50.421566009521484\n",
      "loss:35.063751220703125\n",
      "loss:102.56307983398438\n",
      "loss:64.83628845214844\n",
      "loss:60.63274383544922\n",
      "loss:56.271480560302734\n",
      "loss:47.875030517578125\n",
      "loss:54.167850494384766\n",
      "loss:35.205284118652344\n",
      "loss:39.80469512939453\n"
     ]
    },
    {
     "data": {
      "application/vnd.jupyter.widget-view+json": {
       "model_id": "e4de9989f7b84ca6aab8d38caad5f7c6",
       "version_major": 2,
       "version_minor": 0
      },
      "text/plain": [
       "  0%|          | 0/40 [00:00<?, ?it/s]"
      ]
     },
     "metadata": {},
     "output_type": "display_data"
    },
    {
     "name": "stdout",
     "output_type": "stream",
     "text": [
      "loss:79.43667602539062\n",
      "loss:45.787540435791016\n",
      "loss:46.445068359375\n",
      "loss:50.06524658203125\n",
      "loss:76.9134292602539\n",
      "loss:106.71784973144531\n",
      "loss:42.56657791137695\n",
      "loss:47.45211410522461\n",
      "loss:64.55459594726562\n",
      "loss:69.97232055664062\n",
      "loss:48.463096618652344\n",
      "loss:54.03335189819336\n",
      "loss:35.05997848510742\n",
      "loss:53.57072448730469\n",
      "loss:51.892616271972656\n",
      "loss:36.420318603515625\n",
      "loss:33.650970458984375\n",
      "loss:42.08529281616211\n",
      "loss:32.887107849121094\n",
      "loss:24.778179168701172\n",
      "loss:30.95365333557129\n",
      "loss:65.44879913330078\n",
      "loss:55.572601318359375\n",
      "loss:39.899131774902344\n",
      "loss:61.03949737548828\n",
      "loss:33.824310302734375\n",
      "loss:47.88991165161133\n",
      "loss:61.57201385498047\n",
      "loss:27.036787033081055\n",
      "loss:59.71977615356445\n",
      "loss:47.65174865722656\n",
      "loss:53.9039192199707\n",
      "loss:61.929222106933594\n",
      "loss:65.22332000732422\n",
      "loss:49.398887634277344\n",
      "loss:64.39253234863281\n",
      "loss:67.59945678710938\n",
      "loss:53.81449890136719\n",
      "loss:66.74198913574219\n",
      "loss:0.16471068561077118\n"
     ]
    },
    {
     "data": {
      "application/vnd.jupyter.widget-view+json": {
       "model_id": "d5ecdfd258674a5e8a19359f5578af5f",
       "version_major": 2,
       "version_minor": 0
      },
      "text/plain": [
       "  0%|          | 0/40 [00:00<?, ?it/s]"
      ]
     },
     "metadata": {},
     "output_type": "display_data"
    },
    {
     "name": "stdout",
     "output_type": "stream",
     "text": [
      "loss:77.9589614868164\n",
      "loss:38.50297927856445\n",
      "loss:55.38984680175781\n",
      "loss:43.23429870605469\n",
      "loss:38.278438568115234\n",
      "loss:49.4935417175293\n",
      "loss:34.89386749267578\n",
      "loss:52.05080795288086\n",
      "loss:43.911521911621094\n",
      "loss:39.28804016113281\n",
      "loss:47.432273864746094\n",
      "loss:32.32181167602539\n",
      "loss:71.34596252441406\n",
      "loss:40.53141784667969\n",
      "loss:38.22185134887695\n",
      "loss:59.275848388671875\n",
      "loss:26.335159301757812\n",
      "loss:51.38898849487305\n",
      "loss:56.37083053588867\n",
      "loss:85.61483001708984\n",
      "loss:17.93208122253418\n",
      "loss:63.24161148071289\n",
      "loss:42.63668441772461\n",
      "loss:61.66339874267578\n",
      "loss:50.13346481323242\n",
      "loss:58.33371353149414\n",
      "loss:61.899295806884766\n",
      "loss:34.801170349121094\n",
      "loss:63.07341766357422\n",
      "loss:73.3512954711914\n",
      "loss:58.63650131225586\n",
      "loss:93.14046478271484\n",
      "loss:36.998748779296875\n",
      "loss:39.79014587402344\n",
      "loss:57.556732177734375\n",
      "loss:59.66071319580078\n",
      "loss:41.41279983520508\n",
      "loss:41.153465270996094\n",
      "loss:86.99457550048828\n",
      "loss:254.1264190673828\n"
     ]
    },
    {
     "data": {
      "application/vnd.jupyter.widget-view+json": {
       "model_id": "830d9f0dbea544f1b093f15bafb500ac",
       "version_major": 2,
       "version_minor": 0
      },
      "text/plain": [
       "  0%|          | 0/40 [00:00<?, ?it/s]"
      ]
     },
     "metadata": {},
     "output_type": "display_data"
    },
    {
     "name": "stdout",
     "output_type": "stream",
     "text": [
      "loss:55.67295455932617\n",
      "loss:49.47871398925781\n",
      "loss:37.17684555053711\n",
      "loss:41.65888977050781\n",
      "loss:45.42301940917969\n",
      "loss:39.97685623168945\n",
      "loss:77.79092407226562\n",
      "loss:43.25886535644531\n",
      "loss:47.90239334106445\n",
      "loss:52.270790100097656\n",
      "loss:25.000226974487305\n",
      "loss:28.64012336730957\n",
      "loss:46.67666244506836\n",
      "loss:60.531089782714844\n",
      "loss:40.27505874633789\n",
      "loss:49.499427795410156\n",
      "loss:105.33213806152344\n",
      "loss:41.91257095336914\n",
      "loss:48.124412536621094\n",
      "loss:58.24943542480469\n",
      "loss:49.61685562133789\n",
      "loss:32.748233795166016\n",
      "loss:63.660369873046875\n",
      "loss:68.45414733886719\n",
      "loss:36.47319030761719\n",
      "loss:55.49577713012695\n",
      "loss:73.30463409423828\n",
      "loss:94.012451171875\n",
      "loss:57.97914123535156\n",
      "loss:70.39910125732422\n",
      "loss:39.2668342590332\n",
      "loss:49.231563568115234\n",
      "loss:43.85055160522461\n",
      "loss:37.36638641357422\n",
      "loss:55.93375015258789\n",
      "loss:47.910831451416016\n",
      "loss:42.24224853515625\n",
      "loss:50.15313720703125\n",
      "loss:59.01668930053711\n",
      "loss:23.837751388549805\n"
     ]
    },
    {
     "data": {
      "application/vnd.jupyter.widget-view+json": {
       "model_id": "3ee2d1121b0e4fe5acff2f662475b67c",
       "version_major": 2,
       "version_minor": 0
      },
      "text/plain": [
       "  0%|          | 0/40 [00:00<?, ?it/s]"
      ]
     },
     "metadata": {},
     "output_type": "display_data"
    },
    {
     "name": "stdout",
     "output_type": "stream",
     "text": [
      "loss:69.57127380371094\n",
      "loss:42.03398895263672\n",
      "loss:53.85749053955078\n",
      "loss:66.8290023803711\n",
      "loss:44.11099624633789\n",
      "loss:59.02961730957031\n",
      "loss:64.48600769042969\n",
      "loss:42.874534606933594\n",
      "loss:52.37501525878906\n",
      "loss:84.72212982177734\n",
      "loss:75.92394256591797\n",
      "loss:47.651180267333984\n",
      "loss:57.60071563720703\n",
      "loss:25.194875717163086\n",
      "loss:57.763580322265625\n",
      "loss:23.3227596282959\n",
      "loss:41.23344421386719\n",
      "loss:57.22126770019531\n",
      "loss:35.742576599121094\n",
      "loss:35.97489929199219\n",
      "loss:49.176124572753906\n",
      "loss:62.508079528808594\n",
      "loss:50.847503662109375\n",
      "loss:74.60063934326172\n",
      "loss:19.666059494018555\n",
      "loss:69.91954040527344\n",
      "loss:64.67278289794922\n",
      "loss:38.72404479980469\n",
      "loss:39.04154586791992\n",
      "loss:36.31131362915039\n",
      "loss:41.066864013671875\n",
      "loss:52.55044174194336\n",
      "loss:39.22915267944336\n",
      "loss:48.95415496826172\n",
      "loss:75.33563232421875\n",
      "loss:42.14445114135742\n",
      "loss:89.2992935180664\n",
      "loss:31.521780014038086\n",
      "loss:44.314231872558594\n",
      "loss:2.232234001159668\n"
     ]
    },
    {
     "data": {
      "application/vnd.jupyter.widget-view+json": {
       "model_id": "d00e3d704edf4e6891c9b81aae51cada",
       "version_major": 2,
       "version_minor": 0
      },
      "text/plain": [
       "  0%|          | 0/40 [00:00<?, ?it/s]"
      ]
     },
     "metadata": {},
     "output_type": "display_data"
    },
    {
     "name": "stdout",
     "output_type": "stream",
     "text": [
      "loss:32.417320251464844\n",
      "loss:32.385780334472656\n",
      "loss:35.51100540161133\n",
      "loss:40.47115707397461\n",
      "loss:44.04533386230469\n",
      "loss:72.33272552490234\n",
      "loss:70.54846954345703\n",
      "loss:51.824249267578125\n",
      "loss:58.78145980834961\n",
      "loss:45.16318130493164\n",
      "loss:57.8102912902832\n",
      "loss:110.00623321533203\n",
      "loss:26.386491775512695\n",
      "loss:60.373573303222656\n",
      "loss:46.907657623291016\n",
      "loss:40.1258659362793\n",
      "loss:41.09992599487305\n",
      "loss:31.5616455078125\n",
      "loss:57.68505096435547\n",
      "loss:63.87450408935547\n",
      "loss:25.769824981689453\n",
      "loss:16.84162139892578\n",
      "loss:53.50938034057617\n",
      "loss:87.65940856933594\n",
      "loss:73.12141418457031\n",
      "loss:48.501304626464844\n",
      "loss:54.44377517700195\n",
      "loss:33.94133377075195\n",
      "loss:54.891902923583984\n",
      "loss:34.751548767089844\n",
      "loss:36.849273681640625\n",
      "loss:32.39144515991211\n",
      "loss:59.07346725463867\n",
      "loss:62.56417465209961\n",
      "loss:52.63871765136719\n",
      "loss:23.116344451904297\n",
      "loss:74.8272933959961\n",
      "loss:61.73821258544922\n",
      "loss:85.73934936523438\n",
      "loss:3.6473488807678223\n"
     ]
    },
    {
     "data": {
      "application/vnd.jupyter.widget-view+json": {
       "model_id": "6ee003636f8248918e86801445ff3b5a",
       "version_major": 2,
       "version_minor": 0
      },
      "text/plain": [
       "  0%|          | 0/40 [00:00<?, ?it/s]"
      ]
     },
     "metadata": {},
     "output_type": "display_data"
    },
    {
     "name": "stdout",
     "output_type": "stream",
     "text": [
      "loss:48.288578033447266\n",
      "loss:56.89580535888672\n",
      "loss:61.856849670410156\n",
      "loss:43.72779846191406\n",
      "loss:45.297603607177734\n",
      "loss:34.2198486328125\n",
      "loss:45.49177551269531\n",
      "loss:55.33855438232422\n",
      "loss:51.0996208190918\n",
      "loss:70.69984436035156\n",
      "loss:29.254487991333008\n",
      "loss:25.80623435974121\n",
      "loss:65.19303894042969\n",
      "loss:50.16077423095703\n",
      "loss:33.611202239990234\n",
      "loss:51.57203674316406\n",
      "loss:49.07634735107422\n",
      "loss:27.137556076049805\n",
      "loss:40.48084259033203\n",
      "loss:46.93400192260742\n",
      "loss:44.26026916503906\n",
      "loss:50.6226692199707\n",
      "loss:36.77191925048828\n",
      "loss:157.5068817138672\n",
      "loss:76.43778991699219\n",
      "loss:28.15186309814453\n",
      "loss:26.74715232849121\n",
      "loss:28.345996856689453\n",
      "loss:51.47617721557617\n",
      "loss:46.96449279785156\n",
      "loss:40.004093170166016\n",
      "loss:37.07221221923828\n",
      "loss:39.56060791015625\n",
      "loss:59.824893951416016\n",
      "loss:62.4797248840332\n",
      "loss:100.25049591064453\n",
      "loss:59.15134811401367\n",
      "loss:52.619712829589844\n",
      "loss:47.15641403198242\n",
      "loss:10.597143173217773\n"
     ]
    },
    {
     "data": {
      "application/vnd.jupyter.widget-view+json": {
       "model_id": "b104bc9144ea440a900bb55fc670e55b",
       "version_major": 2,
       "version_minor": 0
      },
      "text/plain": [
       "  0%|          | 0/40 [00:00<?, ?it/s]"
      ]
     },
     "metadata": {},
     "output_type": "display_data"
    },
    {
     "name": "stdout",
     "output_type": "stream",
     "text": [
      "loss:52.297813415527344\n",
      "loss:59.862632751464844\n",
      "loss:56.6727180480957\n",
      "loss:50.89216613769531\n",
      "loss:62.62090301513672\n",
      "loss:60.22462463378906\n",
      "loss:48.462039947509766\n",
      "loss:29.88835334777832\n",
      "loss:64.35458374023438\n",
      "loss:62.69750213623047\n",
      "loss:58.08047866821289\n",
      "loss:39.809356689453125\n",
      "loss:30.0386905670166\n",
      "loss:39.696170806884766\n",
      "loss:36.8175163269043\n",
      "loss:64.94255065917969\n",
      "loss:38.18037414550781\n",
      "loss:44.097904205322266\n",
      "loss:49.398345947265625\n",
      "loss:68.80040740966797\n",
      "loss:54.64765930175781\n",
      "loss:41.17463302612305\n",
      "loss:37.173709869384766\n",
      "loss:36.816986083984375\n",
      "loss:25.82349395751953\n",
      "loss:53.62325668334961\n",
      "loss:60.852481842041016\n",
      "loss:59.878536224365234\n",
      "loss:74.92444610595703\n",
      "loss:47.71998977661133\n",
      "loss:50.57665252685547\n",
      "loss:33.113563537597656\n",
      "loss:82.33472442626953\n",
      "loss:37.30796432495117\n",
      "loss:34.33185577392578\n",
      "loss:76.45183563232422\n",
      "loss:57.683189392089844\n",
      "loss:40.41427993774414\n",
      "loss:38.44087600708008\n",
      "loss:17.004289627075195\n"
     ]
    },
    {
     "data": {
      "application/vnd.jupyter.widget-view+json": {
       "model_id": "d070411d06564855ba1fd79daffde0fe",
       "version_major": 2,
       "version_minor": 0
      },
      "text/plain": [
       "  0%|          | 0/40 [00:00<?, ?it/s]"
      ]
     },
     "metadata": {},
     "output_type": "display_data"
    },
    {
     "name": "stdout",
     "output_type": "stream",
     "text": [
      "loss:22.500869750976562\n",
      "loss:36.49903869628906\n",
      "loss:43.29114532470703\n",
      "loss:41.0932731628418\n",
      "loss:37.17681884765625\n",
      "loss:54.89481735229492\n",
      "loss:46.670589447021484\n",
      "loss:56.301361083984375\n",
      "loss:104.61485290527344\n",
      "loss:64.56716918945312\n",
      "loss:70.53667449951172\n",
      "loss:48.540870666503906\n",
      "loss:30.10393714904785\n",
      "loss:69.850830078125\n",
      "loss:67.12181854248047\n",
      "loss:58.75698471069336\n",
      "loss:54.355735778808594\n",
      "loss:46.282440185546875\n",
      "loss:59.50030517578125\n",
      "loss:53.58576583862305\n",
      "loss:45.210655212402344\n",
      "loss:34.7046012878418\n",
      "loss:57.801734924316406\n",
      "loss:40.98270797729492\n",
      "loss:33.41229248046875\n",
      "loss:72.86491394042969\n",
      "loss:38.7432975769043\n",
      "loss:42.49709701538086\n",
      "loss:49.540443420410156\n",
      "loss:46.307044982910156\n",
      "loss:53.41347122192383\n",
      "loss:58.3553352355957\n",
      "loss:68.95723724365234\n",
      "loss:28.947792053222656\n",
      "loss:65.37504577636719\n",
      "loss:37.06783676147461\n",
      "loss:38.7264404296875\n",
      "loss:29.80866050720215\n",
      "loss:39.242408752441406\n",
      "loss:12.027119636535645\n"
     ]
    },
    {
     "data": {
      "application/vnd.jupyter.widget-view+json": {
       "model_id": "2b292a57343048ddae017a26df83a127",
       "version_major": 2,
       "version_minor": 0
      },
      "text/plain": [
       "  0%|          | 0/40 [00:00<?, ?it/s]"
      ]
     },
     "metadata": {},
     "output_type": "display_data"
    },
    {
     "name": "stdout",
     "output_type": "stream",
     "text": [
      "loss:37.6865119934082\n",
      "loss:28.967763900756836\n",
      "loss:51.36989974975586\n",
      "loss:56.21484375\n",
      "loss:37.70420455932617\n",
      "loss:55.94718933105469\n",
      "loss:41.05001449584961\n",
      "loss:56.3890495300293\n",
      "loss:22.424591064453125\n",
      "loss:90.86018371582031\n",
      "loss:40.313133239746094\n",
      "loss:71.25800323486328\n",
      "loss:60.076873779296875\n",
      "loss:40.27891540527344\n",
      "loss:28.0289249420166\n",
      "loss:52.66317367553711\n",
      "loss:66.30250549316406\n",
      "loss:34.89878463745117\n",
      "loss:48.594444274902344\n",
      "loss:36.71272659301758\n",
      "loss:66.55815124511719\n",
      "loss:73.61808013916016\n",
      "loss:55.09925079345703\n",
      "loss:47.730648040771484\n",
      "loss:44.86954116821289\n",
      "loss:84.4115219116211\n",
      "loss:57.70052719116211\n",
      "loss:38.65612030029297\n",
      "loss:58.53339385986328\n",
      "loss:67.26249694824219\n",
      "loss:36.5924186706543\n",
      "loss:42.67017364501953\n",
      "loss:36.711158752441406\n",
      "loss:34.673255920410156\n",
      "loss:65.84982299804688\n",
      "loss:58.194156646728516\n",
      "loss:38.13059616088867\n",
      "loss:27.593599319458008\n",
      "loss:41.50587463378906\n",
      "loss:4.042201995849609\n"
     ]
    },
    {
     "data": {
      "application/vnd.jupyter.widget-view+json": {
       "model_id": "8127911193f14b8b933cd120d6f00be8",
       "version_major": 2,
       "version_minor": 0
      },
      "text/plain": [
       "  0%|          | 0/40 [00:00<?, ?it/s]"
      ]
     },
     "metadata": {},
     "output_type": "display_data"
    },
    {
     "name": "stdout",
     "output_type": "stream",
     "text": [
      "loss:48.42774963378906\n",
      "loss:57.339115142822266\n",
      "loss:42.05223083496094\n",
      "loss:33.79718017578125\n",
      "loss:35.5523796081543\n",
      "loss:47.11858367919922\n",
      "loss:33.08192443847656\n",
      "loss:35.17536926269531\n",
      "loss:27.53874969482422\n",
      "loss:60.83076095581055\n",
      "loss:68.94026947021484\n",
      "loss:42.114437103271484\n",
      "loss:35.92641067504883\n",
      "loss:42.97307586669922\n",
      "loss:42.951419830322266\n",
      "loss:63.37751770019531\n",
      "loss:32.78098678588867\n",
      "loss:67.34747314453125\n",
      "loss:42.444908142089844\n",
      "loss:46.096466064453125\n",
      "loss:48.40357971191406\n",
      "loss:28.67744255065918\n",
      "loss:33.75470733642578\n",
      "loss:95.11067199707031\n",
      "loss:41.04149627685547\n",
      "loss:75.18484497070312\n",
      "loss:81.13088989257812\n",
      "loss:45.225425720214844\n",
      "loss:25.053678512573242\n",
      "loss:81.15017700195312\n",
      "loss:66.93974304199219\n",
      "loss:34.20413589477539\n",
      "loss:42.45214080810547\n",
      "loss:60.19780731201172\n",
      "loss:53.99921417236328\n",
      "loss:42.432090759277344\n",
      "loss:65.87025451660156\n",
      "loss:39.18912887573242\n",
      "loss:52.23863220214844\n",
      "loss:54.90898895263672\n"
     ]
    },
    {
     "data": {
      "application/vnd.jupyter.widget-view+json": {
       "model_id": "87425f7cf985434c94c7f40e6c34f1d6",
       "version_major": 2,
       "version_minor": 0
      },
      "text/plain": [
       "  0%|          | 0/40 [00:00<?, ?it/s]"
      ]
     },
     "metadata": {},
     "output_type": "display_data"
    },
    {
     "name": "stdout",
     "output_type": "stream",
     "text": [
      "loss:55.96322250366211\n",
      "loss:42.36703109741211\n",
      "loss:58.14668273925781\n",
      "loss:79.63606262207031\n",
      "loss:19.77814483642578\n",
      "loss:40.75163650512695\n",
      "loss:38.57606506347656\n",
      "loss:74.3196029663086\n",
      "loss:41.68233871459961\n",
      "loss:65.41434478759766\n",
      "loss:24.724193572998047\n",
      "loss:70.85060119628906\n",
      "loss:53.99541473388672\n",
      "loss:17.860858917236328\n",
      "loss:58.20063018798828\n",
      "loss:90.09823608398438\n",
      "loss:55.71114730834961\n",
      "loss:33.55758285522461\n",
      "loss:57.73915100097656\n",
      "loss:27.996929168701172\n",
      "loss:19.86199951171875\n",
      "loss:45.92348861694336\n",
      "loss:49.01721954345703\n",
      "loss:42.62220764160156\n",
      "loss:33.24130630493164\n",
      "loss:51.890357971191406\n",
      "loss:28.843442916870117\n",
      "loss:43.092899322509766\n",
      "loss:50.9027099609375\n",
      "loss:78.46244812011719\n",
      "loss:32.458099365234375\n",
      "loss:46.20455551147461\n",
      "loss:56.350135803222656\n",
      "loss:48.815086364746094\n",
      "loss:61.489990234375\n",
      "loss:54.70895767211914\n",
      "loss:26.422496795654297\n",
      "loss:52.44777297973633\n",
      "loss:77.5711898803711\n",
      "loss:2.9423704147338867\n"
     ]
    },
    {
     "data": {
      "application/vnd.jupyter.widget-view+json": {
       "model_id": "ada5742f31314d5ab5acb6bc6708b0fc",
       "version_major": 2,
       "version_minor": 0
      },
      "text/plain": [
       "  0%|          | 0/40 [00:00<?, ?it/s]"
      ]
     },
     "metadata": {},
     "output_type": "display_data"
    },
    {
     "name": "stdout",
     "output_type": "stream",
     "text": [
      "loss:90.69404602050781\n",
      "loss:42.976383209228516\n",
      "loss:66.27800750732422\n",
      "loss:30.499874114990234\n",
      "loss:61.626007080078125\n",
      "loss:88.24090576171875\n",
      "loss:27.255447387695312\n",
      "loss:54.13481903076172\n",
      "loss:16.309120178222656\n",
      "loss:76.74933624267578\n",
      "loss:77.43067932128906\n",
      "loss:43.465118408203125\n",
      "loss:40.40055465698242\n",
      "loss:52.28208541870117\n",
      "loss:32.922210693359375\n",
      "loss:38.79862594604492\n",
      "loss:57.73516082763672\n",
      "loss:26.615520477294922\n",
      "loss:38.45519256591797\n",
      "loss:31.02242660522461\n",
      "loss:47.3648681640625\n",
      "loss:44.62677001953125\n",
      "loss:49.89424133300781\n",
      "loss:41.58898162841797\n",
      "loss:78.8818588256836\n",
      "loss:49.22512435913086\n",
      "loss:32.39740753173828\n",
      "loss:45.01845169067383\n",
      "loss:28.59041976928711\n",
      "loss:41.74428939819336\n",
      "loss:62.78744888305664\n",
      "loss:68.58846282958984\n",
      "loss:51.07761764526367\n",
      "loss:49.589813232421875\n",
      "loss:33.77260971069336\n",
      "loss:48.078025817871094\n",
      "loss:37.05139923095703\n",
      "loss:50.715736389160156\n",
      "loss:38.893035888671875\n",
      "loss:6.7595953941345215\n"
     ]
    },
    {
     "data": {
      "application/vnd.jupyter.widget-view+json": {
       "model_id": "5086d865663f40f38970674c490e4ab6",
       "version_major": 2,
       "version_minor": 0
      },
      "text/plain": [
       "  0%|          | 0/40 [00:00<?, ?it/s]"
      ]
     },
     "metadata": {},
     "output_type": "display_data"
    },
    {
     "name": "stdout",
     "output_type": "stream",
     "text": [
      "loss:84.40205383300781\n",
      "loss:32.32892608642578\n",
      "loss:47.02387619018555\n",
      "loss:29.934581756591797\n",
      "loss:38.821163177490234\n",
      "loss:37.57244110107422\n",
      "loss:67.62971496582031\n",
      "loss:54.574554443359375\n",
      "loss:68.72222137451172\n",
      "loss:49.656280517578125\n",
      "loss:32.62289810180664\n",
      "loss:40.34197998046875\n",
      "loss:29.527164459228516\n",
      "loss:32.26494598388672\n",
      "loss:40.786590576171875\n",
      "loss:64.43132019042969\n",
      "loss:24.448122024536133\n",
      "loss:50.2928352355957\n",
      "loss:60.7608528137207\n",
      "loss:28.650094985961914\n",
      "loss:30.01736831665039\n",
      "loss:50.80718231201172\n",
      "loss:58.63158416748047\n",
      "loss:66.31484985351562\n",
      "loss:48.79428482055664\n",
      "loss:56.168495178222656\n",
      "loss:31.76055908203125\n",
      "loss:41.49577713012695\n",
      "loss:87.50495147705078\n",
      "loss:45.8281135559082\n",
      "loss:41.629112243652344\n",
      "loss:45.62309646606445\n",
      "loss:40.44553756713867\n",
      "loss:49.0654411315918\n",
      "loss:75.2518310546875\n",
      "loss:57.727298736572266\n",
      "loss:41.542747497558594\n",
      "loss:49.28628158569336\n",
      "loss:45.16090393066406\n",
      "loss:62.75960922241211\n"
     ]
    },
    {
     "data": {
      "application/vnd.jupyter.widget-view+json": {
       "model_id": "fd7ffbcc5d0a4e368c58f94118bc446b",
       "version_major": 2,
       "version_minor": 0
      },
      "text/plain": [
       "  0%|          | 0/40 [00:00<?, ?it/s]"
      ]
     },
     "metadata": {},
     "output_type": "display_data"
    },
    {
     "name": "stdout",
     "output_type": "stream",
     "text": [
      "loss:42.76211166381836\n",
      "loss:38.00217819213867\n",
      "loss:39.84910202026367\n",
      "loss:70.30878448486328\n",
      "loss:28.41823959350586\n",
      "loss:55.96275329589844\n",
      "loss:69.30794525146484\n",
      "loss:58.830780029296875\n",
      "loss:68.85736083984375\n",
      "loss:79.6565933227539\n",
      "loss:48.69051742553711\n",
      "loss:85.92652130126953\n",
      "loss:80.5053482055664\n",
      "loss:53.77326202392578\n",
      "loss:40.033084869384766\n",
      "loss:52.165184020996094\n",
      "loss:44.67864227294922\n",
      "loss:38.48676300048828\n",
      "loss:35.78240203857422\n",
      "loss:42.28046417236328\n",
      "loss:38.864437103271484\n",
      "loss:59.04043197631836\n",
      "loss:24.514251708984375\n",
      "loss:39.89508056640625\n",
      "loss:29.89006233215332\n",
      "loss:35.193477630615234\n",
      "loss:43.33671951293945\n",
      "loss:50.317718505859375\n",
      "loss:23.681926727294922\n",
      "loss:41.691917419433594\n",
      "loss:63.8194465637207\n",
      "loss:34.83957290649414\n",
      "loss:33.4410285949707\n",
      "loss:41.75782012939453\n",
      "loss:38.136962890625\n",
      "loss:24.420448303222656\n",
      "loss:59.17177200317383\n",
      "loss:62.051246643066406\n",
      "loss:44.08694076538086\n",
      "loss:98.35050201416016\n"
     ]
    },
    {
     "data": {
      "application/vnd.jupyter.widget-view+json": {
       "model_id": "3945614000bf4de7bf96818fbfed5107",
       "version_major": 2,
       "version_minor": 0
      },
      "text/plain": [
       "  0%|          | 0/40 [00:00<?, ?it/s]"
      ]
     },
     "metadata": {},
     "output_type": "display_data"
    },
    {
     "name": "stdout",
     "output_type": "stream",
     "text": [
      "loss:33.19759750366211\n",
      "loss:47.401161193847656\n",
      "loss:30.481143951416016\n",
      "loss:49.564247131347656\n",
      "loss:55.621192932128906\n",
      "loss:74.80513763427734\n",
      "loss:49.130699157714844\n",
      "loss:58.409244537353516\n",
      "loss:82.77877044677734\n",
      "loss:44.3677864074707\n",
      "loss:54.59711837768555\n",
      "loss:57.194034576416016\n",
      "loss:49.50678634643555\n",
      "loss:51.90058135986328\n",
      "loss:22.05898094177246\n",
      "loss:55.84418487548828\n",
      "loss:43.099857330322266\n",
      "loss:65.81356811523438\n",
      "loss:67.02635955810547\n",
      "loss:23.93366050720215\n",
      "loss:29.694042205810547\n",
      "loss:38.853065490722656\n",
      "loss:49.193092346191406\n",
      "loss:37.9193229675293\n",
      "loss:39.818382263183594\n",
      "loss:38.0555305480957\n",
      "loss:64.13066101074219\n",
      "loss:31.739805221557617\n",
      "loss:34.88718032836914\n",
      "loss:50.17780685424805\n",
      "loss:41.253807067871094\n",
      "loss:41.70779037475586\n",
      "loss:36.52981948852539\n",
      "loss:75.04150390625\n",
      "loss:50.536773681640625\n",
      "loss:26.395858764648438\n",
      "loss:64.24964904785156\n",
      "loss:41.63487243652344\n",
      "loss:46.01755142211914\n",
      "loss:11.494256019592285\n"
     ]
    },
    {
     "data": {
      "application/vnd.jupyter.widget-view+json": {
       "model_id": "5a18b1bb2f104cfaadce579e55d71bda",
       "version_major": 2,
       "version_minor": 0
      },
      "text/plain": [
       "  0%|          | 0/40 [00:00<?, ?it/s]"
      ]
     },
     "metadata": {},
     "output_type": "display_data"
    },
    {
     "name": "stdout",
     "output_type": "stream",
     "text": [
      "loss:46.34357833862305\n",
      "loss:33.067657470703125\n",
      "loss:44.680809020996094\n",
      "loss:73.38787078857422\n",
      "loss:47.33421325683594\n",
      "loss:30.429885864257812\n",
      "loss:50.15667724609375\n",
      "loss:49.71084976196289\n",
      "loss:32.85872268676758\n",
      "loss:27.03913688659668\n",
      "loss:43.854637145996094\n",
      "loss:63.02995300292969\n",
      "loss:33.28396987915039\n",
      "loss:58.6143684387207\n",
      "loss:37.46819305419922\n",
      "loss:41.20305633544922\n",
      "loss:32.701026916503906\n",
      "loss:39.2038688659668\n",
      "loss:47.270896911621094\n",
      "loss:50.46206283569336\n",
      "loss:57.17596435546875\n",
      "loss:25.739395141601562\n",
      "loss:61.41007614135742\n",
      "loss:58.71518325805664\n",
      "loss:34.90934753417969\n",
      "loss:40.31459045410156\n",
      "loss:59.15119171142578\n",
      "loss:87.56836700439453\n",
      "loss:72.71183013916016\n",
      "loss:63.171810150146484\n",
      "loss:30.12169647216797\n",
      "loss:21.49115753173828\n",
      "loss:62.21417236328125\n",
      "loss:52.769309997558594\n",
      "loss:51.030113220214844\n",
      "loss:41.13156509399414\n",
      "loss:35.5718994140625\n",
      "loss:43.20632553100586\n",
      "loss:62.37364959716797\n",
      "loss:15.862676620483398\n"
     ]
    },
    {
     "data": {
      "application/vnd.jupyter.widget-view+json": {
       "model_id": "f95e99bf18b24e348d9eaf3d7c77459d",
       "version_major": 2,
       "version_minor": 0
      },
      "text/plain": [
       "  0%|          | 0/40 [00:00<?, ?it/s]"
      ]
     },
     "metadata": {},
     "output_type": "display_data"
    },
    {
     "name": "stdout",
     "output_type": "stream",
     "text": [
      "loss:42.02074432373047\n",
      "loss:50.527156829833984\n",
      "loss:42.582122802734375\n",
      "loss:44.711673736572266\n",
      "loss:55.698448181152344\n",
      "loss:37.14126205444336\n",
      "loss:40.72285461425781\n",
      "loss:38.08477020263672\n",
      "loss:53.29776382446289\n",
      "loss:46.71638488769531\n",
      "loss:63.82491683959961\n",
      "loss:58.9853630065918\n",
      "loss:35.50813293457031\n",
      "loss:41.909488677978516\n",
      "loss:53.7175407409668\n",
      "loss:20.981342315673828\n",
      "loss:47.10346984863281\n",
      "loss:58.412193298339844\n",
      "loss:46.27638626098633\n",
      "loss:39.173851013183594\n",
      "loss:35.29660415649414\n",
      "loss:33.27721405029297\n",
      "loss:50.886966705322266\n",
      "loss:56.4619140625\n",
      "loss:48.98636245727539\n",
      "loss:52.03403854370117\n",
      "loss:24.755901336669922\n",
      "loss:41.06609344482422\n",
      "loss:60.7432861328125\n",
      "loss:53.0825080871582\n",
      "loss:47.353050231933594\n",
      "loss:39.18415069580078\n",
      "loss:49.768638610839844\n",
      "loss:29.67180633544922\n",
      "loss:75.5372085571289\n",
      "loss:41.24787521362305\n",
      "loss:40.22468566894531\n",
      "loss:51.070987701416016\n",
      "loss:82.40045928955078\n",
      "loss:18.74386215209961\n"
     ]
    },
    {
     "data": {
      "application/vnd.jupyter.widget-view+json": {
       "model_id": "4ae78c67bbf743f4a4141c573b887eb6",
       "version_major": 2,
       "version_minor": 0
      },
      "text/plain": [
       "  0%|          | 0/40 [00:00<?, ?it/s]"
      ]
     },
     "metadata": {},
     "output_type": "display_data"
    },
    {
     "name": "stdout",
     "output_type": "stream",
     "text": [
      "loss:26.70914077758789\n",
      "loss:51.59687423706055\n",
      "loss:36.030616760253906\n",
      "loss:32.357913970947266\n",
      "loss:40.026004791259766\n",
      "loss:42.295448303222656\n",
      "loss:53.30166244506836\n",
      "loss:48.90229034423828\n",
      "loss:106.85363006591797\n",
      "loss:37.68527603149414\n",
      "loss:43.397682189941406\n",
      "loss:50.80963134765625\n",
      "loss:33.64244079589844\n",
      "loss:32.77471160888672\n",
      "loss:34.20198059082031\n",
      "loss:57.25131607055664\n",
      "loss:37.98908233642578\n",
      "loss:86.95185852050781\n",
      "loss:50.59878158569336\n",
      "loss:21.789134979248047\n",
      "loss:47.9300537109375\n",
      "loss:32.82712936401367\n",
      "loss:41.7540397644043\n",
      "loss:51.79286575317383\n",
      "loss:69.1480712890625\n",
      "loss:46.575828552246094\n",
      "loss:40.7840576171875\n",
      "loss:50.99215316772461\n",
      "loss:56.784812927246094\n",
      "loss:41.516963958740234\n",
      "loss:93.94205474853516\n",
      "loss:42.60818099975586\n",
      "loss:30.608577728271484\n",
      "loss:32.43559265136719\n",
      "loss:50.63621520996094\n",
      "loss:33.04114532470703\n",
      "loss:42.36854553222656\n",
      "loss:53.93963623046875\n",
      "loss:35.80420684814453\n",
      "loss:7.651192665100098\n"
     ]
    },
    {
     "data": {
      "application/vnd.jupyter.widget-view+json": {
       "model_id": "9c875d8c564e40bb9aa48b0f9e852fd9",
       "version_major": 2,
       "version_minor": 0
      },
      "text/plain": [
       "  0%|          | 0/40 [00:00<?, ?it/s]"
      ]
     },
     "metadata": {},
     "output_type": "display_data"
    },
    {
     "name": "stdout",
     "output_type": "stream",
     "text": [
      "loss:43.57007598876953\n",
      "loss:49.46961212158203\n",
      "loss:41.91339111328125\n",
      "loss:56.999267578125\n",
      "loss:40.54696273803711\n",
      "loss:38.25809097290039\n",
      "loss:69.93400573730469\n",
      "loss:40.64170455932617\n",
      "loss:41.96871566772461\n",
      "loss:27.029508590698242\n",
      "loss:53.72910690307617\n",
      "loss:29.23689079284668\n",
      "loss:38.49568176269531\n",
      "loss:65.22728729248047\n",
      "loss:33.46109390258789\n",
      "loss:53.490623474121094\n",
      "loss:29.511594772338867\n",
      "loss:79.26917266845703\n",
      "loss:89.61905670166016\n",
      "loss:48.13431167602539\n",
      "loss:39.532833099365234\n",
      "loss:64.00517272949219\n",
      "loss:33.72333526611328\n",
      "loss:33.7852783203125\n",
      "loss:47.93705749511719\n",
      "loss:22.41720199584961\n",
      "loss:100.6051254272461\n",
      "loss:28.024066925048828\n",
      "loss:33.761722564697266\n",
      "loss:60.72254180908203\n",
      "loss:49.86031723022461\n",
      "loss:28.880935668945312\n",
      "loss:41.83771896362305\n",
      "loss:38.526485443115234\n",
      "loss:29.983638763427734\n",
      "loss:43.25807571411133\n",
      "loss:47.66610336303711\n",
      "loss:56.28413391113281\n",
      "loss:36.12030792236328\n",
      "loss:49.50621032714844\n"
     ]
    },
    {
     "data": {
      "application/vnd.jupyter.widget-view+json": {
       "model_id": "f6a3c809d1c84f6583e23771f3855807",
       "version_major": 2,
       "version_minor": 0
      },
      "text/plain": [
       "  0%|          | 0/40 [00:00<?, ?it/s]"
      ]
     },
     "metadata": {},
     "output_type": "display_data"
    },
    {
     "name": "stdout",
     "output_type": "stream",
     "text": [
      "loss:97.48721313476562\n",
      "loss:29.630151748657227\n",
      "loss:27.9008846282959\n",
      "loss:38.573020935058594\n",
      "loss:34.16553497314453\n",
      "loss:60.865272521972656\n",
      "loss:44.03826141357422\n",
      "loss:44.72492218017578\n",
      "loss:37.28179931640625\n",
      "loss:38.134517669677734\n",
      "loss:91.54553985595703\n",
      "loss:55.60478210449219\n",
      "loss:48.360504150390625\n",
      "loss:42.244895935058594\n",
      "loss:55.279911041259766\n",
      "loss:52.23069381713867\n",
      "loss:25.507333755493164\n",
      "loss:27.79408073425293\n",
      "loss:48.792415618896484\n",
      "loss:40.11859893798828\n",
      "loss:36.77626037597656\n",
      "loss:30.343795776367188\n",
      "loss:24.653324127197266\n",
      "loss:41.75783920288086\n",
      "loss:34.48576736450195\n",
      "loss:27.003618240356445\n",
      "loss:23.60576820373535\n",
      "loss:50.19184875488281\n",
      "loss:48.2669563293457\n",
      "loss:41.87299346923828\n",
      "loss:53.32644271850586\n",
      "loss:55.54124069213867\n",
      "loss:93.80664825439453\n",
      "loss:53.612586975097656\n",
      "loss:71.57177734375\n",
      "loss:56.091548919677734\n",
      "loss:32.10284423828125\n",
      "loss:45.23000717163086\n",
      "loss:35.95341491699219\n",
      "loss:17.77351951599121\n"
     ]
    },
    {
     "data": {
      "application/vnd.jupyter.widget-view+json": {
       "model_id": "6fda62de50e1483f9a835cc0ce4b5eb2",
       "version_major": 2,
       "version_minor": 0
      },
      "text/plain": [
       "  0%|          | 0/40 [00:00<?, ?it/s]"
      ]
     },
     "metadata": {},
     "output_type": "display_data"
    },
    {
     "name": "stdout",
     "output_type": "stream",
     "text": [
      "loss:89.6403579711914\n",
      "loss:67.3819580078125\n",
      "loss:43.705047607421875\n",
      "loss:42.44110107421875\n",
      "loss:53.44841003417969\n",
      "loss:30.95165252685547\n",
      "loss:49.322261810302734\n",
      "loss:34.994224548339844\n",
      "loss:22.1000919342041\n",
      "loss:26.031110763549805\n",
      "loss:51.380706787109375\n",
      "loss:33.76272201538086\n",
      "loss:63.842281341552734\n",
      "loss:33.92336654663086\n",
      "loss:39.266963958740234\n",
      "loss:38.63532638549805\n",
      "loss:66.22168731689453\n",
      "loss:70.35501098632812\n",
      "loss:50.330665588378906\n",
      "loss:48.47477340698242\n",
      "loss:48.0201301574707\n",
      "loss:35.639896392822266\n",
      "loss:32.62699508666992\n",
      "loss:50.13847732543945\n",
      "loss:47.72515106201172\n",
      "loss:26.524261474609375\n",
      "loss:21.86695098876953\n",
      "loss:50.9332160949707\n",
      "loss:34.66356658935547\n",
      "loss:53.6153564453125\n",
      "loss:53.50814437866211\n",
      "loss:87.6564712524414\n",
      "loss:58.14127731323242\n",
      "loss:35.66435241699219\n",
      "loss:36.84749221801758\n",
      "loss:37.36396789550781\n",
      "loss:34.322547912597656\n",
      "loss:43.794246673583984\n",
      "loss:33.86000061035156\n",
      "loss:119.47554016113281\n"
     ]
    },
    {
     "data": {
      "application/vnd.jupyter.widget-view+json": {
       "model_id": "d1aa5cfef8bc4bf88f74355a17f88b0e",
       "version_major": 2,
       "version_minor": 0
      },
      "text/plain": [
       "  0%|          | 0/40 [00:00<?, ?it/s]"
      ]
     },
     "metadata": {},
     "output_type": "display_data"
    },
    {
     "name": "stdout",
     "output_type": "stream",
     "text": [
      "loss:35.14046096801758\n",
      "loss:34.855281829833984\n",
      "loss:51.51774215698242\n",
      "loss:19.34464454650879\n",
      "loss:46.62434387207031\n",
      "loss:35.58295440673828\n",
      "loss:41.77865982055664\n",
      "loss:36.424251556396484\n",
      "loss:37.50397491455078\n",
      "loss:57.678035736083984\n",
      "loss:34.90714645385742\n",
      "loss:19.591205596923828\n",
      "loss:44.558380126953125\n",
      "loss:41.57344055175781\n",
      "loss:114.61864471435547\n",
      "loss:46.76401138305664\n",
      "loss:30.201587677001953\n",
      "loss:42.951499938964844\n",
      "loss:34.426021575927734\n",
      "loss:61.83173370361328\n",
      "loss:55.0969352722168\n",
      "loss:48.358585357666016\n",
      "loss:30.64746856689453\n",
      "loss:53.251895904541016\n",
      "loss:44.189666748046875\n",
      "loss:40.337913513183594\n",
      "loss:51.0163688659668\n",
      "loss:45.204200744628906\n",
      "loss:45.239200592041016\n",
      "loss:24.670583724975586\n",
      "loss:42.403076171875\n",
      "loss:114.62001037597656\n",
      "loss:48.249900817871094\n",
      "loss:38.74822998046875\n",
      "loss:39.721038818359375\n",
      "loss:67.41949462890625\n",
      "loss:22.577350616455078\n",
      "loss:30.982013702392578\n",
      "loss:65.63444519042969\n",
      "loss:13.019610404968262\n"
     ]
    },
    {
     "data": {
      "application/vnd.jupyter.widget-view+json": {
       "model_id": "33f724c39f5e4bc5b94f4ec36ba35c2d",
       "version_major": 2,
       "version_minor": 0
      },
      "text/plain": [
       "  0%|          | 0/40 [00:00<?, ?it/s]"
      ]
     },
     "metadata": {},
     "output_type": "display_data"
    },
    {
     "name": "stdout",
     "output_type": "stream",
     "text": [
      "loss:59.204429626464844\n",
      "loss:40.04011535644531\n",
      "loss:40.154945373535156\n",
      "loss:14.264119148254395\n",
      "loss:24.399944305419922\n",
      "loss:54.79607009887695\n",
      "loss:36.61713409423828\n",
      "loss:56.94487762451172\n",
      "loss:69.74322509765625\n",
      "loss:29.288732528686523\n",
      "loss:63.236934661865234\n",
      "loss:63.66089630126953\n",
      "loss:42.83481216430664\n",
      "loss:53.544612884521484\n",
      "loss:72.41500854492188\n",
      "loss:35.90913391113281\n",
      "loss:35.19318389892578\n",
      "loss:55.829952239990234\n",
      "loss:33.90639877319336\n",
      "loss:50.16999435424805\n",
      "loss:38.79749298095703\n",
      "loss:45.7317008972168\n",
      "loss:34.268836975097656\n",
      "loss:72.1408462524414\n",
      "loss:34.518409729003906\n",
      "loss:48.11370849609375\n",
      "loss:32.35886001586914\n",
      "loss:25.79759407043457\n",
      "loss:29.899717330932617\n",
      "loss:61.22478485107422\n",
      "loss:39.571632385253906\n",
      "loss:45.46432113647461\n",
      "loss:60.31901168823242\n",
      "loss:42.697303771972656\n",
      "loss:30.20883560180664\n",
      "loss:68.20081329345703\n",
      "loss:34.98177719116211\n",
      "loss:51.1828727722168\n",
      "loss:36.20212936401367\n",
      "loss:28.74469757080078\n"
     ]
    },
    {
     "data": {
      "application/vnd.jupyter.widget-view+json": {
       "model_id": "4d0b380269e14b4c8650c7296bccdf63",
       "version_major": 2,
       "version_minor": 0
      },
      "text/plain": [
       "  0%|          | 0/40 [00:00<?, ?it/s]"
      ]
     },
     "metadata": {},
     "output_type": "display_data"
    },
    {
     "name": "stdout",
     "output_type": "stream",
     "text": [
      "loss:63.00227737426758\n",
      "loss:79.05567932128906\n",
      "loss:73.43120574951172\n",
      "loss:29.99264907836914\n",
      "loss:71.60970306396484\n",
      "loss:45.693336486816406\n",
      "loss:36.56003952026367\n",
      "loss:25.104860305786133\n",
      "loss:37.41716384887695\n",
      "loss:48.21993637084961\n",
      "loss:54.982967376708984\n",
      "loss:31.661346435546875\n",
      "loss:40.14324951171875\n",
      "loss:22.993196487426758\n",
      "loss:40.27388000488281\n",
      "loss:47.32200622558594\n",
      "loss:36.979888916015625\n",
      "loss:62.180301666259766\n",
      "loss:58.935306549072266\n",
      "loss:57.40055847167969\n",
      "loss:37.01630401611328\n",
      "loss:30.30398178100586\n",
      "loss:70.04214477539062\n",
      "loss:14.282241821289062\n",
      "loss:52.43042755126953\n",
      "loss:55.967655181884766\n",
      "loss:17.361360549926758\n",
      "loss:63.8394775390625\n",
      "loss:19.492876052856445\n",
      "loss:37.82928466796875\n",
      "loss:55.84109115600586\n",
      "loss:41.912784576416016\n",
      "loss:44.28519821166992\n",
      "loss:28.841440200805664\n",
      "loss:49.36664962768555\n",
      "loss:35.38279724121094\n",
      "loss:30.41351318359375\n",
      "loss:56.718631744384766\n",
      "loss:50.300655364990234\n",
      "loss:0.5895715355873108\n"
     ]
    },
    {
     "data": {
      "application/vnd.jupyter.widget-view+json": {
       "model_id": "13342fcd08d54f08a85fd09b47b0e7c1",
       "version_major": 2,
       "version_minor": 0
      },
      "text/plain": [
       "  0%|          | 0/40 [00:00<?, ?it/s]"
      ]
     },
     "metadata": {},
     "output_type": "display_data"
    },
    {
     "name": "stdout",
     "output_type": "stream",
     "text": [
      "loss:25.135759353637695\n",
      "loss:28.719175338745117\n",
      "loss:29.178813934326172\n",
      "loss:47.44664764404297\n",
      "loss:71.05419158935547\n",
      "loss:51.169132232666016\n",
      "loss:34.74259948730469\n",
      "loss:42.619544982910156\n",
      "loss:32.69487762451172\n",
      "loss:27.06096649169922\n",
      "loss:91.80611419677734\n",
      "loss:39.508270263671875\n",
      "loss:52.16582489013672\n",
      "loss:48.93877029418945\n",
      "loss:65.38517761230469\n",
      "loss:82.87762451171875\n",
      "loss:44.88572311401367\n",
      "loss:59.72499465942383\n",
      "loss:21.704530715942383\n",
      "loss:51.60151672363281\n",
      "loss:58.40333557128906\n",
      "loss:52.923851013183594\n",
      "loss:20.097076416015625\n",
      "loss:57.52898025512695\n",
      "loss:29.40642738342285\n",
      "loss:38.47419738769531\n",
      "loss:44.96324157714844\n",
      "loss:52.4701042175293\n",
      "loss:44.05363845825195\n",
      "loss:32.31584167480469\n",
      "loss:30.931232452392578\n",
      "loss:39.830787658691406\n",
      "loss:29.433895111083984\n",
      "loss:51.99818801879883\n",
      "loss:44.588130950927734\n",
      "loss:37.90502166748047\n",
      "loss:64.21134948730469\n",
      "loss:28.719642639160156\n",
      "loss:37.752777099609375\n",
      "loss:3.4028613567352295\n"
     ]
    },
    {
     "data": {
      "application/vnd.jupyter.widget-view+json": {
       "model_id": "1f8e87ff2b9a4c55a3aedda2cc22d892",
       "version_major": 2,
       "version_minor": 0
      },
      "text/plain": [
       "  0%|          | 0/40 [00:00<?, ?it/s]"
      ]
     },
     "metadata": {},
     "output_type": "display_data"
    },
    {
     "name": "stdout",
     "output_type": "stream",
     "text": [
      "loss:44.038177490234375\n",
      "loss:36.68107986450195\n",
      "loss:37.34233856201172\n",
      "loss:25.637914657592773\n",
      "loss:20.3133487701416\n",
      "loss:36.27670669555664\n",
      "loss:40.54254150390625\n",
      "loss:39.58639144897461\n",
      "loss:55.69682693481445\n",
      "loss:37.75053787231445\n",
      "loss:30.176427841186523\n",
      "loss:46.123287200927734\n",
      "loss:63.724876403808594\n",
      "loss:41.63821029663086\n",
      "loss:57.9918098449707\n",
      "loss:46.1899299621582\n",
      "loss:58.56363296508789\n",
      "loss:38.97682571411133\n",
      "loss:57.4774284362793\n",
      "loss:86.49324798583984\n",
      "loss:23.679153442382812\n",
      "loss:44.45163345336914\n",
      "loss:50.5308837890625\n",
      "loss:46.499576568603516\n",
      "loss:23.322622299194336\n",
      "loss:30.838531494140625\n",
      "loss:36.80044174194336\n",
      "loss:32.781089782714844\n",
      "loss:45.40332794189453\n",
      "loss:40.73533248901367\n",
      "loss:35.49393081665039\n",
      "loss:62.28942108154297\n",
      "loss:45.84294509887695\n",
      "loss:95.38887023925781\n",
      "loss:37.39052200317383\n",
      "loss:40.55360412597656\n",
      "loss:32.21271514892578\n",
      "loss:64.94583129882812\n",
      "loss:35.140174865722656\n",
      "loss:140.85800170898438\n"
     ]
    },
    {
     "data": {
      "application/vnd.jupyter.widget-view+json": {
       "model_id": "69687653a813483baa1fc244398c1ea3",
       "version_major": 2,
       "version_minor": 0
      },
      "text/plain": [
       "  0%|          | 0/40 [00:00<?, ?it/s]"
      ]
     },
     "metadata": {},
     "output_type": "display_data"
    },
    {
     "name": "stdout",
     "output_type": "stream",
     "text": [
      "loss:26.280607223510742\n",
      "loss:46.815208435058594\n",
      "loss:22.234668731689453\n",
      "loss:30.699247360229492\n",
      "loss:24.619585037231445\n",
      "loss:22.05493927001953\n",
      "loss:51.31569290161133\n",
      "loss:46.425662994384766\n",
      "loss:79.25199890136719\n",
      "loss:46.91354751586914\n",
      "loss:26.20966148376465\n",
      "loss:64.28068542480469\n",
      "loss:31.440603256225586\n",
      "loss:40.799049377441406\n",
      "loss:51.80793380737305\n",
      "loss:75.37028503417969\n",
      "loss:25.953147888183594\n",
      "loss:41.172752380371094\n",
      "loss:38.74232482910156\n",
      "loss:23.339725494384766\n",
      "loss:31.70900535583496\n",
      "loss:52.83413314819336\n",
      "loss:54.50821304321289\n",
      "loss:45.47566223144531\n",
      "loss:48.464866638183594\n",
      "loss:64.10486602783203\n",
      "loss:37.04153060913086\n",
      "loss:39.545692443847656\n",
      "loss:34.271087646484375\n",
      "loss:65.60820007324219\n",
      "loss:24.41901206970215\n",
      "loss:37.43891906738281\n",
      "loss:48.28966522216797\n",
      "loss:59.78048324584961\n",
      "loss:58.96888732910156\n",
      "loss:54.07883071899414\n",
      "loss:35.11479949951172\n",
      "loss:43.95023727416992\n",
      "loss:68.33406829833984\n",
      "loss:70.77806091308594\n"
     ]
    },
    {
     "data": {
      "application/vnd.jupyter.widget-view+json": {
       "model_id": "35d00ba8b4b94462a0dfcbfa76dea704",
       "version_major": 2,
       "version_minor": 0
      },
      "text/plain": [
       "  0%|          | 0/40 [00:00<?, ?it/s]"
      ]
     },
     "metadata": {},
     "output_type": "display_data"
    },
    {
     "name": "stdout",
     "output_type": "stream",
     "text": [
      "loss:60.117027282714844\n",
      "loss:40.965049743652344\n",
      "loss:27.56037712097168\n",
      "loss:35.05126953125\n",
      "loss:42.00566482543945\n",
      "loss:49.94755554199219\n",
      "loss:42.686649322509766\n",
      "loss:24.39528465270996\n",
      "loss:36.31934356689453\n",
      "loss:81.3311767578125\n",
      "loss:25.024898529052734\n",
      "loss:39.248355865478516\n",
      "loss:38.09712600708008\n",
      "loss:88.84225463867188\n",
      "loss:70.48892974853516\n",
      "loss:47.17873001098633\n",
      "loss:62.934974670410156\n",
      "loss:26.623210906982422\n",
      "loss:36.60813522338867\n",
      "loss:22.506467819213867\n",
      "loss:53.71733474731445\n",
      "loss:64.0516357421875\n",
      "loss:74.08138275146484\n",
      "loss:32.45212173461914\n",
      "loss:35.65001678466797\n",
      "loss:21.30975341796875\n",
      "loss:37.59404373168945\n",
      "loss:43.961097717285156\n",
      "loss:66.04523468017578\n",
      "loss:37.15696716308594\n",
      "loss:59.43571853637695\n",
      "loss:33.23581314086914\n",
      "loss:35.18864822387695\n",
      "loss:25.427682876586914\n",
      "loss:36.2826042175293\n",
      "loss:41.756900787353516\n",
      "loss:36.74331283569336\n",
      "loss:17.10206413269043\n",
      "loss:53.577423095703125\n",
      "loss:183.13246154785156\n"
     ]
    },
    {
     "data": {
      "application/vnd.jupyter.widget-view+json": {
       "model_id": "68136bae3f2f4220b65ab04dbae5be33",
       "version_major": 2,
       "version_minor": 0
      },
      "text/plain": [
       "  0%|          | 0/40 [00:00<?, ?it/s]"
      ]
     },
     "metadata": {},
     "output_type": "display_data"
    },
    {
     "name": "stdout",
     "output_type": "stream",
     "text": [
      "loss:37.112022399902344\n",
      "loss:28.420495986938477\n",
      "loss:31.512968063354492\n",
      "loss:26.39305877685547\n",
      "loss:83.27007293701172\n",
      "loss:44.66077423095703\n",
      "loss:44.66032791137695\n",
      "loss:49.865455627441406\n",
      "loss:28.27988052368164\n",
      "loss:41.07147216796875\n",
      "loss:32.71665573120117\n",
      "loss:99.56066131591797\n",
      "loss:43.02110290527344\n",
      "loss:36.274070739746094\n",
      "loss:46.67544174194336\n",
      "loss:48.0424690246582\n",
      "loss:17.55813980102539\n",
      "loss:38.22664260864258\n",
      "loss:33.93916702270508\n",
      "loss:40.336856842041016\n",
      "loss:32.623741149902344\n",
      "loss:70.81747436523438\n",
      "loss:35.8357048034668\n",
      "loss:63.02884292602539\n",
      "loss:31.908124923706055\n",
      "loss:40.87871170043945\n",
      "loss:49.44890594482422\n",
      "loss:64.45330810546875\n",
      "loss:33.37430191040039\n",
      "loss:63.40689468383789\n",
      "loss:56.0980224609375\n",
      "loss:76.42546081542969\n",
      "loss:25.612131118774414\n",
      "loss:24.16456413269043\n",
      "loss:23.526384353637695\n",
      "loss:36.39735412597656\n",
      "loss:41.08127975463867\n",
      "loss:48.217384338378906\n",
      "loss:34.23869705200195\n",
      "loss:22.501541137695312\n"
     ]
    },
    {
     "data": {
      "application/vnd.jupyter.widget-view+json": {
       "model_id": "171728146b704a3382a3dd086750b853",
       "version_major": 2,
       "version_minor": 0
      },
      "text/plain": [
       "  0%|          | 0/40 [00:00<?, ?it/s]"
      ]
     },
     "metadata": {},
     "output_type": "display_data"
    },
    {
     "name": "stdout",
     "output_type": "stream",
     "text": [
      "loss:53.247406005859375\n",
      "loss:52.3317756652832\n",
      "loss:61.799354553222656\n",
      "loss:47.8582878112793\n",
      "loss:59.22011947631836\n",
      "loss:88.47325134277344\n",
      "loss:54.13938903808594\n",
      "loss:69.37493896484375\n",
      "loss:58.386688232421875\n",
      "loss:33.759334564208984\n",
      "loss:29.54535484313965\n",
      "loss:47.18058395385742\n",
      "loss:59.217735290527344\n",
      "loss:19.29486083984375\n",
      "loss:27.853321075439453\n",
      "loss:28.932674407958984\n",
      "loss:35.003841400146484\n",
      "loss:77.83513641357422\n",
      "loss:7.17603063583374\n",
      "loss:15.394134521484375\n",
      "loss:33.38047409057617\n",
      "loss:29.847009658813477\n",
      "loss:42.39329147338867\n",
      "loss:39.97532653808594\n",
      "loss:31.996381759643555\n",
      "loss:45.040199279785156\n",
      "loss:55.28895568847656\n",
      "loss:61.72229766845703\n",
      "loss:50.357547760009766\n",
      "loss:36.434837341308594\n",
      "loss:41.204566955566406\n",
      "loss:24.170927047729492\n",
      "loss:29.35357666015625\n",
      "loss:48.45003890991211\n",
      "loss:36.21043395996094\n",
      "loss:28.252347946166992\n",
      "loss:63.67206573486328\n",
      "loss:39.60984420776367\n",
      "loss:29.888870239257812\n",
      "loss:30.768033981323242\n"
     ]
    },
    {
     "data": {
      "application/vnd.jupyter.widget-view+json": {
       "model_id": "c6ee377c263f4babb870280ce992bcc2",
       "version_major": 2,
       "version_minor": 0
      },
      "text/plain": [
       "  0%|          | 0/40 [00:00<?, ?it/s]"
      ]
     },
     "metadata": {},
     "output_type": "display_data"
    },
    {
     "name": "stdout",
     "output_type": "stream",
     "text": [
      "loss:37.622745513916016\n",
      "loss:29.479013442993164\n",
      "loss:47.48786926269531\n",
      "loss:30.88388442993164\n",
      "loss:24.817747116088867\n",
      "loss:45.61343765258789\n",
      "loss:45.93141174316406\n",
      "loss:29.27655029296875\n",
      "loss:34.515235900878906\n",
      "loss:51.10870361328125\n",
      "loss:27.037479400634766\n",
      "loss:29.064390182495117\n",
      "loss:25.491212844848633\n",
      "loss:42.311214447021484\n",
      "loss:86.70417022705078\n",
      "loss:32.059513092041016\n",
      "loss:31.555110931396484\n",
      "loss:46.35935592651367\n",
      "loss:52.594444274902344\n",
      "loss:83.16413116455078\n",
      "loss:59.370391845703125\n",
      "loss:50.46080780029297\n",
      "loss:32.297821044921875\n",
      "loss:36.55504608154297\n",
      "loss:35.9378776550293\n",
      "loss:45.92951965332031\n",
      "loss:70.33341979980469\n",
      "loss:51.38925552368164\n",
      "loss:46.87784194946289\n",
      "loss:55.496395111083984\n",
      "loss:54.555538177490234\n",
      "loss:30.46225357055664\n",
      "loss:24.367122650146484\n",
      "loss:34.14951705932617\n",
      "loss:24.89349937438965\n",
      "loss:49.43974304199219\n",
      "loss:42.31593322753906\n",
      "loss:39.01263427734375\n",
      "loss:64.81267547607422\n",
      "loss:67.24626922607422\n"
     ]
    },
    {
     "data": {
      "application/vnd.jupyter.widget-view+json": {
       "model_id": "cee4808d462c4b1ea7ce4f7d81c4151e",
       "version_major": 2,
       "version_minor": 0
      },
      "text/plain": [
       "  0%|          | 0/40 [00:00<?, ?it/s]"
      ]
     },
     "metadata": {},
     "output_type": "display_data"
    },
    {
     "name": "stdout",
     "output_type": "stream",
     "text": [
      "loss:48.370635986328125\n",
      "loss:57.18559265136719\n",
      "loss:46.17613983154297\n",
      "loss:95.85504913330078\n",
      "loss:32.27385711669922\n",
      "loss:47.996246337890625\n",
      "loss:57.03696060180664\n",
      "loss:38.980445861816406\n",
      "loss:51.00856399536133\n",
      "loss:23.520797729492188\n",
      "loss:47.72674560546875\n",
      "loss:40.055885314941406\n",
      "loss:64.32904052734375\n",
      "loss:41.90234375\n",
      "loss:35.303985595703125\n",
      "loss:28.331687927246094\n",
      "loss:29.899822235107422\n",
      "loss:38.33486557006836\n",
      "loss:58.11918640136719\n",
      "loss:46.556400299072266\n",
      "loss:44.160091400146484\n",
      "loss:28.20366668701172\n",
      "loss:63.82499694824219\n",
      "loss:39.99829864501953\n",
      "loss:40.249969482421875\n",
      "loss:41.909629821777344\n",
      "loss:40.35245132446289\n",
      "loss:35.72600555419922\n",
      "loss:67.54922485351562\n",
      "loss:35.9731330871582\n",
      "loss:43.134857177734375\n",
      "loss:33.570682525634766\n",
      "loss:57.3231201171875\n",
      "loss:16.165775299072266\n",
      "loss:29.40030860900879\n",
      "loss:38.62796401977539\n",
      "loss:30.248319625854492\n",
      "loss:34.89368438720703\n",
      "loss:22.190216064453125\n",
      "loss:54.243980407714844\n"
     ]
    },
    {
     "data": {
      "application/vnd.jupyter.widget-view+json": {
       "model_id": "c8cb672438f645e082e5d18b7dbfc62b",
       "version_major": 2,
       "version_minor": 0
      },
      "text/plain": [
       "  0%|          | 0/40 [00:00<?, ?it/s]"
      ]
     },
     "metadata": {},
     "output_type": "display_data"
    },
    {
     "name": "stdout",
     "output_type": "stream",
     "text": [
      "loss:45.490867614746094\n",
      "loss:27.144886016845703\n",
      "loss:55.32389831542969\n",
      "loss:38.07440948486328\n",
      "loss:26.142948150634766\n",
      "loss:53.847747802734375\n",
      "loss:25.109840393066406\n",
      "loss:27.663333892822266\n",
      "loss:35.881717681884766\n",
      "loss:61.81753158569336\n",
      "loss:63.14107894897461\n",
      "loss:30.97738265991211\n",
      "loss:55.1195182800293\n",
      "loss:62.41032409667969\n",
      "loss:54.54027557373047\n",
      "loss:32.202754974365234\n",
      "loss:22.135282516479492\n",
      "loss:39.030426025390625\n",
      "loss:66.96662902832031\n",
      "loss:40.65296936035156\n",
      "loss:46.318546295166016\n",
      "loss:35.779823303222656\n",
      "loss:46.13727569580078\n",
      "loss:21.83820152282715\n",
      "loss:36.706947326660156\n",
      "loss:31.768001556396484\n",
      "loss:35.80091094970703\n",
      "loss:52.823036193847656\n",
      "loss:42.8172492980957\n",
      "loss:26.29778480529785\n",
      "loss:19.314916610717773\n",
      "loss:43.04832077026367\n",
      "loss:64.99639129638672\n",
      "loss:56.17113494873047\n",
      "loss:18.70367431640625\n",
      "loss:62.928627014160156\n",
      "loss:49.29261779785156\n",
      "loss:51.726016998291016\n",
      "loss:56.06247329711914\n",
      "loss:75.37806701660156\n"
     ]
    },
    {
     "data": {
      "application/vnd.jupyter.widget-view+json": {
       "model_id": "798909abfdbb4a81b2b455275fe160b8",
       "version_major": 2,
       "version_minor": 0
      },
      "text/plain": [
       "  0%|          | 0/40 [00:00<?, ?it/s]"
      ]
     },
     "metadata": {},
     "output_type": "display_data"
    },
    {
     "name": "stdout",
     "output_type": "stream",
     "text": [
      "loss:63.31834030151367\n",
      "loss:32.877113342285156\n",
      "loss:42.76638412475586\n",
      "loss:39.60983657836914\n",
      "loss:28.790180206298828\n",
      "loss:62.06681442260742\n",
      "loss:30.11676597595215\n",
      "loss:73.3304214477539\n",
      "loss:53.494293212890625\n",
      "loss:55.42548751831055\n",
      "loss:39.58788299560547\n",
      "loss:33.44450378417969\n",
      "loss:34.995338439941406\n",
      "loss:41.575260162353516\n",
      "loss:28.6467227935791\n",
      "loss:42.18032455444336\n",
      "loss:28.520748138427734\n",
      "loss:39.35352325439453\n",
      "loss:47.060848236083984\n",
      "loss:27.57577896118164\n",
      "loss:27.861852645874023\n",
      "loss:63.25625228881836\n",
      "loss:46.343658447265625\n",
      "loss:54.20572280883789\n",
      "loss:33.20841598510742\n",
      "loss:40.67159652709961\n",
      "loss:58.43914031982422\n",
      "loss:18.267980575561523\n",
      "loss:56.11821746826172\n",
      "loss:22.98341178894043\n",
      "loss:40.733036041259766\n",
      "loss:22.73011016845703\n",
      "loss:39.22142791748047\n",
      "loss:34.88475799560547\n",
      "loss:35.12009811401367\n",
      "loss:56.32207489013672\n",
      "loss:47.71677017211914\n",
      "loss:57.85556411743164\n",
      "loss:57.22621154785156\n",
      "loss:8.158004760742188\n"
     ]
    },
    {
     "data": {
      "application/vnd.jupyter.widget-view+json": {
       "model_id": "2084d187ceb24ec49b4d1f156f000ae7",
       "version_major": 2,
       "version_minor": 0
      },
      "text/plain": [
       "  0%|          | 0/40 [00:00<?, ?it/s]"
      ]
     },
     "metadata": {},
     "output_type": "display_data"
    },
    {
     "name": "stdout",
     "output_type": "stream",
     "text": [
      "loss:45.5774040222168\n",
      "loss:27.04351043701172\n",
      "loss:48.27984619140625\n",
      "loss:49.10385513305664\n",
      "loss:30.593612670898438\n",
      "loss:56.7520637512207\n",
      "loss:35.03407287597656\n",
      "loss:33.393070220947266\n",
      "loss:35.679439544677734\n",
      "loss:48.215797424316406\n",
      "loss:49.40797424316406\n",
      "loss:21.74392318725586\n",
      "loss:29.035018920898438\n",
      "loss:48.19375991821289\n",
      "loss:35.83203125\n",
      "loss:37.17494201660156\n",
      "loss:38.084346771240234\n",
      "loss:26.609943389892578\n",
      "loss:63.25795364379883\n",
      "loss:30.38160514831543\n",
      "loss:54.63470458984375\n",
      "loss:53.45779800415039\n",
      "loss:32.94710922241211\n",
      "loss:68.41455078125\n",
      "loss:45.013465881347656\n",
      "loss:23.93419075012207\n",
      "loss:25.939987182617188\n",
      "loss:24.02484130859375\n",
      "loss:65.2165298461914\n",
      "loss:52.73667907714844\n",
      "loss:61.705101013183594\n",
      "loss:55.65994644165039\n",
      "loss:51.975643157958984\n",
      "loss:40.06332778930664\n",
      "loss:47.56294631958008\n",
      "loss:46.72624969482422\n",
      "loss:28.57013702392578\n",
      "loss:32.3961296081543\n",
      "loss:43.27032470703125\n",
      "loss:82.04725646972656\n"
     ]
    },
    {
     "data": {
      "application/vnd.jupyter.widget-view+json": {
       "model_id": "b059a560092145ba9ef80dc1ef0d2e74",
       "version_major": 2,
       "version_minor": 0
      },
      "text/plain": [
       "  0%|          | 0/40 [00:00<?, ?it/s]"
      ]
     },
     "metadata": {},
     "output_type": "display_data"
    },
    {
     "name": "stdout",
     "output_type": "stream",
     "text": [
      "loss:53.60397720336914\n",
      "loss:36.350738525390625\n",
      "loss:69.7222900390625\n",
      "loss:60.32247543334961\n",
      "loss:44.633663177490234\n",
      "loss:62.34752655029297\n",
      "loss:47.462215423583984\n",
      "loss:61.27598571777344\n",
      "loss:53.632232666015625\n",
      "loss:35.84823989868164\n",
      "loss:44.15320587158203\n",
      "loss:30.995344161987305\n",
      "loss:41.84244918823242\n",
      "loss:36.398658752441406\n",
      "loss:29.991003036499023\n",
      "loss:31.34157943725586\n",
      "loss:34.83055114746094\n",
      "loss:37.3538703918457\n",
      "loss:41.16370391845703\n",
      "loss:40.58613586425781\n",
      "loss:26.440040588378906\n",
      "loss:42.60787582397461\n",
      "loss:36.63988494873047\n",
      "loss:58.44191360473633\n",
      "loss:42.34578323364258\n",
      "loss:18.162790298461914\n",
      "loss:50.16520690917969\n",
      "loss:39.97681427001953\n",
      "loss:33.523860931396484\n",
      "loss:35.51060485839844\n",
      "loss:38.511287689208984\n",
      "loss:33.66223907470703\n",
      "loss:50.077125549316406\n",
      "loss:25.295469284057617\n",
      "loss:56.07147979736328\n",
      "loss:35.34496307373047\n",
      "loss:32.75200271606445\n",
      "loss:37.76172637939453\n",
      "loss:52.5213508605957\n",
      "loss:8.50789737701416\n"
     ]
    },
    {
     "data": {
      "application/vnd.jupyter.widget-view+json": {
       "model_id": "37fdaaac34224d0aa9b961410136723d",
       "version_major": 2,
       "version_minor": 0
      },
      "text/plain": [
       "  0%|          | 0/40 [00:00<?, ?it/s]"
      ]
     },
     "metadata": {},
     "output_type": "display_data"
    },
    {
     "name": "stdout",
     "output_type": "stream",
     "text": [
      "loss:41.88914489746094\n",
      "loss:48.15753173828125\n",
      "loss:46.208457946777344\n",
      "loss:20.37690544128418\n",
      "loss:41.52113342285156\n",
      "loss:36.77309799194336\n",
      "loss:24.827552795410156\n",
      "loss:33.924503326416016\n",
      "loss:20.676828384399414\n",
      "loss:39.223426818847656\n",
      "loss:38.74443817138672\n",
      "loss:81.77215576171875\n",
      "loss:42.16069030761719\n",
      "loss:30.852018356323242\n",
      "loss:49.961307525634766\n",
      "loss:43.664939880371094\n",
      "loss:34.27987289428711\n",
      "loss:37.153839111328125\n",
      "loss:32.0047721862793\n",
      "loss:38.07883834838867\n",
      "loss:22.985139846801758\n",
      "loss:37.19053649902344\n",
      "loss:46.29121398925781\n",
      "loss:50.02982711791992\n",
      "loss:38.549991607666016\n",
      "loss:34.462066650390625\n",
      "loss:57.250545501708984\n",
      "loss:41.97410583496094\n",
      "loss:36.20198440551758\n",
      "loss:52.668724060058594\n",
      "loss:27.368423461914062\n",
      "loss:40.14841842651367\n",
      "loss:79.36998748779297\n",
      "loss:27.603084564208984\n",
      "loss:58.57429122924805\n",
      "loss:38.24520492553711\n",
      "loss:73.12127685546875\n",
      "loss:30.6238956451416\n",
      "loss:55.7074089050293\n",
      "loss:19.93678855895996\n"
     ]
    },
    {
     "data": {
      "application/vnd.jupyter.widget-view+json": {
       "model_id": "025cffa53940416c93b06b53aee22a91",
       "version_major": 2,
       "version_minor": 0
      },
      "text/plain": [
       "  0%|          | 0/40 [00:00<?, ?it/s]"
      ]
     },
     "metadata": {},
     "output_type": "display_data"
    },
    {
     "name": "stdout",
     "output_type": "stream",
     "text": [
      "loss:36.66712951660156\n",
      "loss:33.319358825683594\n",
      "loss:66.91956329345703\n",
      "loss:51.43211364746094\n",
      "loss:54.93452072143555\n",
      "loss:19.95183563232422\n",
      "loss:44.14400863647461\n",
      "loss:40.39949035644531\n",
      "loss:23.073986053466797\n",
      "loss:76.24320983886719\n",
      "loss:18.938907623291016\n",
      "loss:36.1087532043457\n",
      "loss:44.263118743896484\n",
      "loss:43.1168327331543\n",
      "loss:39.15187454223633\n",
      "loss:33.8634033203125\n",
      "loss:44.83707809448242\n",
      "loss:26.175687789916992\n",
      "loss:34.720802307128906\n",
      "loss:21.141658782958984\n",
      "loss:22.679370880126953\n",
      "loss:35.22439193725586\n",
      "loss:20.896682739257812\n",
      "loss:62.714176177978516\n",
      "loss:35.93791198730469\n",
      "loss:39.73896789550781\n",
      "loss:57.61198043823242\n",
      "loss:77.00965881347656\n",
      "loss:27.348020553588867\n",
      "loss:32.65450668334961\n",
      "loss:55.5089111328125\n",
      "loss:37.878814697265625\n",
      "loss:78.60627746582031\n",
      "loss:38.03532028198242\n",
      "loss:26.956247329711914\n",
      "loss:56.576473236083984\n",
      "loss:70.11683654785156\n",
      "loss:27.326637268066406\n",
      "loss:27.953733444213867\n",
      "loss:50.12229537963867\n"
     ]
    },
    {
     "data": {
      "application/vnd.jupyter.widget-view+json": {
       "model_id": "9eac2c075669487a933b9247cfbd4d14",
       "version_major": 2,
       "version_minor": 0
      },
      "text/plain": [
       "  0%|          | 0/40 [00:00<?, ?it/s]"
      ]
     },
     "metadata": {},
     "output_type": "display_data"
    },
    {
     "name": "stdout",
     "output_type": "stream",
     "text": [
      "loss:44.8293571472168\n",
      "loss:25.099720001220703\n",
      "loss:45.048641204833984\n",
      "loss:62.81127166748047\n",
      "loss:35.292728424072266\n",
      "loss:50.36851501464844\n",
      "loss:36.20707702636719\n",
      "loss:31.068988800048828\n",
      "loss:33.81935119628906\n",
      "loss:24.074832916259766\n",
      "loss:14.1733980178833\n",
      "loss:58.11004638671875\n",
      "loss:49.93359375\n",
      "loss:33.249237060546875\n",
      "loss:21.985870361328125\n",
      "loss:94.66909790039062\n",
      "loss:39.82954406738281\n",
      "loss:57.57649612426758\n",
      "loss:35.84846115112305\n",
      "loss:51.987796783447266\n",
      "loss:19.364469528198242\n",
      "loss:38.27999496459961\n",
      "loss:63.59095764160156\n",
      "loss:41.42858123779297\n",
      "loss:38.588165283203125\n",
      "loss:37.44460678100586\n",
      "loss:33.950645446777344\n",
      "loss:46.3954963684082\n",
      "loss:51.47639846801758\n",
      "loss:22.67192840576172\n",
      "loss:66.29450225830078\n",
      "loss:32.13336944580078\n",
      "loss:33.40216064453125\n",
      "loss:39.947357177734375\n",
      "loss:35.921173095703125\n",
      "loss:38.807029724121094\n",
      "loss:23.843006134033203\n",
      "loss:46.910240173339844\n",
      "loss:55.630680084228516\n",
      "loss:52.09121322631836\n"
     ]
    },
    {
     "data": {
      "application/vnd.jupyter.widget-view+json": {
       "model_id": "9cd6aa2043f64f15bc08f67931afc199",
       "version_major": 2,
       "version_minor": 0
      },
      "text/plain": [
       "  0%|          | 0/40 [00:00<?, ?it/s]"
      ]
     },
     "metadata": {},
     "output_type": "display_data"
    },
    {
     "name": "stdout",
     "output_type": "stream",
     "text": [
      "loss:32.62400817871094\n",
      "loss:57.167842864990234\n",
      "loss:27.66424560546875\n",
      "loss:42.11159896850586\n",
      "loss:69.32981872558594\n",
      "loss:41.72294616699219\n",
      "loss:48.6749382019043\n",
      "loss:31.27872657775879\n",
      "loss:54.814788818359375\n",
      "loss:15.238771438598633\n",
      "loss:33.22603225708008\n",
      "loss:34.05397415161133\n",
      "loss:26.927791595458984\n",
      "loss:21.53855323791504\n",
      "loss:63.20405578613281\n",
      "loss:77.08052825927734\n",
      "loss:44.14075469970703\n",
      "loss:22.352489471435547\n",
      "loss:47.65593338012695\n",
      "loss:78.49517822265625\n",
      "loss:30.478031158447266\n",
      "loss:42.700252532958984\n",
      "loss:41.1213493347168\n",
      "loss:15.900378227233887\n",
      "loss:26.79537582397461\n",
      "loss:64.296875\n",
      "loss:44.14198303222656\n",
      "loss:44.39457321166992\n",
      "loss:30.421472549438477\n",
      "loss:60.02728271484375\n",
      "loss:24.99742889404297\n",
      "loss:30.085390090942383\n",
      "loss:50.31563186645508\n",
      "loss:54.34492874145508\n",
      "loss:44.05485916137695\n",
      "loss:31.93114471435547\n",
      "loss:23.48921775817871\n",
      "loss:37.26788330078125\n",
      "loss:40.74600601196289\n",
      "loss:1.0467333793640137\n"
     ]
    },
    {
     "data": {
      "application/vnd.jupyter.widget-view+json": {
       "model_id": "ea2859c2703b420f99b780a67849f6ca",
       "version_major": 2,
       "version_minor": 0
      },
      "text/plain": [
       "  0%|          | 0/40 [00:00<?, ?it/s]"
      ]
     },
     "metadata": {},
     "output_type": "display_data"
    },
    {
     "name": "stdout",
     "output_type": "stream",
     "text": [
      "loss:39.39916229248047\n",
      "loss:24.463468551635742\n",
      "loss:25.877302169799805\n",
      "loss:28.904541015625\n",
      "loss:64.35868072509766\n",
      "loss:57.39923095703125\n",
      "loss:39.453125\n",
      "loss:39.0640869140625\n",
      "loss:38.50070571899414\n",
      "loss:26.288732528686523\n",
      "loss:59.884849548339844\n",
      "loss:23.40201187133789\n",
      "loss:25.449634552001953\n",
      "loss:32.520790100097656\n",
      "loss:57.6555061340332\n",
      "loss:44.04334259033203\n",
      "loss:80.10164642333984\n",
      "loss:22.24695587158203\n",
      "loss:30.417573928833008\n",
      "loss:43.34955596923828\n",
      "loss:33.87248611450195\n",
      "loss:29.759227752685547\n",
      "loss:33.1221923828125\n",
      "loss:44.002784729003906\n",
      "loss:22.349746704101562\n",
      "loss:26.064313888549805\n",
      "loss:40.832305908203125\n",
      "loss:73.56475067138672\n",
      "loss:48.46876525878906\n",
      "loss:51.2496337890625\n",
      "loss:37.591983795166016\n",
      "loss:35.017486572265625\n",
      "loss:39.03258514404297\n",
      "loss:33.06896209716797\n",
      "loss:80.63575744628906\n",
      "loss:51.41537857055664\n",
      "loss:35.918575286865234\n",
      "loss:38.27372360229492\n",
      "loss:42.26383972167969\n",
      "loss:0.7607195377349854\n"
     ]
    },
    {
     "data": {
      "application/vnd.jupyter.widget-view+json": {
       "model_id": "c48268b41c274b3498193a67facf65ad",
       "version_major": 2,
       "version_minor": 0
      },
      "text/plain": [
       "  0%|          | 0/40 [00:00<?, ?it/s]"
      ]
     },
     "metadata": {},
     "output_type": "display_data"
    },
    {
     "name": "stdout",
     "output_type": "stream",
     "text": [
      "loss:32.03219223022461\n",
      "loss:18.13144874572754\n",
      "loss:23.4766902923584\n",
      "loss:26.843910217285156\n",
      "loss:42.787532806396484\n",
      "loss:30.84007453918457\n",
      "loss:53.82946014404297\n",
      "loss:34.193599700927734\n",
      "loss:51.943702697753906\n",
      "loss:30.19694709777832\n",
      "loss:46.645198822021484\n",
      "loss:51.00703430175781\n",
      "loss:43.12397003173828\n",
      "loss:40.814353942871094\n",
      "loss:31.602558135986328\n",
      "loss:71.52827453613281\n",
      "loss:28.294055938720703\n",
      "loss:45.86219787597656\n",
      "loss:53.223087310791016\n",
      "loss:49.43986129760742\n",
      "loss:38.11293029785156\n",
      "loss:47.11472702026367\n",
      "loss:80.43031311035156\n",
      "loss:54.92803192138672\n",
      "loss:31.741666793823242\n",
      "loss:31.31756591796875\n",
      "loss:41.67535400390625\n",
      "loss:30.42197036743164\n",
      "loss:30.144868850708008\n",
      "loss:49.81541442871094\n",
      "loss:39.09722137451172\n",
      "loss:46.87232971191406\n",
      "loss:43.25142288208008\n",
      "loss:29.692028045654297\n",
      "loss:22.570249557495117\n",
      "loss:38.843040466308594\n",
      "loss:45.34375\n",
      "loss:43.082942962646484\n",
      "loss:35.12965774536133\n",
      "loss:92.00236511230469\n"
     ]
    },
    {
     "data": {
      "application/vnd.jupyter.widget-view+json": {
       "model_id": "6839cb9061244cec8b5074a399aa5bb8",
       "version_major": 2,
       "version_minor": 0
      },
      "text/plain": [
       "  0%|          | 0/40 [00:00<?, ?it/s]"
      ]
     },
     "metadata": {},
     "output_type": "display_data"
    },
    {
     "name": "stdout",
     "output_type": "stream",
     "text": [
      "loss:58.88369369506836\n",
      "loss:21.35076141357422\n",
      "loss:25.322967529296875\n",
      "loss:71.48663330078125\n",
      "loss:71.2894058227539\n",
      "loss:49.844600677490234\n",
      "loss:35.60187530517578\n",
      "loss:59.67115783691406\n",
      "loss:39.61086654663086\n",
      "loss:37.81439971923828\n",
      "loss:31.032682418823242\n",
      "loss:36.66294479370117\n",
      "loss:41.08831024169922\n",
      "loss:32.42414093017578\n",
      "loss:38.255340576171875\n",
      "loss:47.888729095458984\n",
      "loss:61.009029388427734\n",
      "loss:43.27461624145508\n",
      "loss:42.08827590942383\n",
      "loss:24.97579574584961\n",
      "loss:14.93693733215332\n",
      "loss:25.98989486694336\n",
      "loss:41.898887634277344\n",
      "loss:31.908069610595703\n",
      "loss:44.93575668334961\n",
      "loss:25.67477035522461\n",
      "loss:60.13591766357422\n",
      "loss:34.8071403503418\n",
      "loss:13.257450103759766\n",
      "loss:41.25560760498047\n",
      "loss:41.41678237915039\n",
      "loss:17.20482063293457\n",
      "loss:49.123409271240234\n",
      "loss:27.822696685791016\n",
      "loss:81.4316177368164\n",
      "loss:27.904138565063477\n",
      "loss:59.18973159790039\n",
      "loss:30.313232421875\n",
      "loss:43.257667541503906\n",
      "loss:15.376690864562988\n"
     ]
    },
    {
     "data": {
      "application/vnd.jupyter.widget-view+json": {
       "model_id": "717e7c24d4454a0ba97bfcee6fc8b7d6",
       "version_major": 2,
       "version_minor": 0
      },
      "text/plain": [
       "  0%|          | 0/40 [00:00<?, ?it/s]"
      ]
     },
     "metadata": {},
     "output_type": "display_data"
    },
    {
     "name": "stdout",
     "output_type": "stream",
     "text": [
      "loss:34.808837890625\n",
      "loss:21.62132453918457\n",
      "loss:30.980636596679688\n",
      "loss:34.72227096557617\n",
      "loss:42.808448791503906\n",
      "loss:27.211729049682617\n",
      "loss:69.34947204589844\n",
      "loss:32.311004638671875\n",
      "loss:33.662445068359375\n",
      "loss:55.587520599365234\n",
      "loss:39.49879837036133\n",
      "loss:21.338991165161133\n",
      "loss:27.047286987304688\n",
      "loss:40.39666748046875\n",
      "loss:32.07907485961914\n",
      "loss:30.475439071655273\n",
      "loss:48.611114501953125\n",
      "loss:29.672266006469727\n",
      "loss:35.36799621582031\n",
      "loss:30.43699073791504\n",
      "loss:36.732139587402344\n",
      "loss:53.0232048034668\n",
      "loss:75.83021545410156\n",
      "loss:51.97804260253906\n",
      "loss:28.626466751098633\n",
      "loss:59.52475357055664\n",
      "loss:28.56920051574707\n",
      "loss:33.2777214050293\n",
      "loss:70.21235656738281\n",
      "loss:34.93902587890625\n",
      "loss:25.152544021606445\n",
      "loss:71.73663330078125\n",
      "loss:45.1236572265625\n",
      "loss:34.55086135864258\n",
      "loss:37.648983001708984\n",
      "loss:45.8966064453125\n",
      "loss:37.18797302246094\n",
      "loss:40.2352180480957\n",
      "loss:46.62407302856445\n",
      "loss:7.850231647491455\n"
     ]
    },
    {
     "data": {
      "application/vnd.jupyter.widget-view+json": {
       "model_id": "aaca82fe0fd244f6a36c08b046791e06",
       "version_major": 2,
       "version_minor": 0
      },
      "text/plain": [
       "  0%|          | 0/40 [00:00<?, ?it/s]"
      ]
     },
     "metadata": {},
     "output_type": "display_data"
    },
    {
     "name": "stdout",
     "output_type": "stream",
     "text": [
      "loss:51.14962387084961\n",
      "loss:64.79833984375\n",
      "loss:38.977901458740234\n",
      "loss:26.150009155273438\n",
      "loss:43.980045318603516\n",
      "loss:21.597076416015625\n",
      "loss:35.39371871948242\n",
      "loss:18.203353881835938\n",
      "loss:41.65530014038086\n",
      "loss:27.7751522064209\n",
      "loss:50.73615646362305\n",
      "loss:36.45030975341797\n",
      "loss:46.58660125732422\n",
      "loss:23.419065475463867\n",
      "loss:47.74897003173828\n",
      "loss:50.07069778442383\n",
      "loss:33.98208999633789\n",
      "loss:33.710906982421875\n",
      "loss:42.41728210449219\n",
      "loss:19.162212371826172\n",
      "loss:59.68140411376953\n",
      "loss:16.321165084838867\n",
      "loss:31.73967170715332\n",
      "loss:39.7792854309082\n",
      "loss:20.972749710083008\n",
      "loss:83.2679672241211\n",
      "loss:38.42241287231445\n",
      "loss:45.53836441040039\n",
      "loss:26.373971939086914\n",
      "loss:56.661521911621094\n",
      "loss:50.26881790161133\n",
      "loss:36.8060417175293\n",
      "loss:47.272499084472656\n",
      "loss:38.502220153808594\n",
      "loss:49.865333557128906\n",
      "loss:39.357887268066406\n",
      "loss:47.439117431640625\n",
      "loss:69.79840850830078\n",
      "loss:15.89745044708252\n",
      "loss:5.091397285461426\n"
     ]
    },
    {
     "data": {
      "application/vnd.jupyter.widget-view+json": {
       "model_id": "169ba4579ba04d3fb198c38cc53eeb54",
       "version_major": 2,
       "version_minor": 0
      },
      "text/plain": [
       "  0%|          | 0/40 [00:00<?, ?it/s]"
      ]
     },
     "metadata": {},
     "output_type": "display_data"
    },
    {
     "name": "stdout",
     "output_type": "stream",
     "text": [
      "loss:26.027624130249023\n",
      "loss:26.47844123840332\n",
      "loss:38.51755905151367\n",
      "loss:35.66758728027344\n",
      "loss:34.69902420043945\n",
      "loss:37.54297637939453\n",
      "loss:20.39881134033203\n",
      "loss:38.56126022338867\n",
      "loss:51.64649963378906\n",
      "loss:33.26553726196289\n",
      "loss:31.560958862304688\n",
      "loss:51.625606536865234\n",
      "loss:21.6226749420166\n",
      "loss:59.08888244628906\n",
      "loss:30.225387573242188\n",
      "loss:67.88249206542969\n",
      "loss:38.99972152709961\n",
      "loss:16.92898941040039\n",
      "loss:26.091760635375977\n",
      "loss:40.023155212402344\n",
      "loss:26.293004989624023\n",
      "loss:14.81395435333252\n",
      "loss:44.58570098876953\n",
      "loss:37.86492156982422\n",
      "loss:85.39456176757812\n",
      "loss:29.77893829345703\n",
      "loss:33.73717498779297\n",
      "loss:33.29148483276367\n",
      "loss:35.09785461425781\n",
      "loss:51.67836380004883\n",
      "loss:44.63825607299805\n",
      "loss:40.05961227416992\n",
      "loss:59.15494918823242\n",
      "loss:21.316741943359375\n",
      "loss:25.22677993774414\n",
      "loss:79.62492370605469\n",
      "loss:72.2564697265625\n",
      "loss:36.043521881103516\n",
      "loss:58.561729431152344\n",
      "loss:66.12933349609375\n"
     ]
    },
    {
     "data": {
      "application/vnd.jupyter.widget-view+json": {
       "model_id": "07b6397e3c7b4fab9c46d46fb1c81f96",
       "version_major": 2,
       "version_minor": 0
      },
      "text/plain": [
       "  0%|          | 0/40 [00:00<?, ?it/s]"
      ]
     },
     "metadata": {},
     "output_type": "display_data"
    },
    {
     "name": "stdout",
     "output_type": "stream",
     "text": [
      "loss:28.904584884643555\n",
      "loss:37.78782653808594\n",
      "loss:20.53780746459961\n",
      "loss:49.15132522583008\n",
      "loss:37.070091247558594\n",
      "loss:31.136362075805664\n",
      "loss:29.944664001464844\n",
      "loss:27.55460548400879\n",
      "loss:43.561492919921875\n",
      "loss:40.939842224121094\n",
      "loss:19.50319480895996\n",
      "loss:30.894779205322266\n",
      "loss:44.72311019897461\n",
      "loss:42.89911651611328\n",
      "loss:25.090877532958984\n",
      "loss:53.313995361328125\n",
      "loss:74.21795654296875\n",
      "loss:31.20431900024414\n",
      "loss:30.913679122924805\n",
      "loss:73.56201171875\n",
      "loss:41.42878341674805\n",
      "loss:18.035259246826172\n",
      "loss:20.075374603271484\n",
      "loss:45.70770263671875\n",
      "loss:56.82691955566406\n",
      "loss:41.3489875793457\n",
      "loss:44.71932601928711\n",
      "loss:41.21269226074219\n",
      "loss:36.76612854003906\n",
      "loss:64.69773864746094\n",
      "loss:32.342811584472656\n",
      "loss:36.611045837402344\n",
      "loss:41.207275390625\n",
      "loss:47.912044525146484\n",
      "loss:36.496070861816406\n",
      "loss:41.48283386230469\n",
      "loss:34.8382453918457\n",
      "loss:53.62227249145508\n",
      "loss:32.963653564453125\n",
      "loss:180.72288513183594\n"
     ]
    },
    {
     "data": {
      "application/vnd.jupyter.widget-view+json": {
       "model_id": "9df9932499614cd8ac8bd0033bc1c4b9",
       "version_major": 2,
       "version_minor": 0
      },
      "text/plain": [
       "  0%|          | 0/40 [00:00<?, ?it/s]"
      ]
     },
     "metadata": {},
     "output_type": "display_data"
    },
    {
     "name": "stdout",
     "output_type": "stream",
     "text": [
      "loss:28.371570587158203\n",
      "loss:33.92329025268555\n",
      "loss:34.5605583190918\n",
      "loss:44.871761322021484\n",
      "loss:50.57361602783203\n",
      "loss:37.763832092285156\n",
      "loss:66.29640197753906\n",
      "loss:57.447601318359375\n",
      "loss:56.81035614013672\n",
      "loss:49.016639709472656\n",
      "loss:38.418434143066406\n",
      "loss:23.782886505126953\n",
      "loss:27.900609970092773\n",
      "loss:23.910293579101562\n",
      "loss:22.784818649291992\n",
      "loss:42.66075134277344\n",
      "loss:74.04086303710938\n",
      "loss:40.204193115234375\n",
      "loss:30.019832611083984\n",
      "loss:59.72135925292969\n",
      "loss:47.5970458984375\n",
      "loss:29.811323165893555\n",
      "loss:36.56105041503906\n",
      "loss:34.90148162841797\n",
      "loss:39.54795837402344\n",
      "loss:22.274917602539062\n",
      "loss:33.766746520996094\n",
      "loss:47.522254943847656\n",
      "loss:66.62025451660156\n",
      "loss:50.70415496826172\n",
      "loss:25.106853485107422\n",
      "loss:27.475818634033203\n",
      "loss:51.244606018066406\n",
      "loss:42.16329574584961\n",
      "loss:25.500362396240234\n",
      "loss:23.497804641723633\n",
      "loss:34.69601058959961\n",
      "loss:24.27132797241211\n",
      "loss:32.48616027832031\n",
      "loss:86.65711212158203\n"
     ]
    },
    {
     "data": {
      "application/vnd.jupyter.widget-view+json": {
       "model_id": "f4e97980f16341d3815bb2152a1bd280",
       "version_major": 2,
       "version_minor": 0
      },
      "text/plain": [
       "  0%|          | 0/40 [00:00<?, ?it/s]"
      ]
     },
     "metadata": {},
     "output_type": "display_data"
    },
    {
     "name": "stdout",
     "output_type": "stream",
     "text": [
      "loss:31.899770736694336\n",
      "loss:31.57758331298828\n",
      "loss:67.3443603515625\n",
      "loss:31.116628646850586\n",
      "loss:24.412607192993164\n",
      "loss:42.717010498046875\n",
      "loss:26.08086585998535\n",
      "loss:31.607030868530273\n",
      "loss:26.83844566345215\n",
      "loss:30.46428680419922\n",
      "loss:67.20559692382812\n",
      "loss:40.03963088989258\n",
      "loss:29.789901733398438\n",
      "loss:60.75267791748047\n",
      "loss:38.543792724609375\n",
      "loss:47.99525451660156\n",
      "loss:34.630653381347656\n",
      "loss:28.305561065673828\n",
      "loss:25.99007797241211\n",
      "loss:95.62191009521484\n",
      "loss:50.79310607910156\n",
      "loss:30.249649047851562\n",
      "loss:67.5945053100586\n",
      "loss:79.39440155029297\n",
      "loss:38.58317565917969\n",
      "loss:61.205562591552734\n",
      "loss:40.40431213378906\n",
      "loss:26.441564559936523\n",
      "loss:31.752498626708984\n",
      "loss:39.47262191772461\n",
      "loss:32.574886322021484\n",
      "loss:36.21072769165039\n",
      "loss:25.05436134338379\n",
      "loss:17.403657913208008\n",
      "loss:25.84196662902832\n",
      "loss:33.90758514404297\n",
      "loss:17.060636520385742\n",
      "loss:31.14192008972168\n",
      "loss:37.54495620727539\n",
      "loss:24.30685043334961\n"
     ]
    },
    {
     "data": {
      "application/vnd.jupyter.widget-view+json": {
       "model_id": "297f6e264b8240ed9ca2bc2179f7a9e1",
       "version_major": 2,
       "version_minor": 0
      },
      "text/plain": [
       "  0%|          | 0/40 [00:00<?, ?it/s]"
      ]
     },
     "metadata": {},
     "output_type": "display_data"
    },
    {
     "name": "stdout",
     "output_type": "stream",
     "text": [
      "loss:25.379989624023438\n",
      "loss:49.415733337402344\n",
      "loss:60.210304260253906\n",
      "loss:28.686481475830078\n",
      "loss:44.48332595825195\n",
      "loss:15.091625213623047\n",
      "loss:22.2989559173584\n",
      "loss:38.000091552734375\n",
      "loss:38.96089553833008\n",
      "loss:70.27483367919922\n",
      "loss:35.23881530761719\n",
      "loss:76.27471923828125\n",
      "loss:36.37807083129883\n",
      "loss:38.538490295410156\n",
      "loss:70.39073181152344\n",
      "loss:23.73117446899414\n",
      "loss:41.837615966796875\n",
      "loss:45.89399337768555\n",
      "loss:40.05162048339844\n",
      "loss:47.80318832397461\n",
      "loss:55.42728042602539\n",
      "loss:36.90937042236328\n",
      "loss:32.543296813964844\n",
      "loss:43.06955337524414\n",
      "loss:31.856569290161133\n",
      "loss:43.369754791259766\n",
      "loss:24.603363037109375\n",
      "loss:33.376190185546875\n",
      "loss:32.34090805053711\n",
      "loss:49.70243835449219\n",
      "loss:30.46092987060547\n",
      "loss:24.18941307067871\n",
      "loss:49.489349365234375\n",
      "loss:34.90596008300781\n",
      "loss:30.803171157836914\n",
      "loss:24.552669525146484\n",
      "loss:36.08314514160156\n",
      "loss:26.065446853637695\n",
      "loss:28.375530242919922\n",
      "loss:197.7144775390625\n"
     ]
    },
    {
     "data": {
      "application/vnd.jupyter.widget-view+json": {
       "model_id": "887136e4461741ecbd0a23a737d30670",
       "version_major": 2,
       "version_minor": 0
      },
      "text/plain": [
       "  0%|          | 0/40 [00:00<?, ?it/s]"
      ]
     },
     "metadata": {},
     "output_type": "display_data"
    },
    {
     "name": "stdout",
     "output_type": "stream",
     "text": [
      "loss:31.486318588256836\n",
      "loss:18.680532455444336\n",
      "loss:42.495609283447266\n",
      "loss:53.5417594909668\n",
      "loss:38.55573272705078\n",
      "loss:33.71615982055664\n",
      "loss:48.257598876953125\n",
      "loss:101.0525894165039\n",
      "loss:18.66657257080078\n",
      "loss:62.133460998535156\n",
      "loss:49.050453186035156\n",
      "loss:19.309541702270508\n",
      "loss:11.007637977600098\n",
      "loss:29.246959686279297\n",
      "loss:23.229595184326172\n",
      "loss:49.807289123535156\n",
      "loss:30.347604751586914\n",
      "loss:26.426652908325195\n",
      "loss:31.72679328918457\n",
      "loss:34.565773010253906\n",
      "loss:40.409175872802734\n",
      "loss:33.997772216796875\n",
      "loss:33.06617736816406\n",
      "loss:33.7279052734375\n",
      "loss:31.07938003540039\n",
      "loss:41.070533752441406\n",
      "loss:47.071266174316406\n",
      "loss:34.76244354248047\n",
      "loss:73.09536743164062\n",
      "loss:42.97818374633789\n",
      "loss:36.978355407714844\n",
      "loss:35.498779296875\n",
      "loss:28.648046493530273\n",
      "loss:58.87163543701172\n",
      "loss:48.87251663208008\n",
      "loss:41.05925750732422\n",
      "loss:25.424243927001953\n",
      "loss:24.667146682739258\n",
      "loss:49.73359680175781\n",
      "loss:120.4685287475586\n"
     ]
    },
    {
     "data": {
      "application/vnd.jupyter.widget-view+json": {
       "model_id": "4ef726550a6b456eb203c6daebee122c",
       "version_major": 2,
       "version_minor": 0
      },
      "text/plain": [
       "  0%|          | 0/40 [00:00<?, ?it/s]"
      ]
     },
     "metadata": {},
     "output_type": "display_data"
    },
    {
     "name": "stdout",
     "output_type": "stream",
     "text": [
      "loss:19.379175186157227\n",
      "loss:32.41496658325195\n",
      "loss:32.8229866027832\n",
      "loss:24.8555850982666\n",
      "loss:48.180091857910156\n",
      "loss:34.996585845947266\n",
      "loss:59.20458984375\n",
      "loss:24.579143524169922\n",
      "loss:53.112545013427734\n",
      "loss:36.81090545654297\n",
      "loss:62.72269058227539\n",
      "loss:28.72244644165039\n",
      "loss:59.334659576416016\n",
      "loss:29.21712875366211\n",
      "loss:29.839147567749023\n",
      "loss:19.217723846435547\n",
      "loss:32.64175033569336\n",
      "loss:50.70991516113281\n",
      "loss:33.619972229003906\n",
      "loss:33.40166473388672\n",
      "loss:44.23517608642578\n",
      "loss:25.28371810913086\n",
      "loss:61.3324089050293\n",
      "loss:20.691986083984375\n",
      "loss:50.073204040527344\n",
      "loss:61.412681579589844\n",
      "loss:13.91995620727539\n",
      "loss:38.82371139526367\n",
      "loss:48.441837310791016\n",
      "loss:25.535587310791016\n",
      "loss:52.90399169921875\n",
      "loss:77.50933837890625\n",
      "loss:31.102848052978516\n",
      "loss:41.92108917236328\n",
      "loss:40.44098663330078\n",
      "loss:37.211822509765625\n",
      "loss:34.92078399658203\n",
      "loss:29.895750045776367\n",
      "loss:33.02730941772461\n",
      "loss:4.075748920440674\n"
     ]
    },
    {
     "data": {
      "application/vnd.jupyter.widget-view+json": {
       "model_id": "fc505f0f6bc84dcb86621b40deb190cd",
       "version_major": 2,
       "version_minor": 0
      },
      "text/plain": [
       "  0%|          | 0/40 [00:00<?, ?it/s]"
      ]
     },
     "metadata": {},
     "output_type": "display_data"
    },
    {
     "name": "stdout",
     "output_type": "stream",
     "text": [
      "loss:53.7817268371582\n",
      "loss:51.55891799926758\n",
      "loss:53.891998291015625\n",
      "loss:36.204368591308594\n",
      "loss:51.81790542602539\n",
      "loss:57.855613708496094\n",
      "loss:47.2502555847168\n",
      "loss:16.78815269470215\n",
      "loss:20.879112243652344\n",
      "loss:43.05588912963867\n",
      "loss:31.741750717163086\n",
      "loss:38.99507141113281\n",
      "loss:40.603782653808594\n",
      "loss:34.15375518798828\n",
      "loss:33.70236587524414\n",
      "loss:18.26079750061035\n",
      "loss:32.99176788330078\n",
      "loss:40.783363342285156\n",
      "loss:30.11715316772461\n",
      "loss:38.87699508666992\n",
      "loss:40.42866897583008\n",
      "loss:45.48300552368164\n",
      "loss:28.646770477294922\n",
      "loss:40.59287643432617\n",
      "loss:28.675962448120117\n",
      "loss:22.15243911743164\n",
      "loss:36.7941780090332\n",
      "loss:17.51688003540039\n",
      "loss:55.83595657348633\n",
      "loss:30.66602897644043\n",
      "loss:34.015926361083984\n",
      "loss:61.541046142578125\n",
      "loss:41.50014877319336\n",
      "loss:40.340293884277344\n",
      "loss:40.4469108581543\n",
      "loss:33.82270050048828\n",
      "loss:28.61627197265625\n",
      "loss:34.844764709472656\n",
      "loss:67.18987274169922\n",
      "loss:85.76424407958984\n"
     ]
    },
    {
     "data": {
      "application/vnd.jupyter.widget-view+json": {
       "model_id": "8b364f6fcac14bb9bc3aaffdb6789c4d",
       "version_major": 2,
       "version_minor": 0
      },
      "text/plain": [
       "  0%|          | 0/40 [00:00<?, ?it/s]"
      ]
     },
     "metadata": {},
     "output_type": "display_data"
    },
    {
     "name": "stdout",
     "output_type": "stream",
     "text": [
      "loss:42.71689224243164\n",
      "loss:46.80100631713867\n",
      "loss:61.19133758544922\n",
      "loss:25.08678436279297\n",
      "loss:31.045228958129883\n",
      "loss:38.10844039916992\n",
      "loss:29.189449310302734\n",
      "loss:51.91595458984375\n",
      "loss:23.064414978027344\n",
      "loss:39.99708938598633\n",
      "loss:28.10101890563965\n",
      "loss:49.06507873535156\n",
      "loss:33.67198944091797\n",
      "loss:37.63825607299805\n",
      "loss:51.197628021240234\n",
      "loss:78.15657806396484\n",
      "loss:19.42083740234375\n",
      "loss:17.962162017822266\n",
      "loss:23.65179443359375\n",
      "loss:44.9588737487793\n",
      "loss:37.81549072265625\n",
      "loss:22.515268325805664\n",
      "loss:38.07593536376953\n",
      "loss:35.07619094848633\n",
      "loss:25.024829864501953\n",
      "loss:47.318050384521484\n",
      "loss:40.550926208496094\n",
      "loss:25.512046813964844\n",
      "loss:47.48540496826172\n",
      "loss:47.602272033691406\n",
      "loss:54.064056396484375\n",
      "loss:49.49808883666992\n",
      "loss:42.22455978393555\n",
      "loss:28.482402801513672\n",
      "loss:41.42969512939453\n",
      "loss:33.416358947753906\n",
      "loss:45.81816864013672\n",
      "loss:27.715120315551758\n",
      "loss:38.56120300292969\n",
      "loss:2.5453312397003174\n"
     ]
    },
    {
     "data": {
      "application/vnd.jupyter.widget-view+json": {
       "model_id": "3cc7fedf85554a0298181070b6ea5a4a",
       "version_major": 2,
       "version_minor": 0
      },
      "text/plain": [
       "  0%|          | 0/40 [00:00<?, ?it/s]"
      ]
     },
     "metadata": {},
     "output_type": "display_data"
    },
    {
     "name": "stdout",
     "output_type": "stream",
     "text": [
      "loss:49.302101135253906\n",
      "loss:85.27560424804688\n",
      "loss:44.53636169433594\n",
      "loss:38.97160720825195\n",
      "loss:27.2274112701416\n",
      "loss:22.622501373291016\n",
      "loss:44.520633697509766\n",
      "loss:38.82271194458008\n",
      "loss:60.07588577270508\n",
      "loss:42.74639129638672\n",
      "loss:44.97468185424805\n",
      "loss:12.115652084350586\n",
      "loss:29.27752685546875\n",
      "loss:18.395099639892578\n",
      "loss:40.62936019897461\n",
      "loss:16.314971923828125\n",
      "loss:32.84119415283203\n",
      "loss:54.348506927490234\n",
      "loss:28.251380920410156\n",
      "loss:48.318641662597656\n",
      "loss:45.1663818359375\n",
      "loss:43.196929931640625\n",
      "loss:68.95157623291016\n",
      "loss:39.144405364990234\n",
      "loss:34.727325439453125\n",
      "loss:36.63010025024414\n",
      "loss:20.425403594970703\n",
      "loss:46.74671936035156\n",
      "loss:49.557029724121094\n",
      "loss:41.50893020629883\n",
      "loss:23.247127532958984\n",
      "loss:26.303627014160156\n",
      "loss:30.43342399597168\n",
      "loss:32.88013458251953\n",
      "loss:20.023103713989258\n",
      "loss:33.699073791503906\n",
      "loss:24.938005447387695\n",
      "loss:54.41859436035156\n",
      "loss:41.614715576171875\n",
      "loss:11.395048141479492\n"
     ]
    },
    {
     "data": {
      "application/vnd.jupyter.widget-view+json": {
       "model_id": "abdd9577e00d4fb1828ac028fe95cf3d",
       "version_major": 2,
       "version_minor": 0
      },
      "text/plain": [
       "  0%|          | 0/40 [00:00<?, ?it/s]"
      ]
     },
     "metadata": {},
     "output_type": "display_data"
    },
    {
     "name": "stdout",
     "output_type": "stream",
     "text": [
      "loss:43.666690826416016\n",
      "loss:11.1571626663208\n",
      "loss:28.3648681640625\n",
      "loss:31.976154327392578\n",
      "loss:48.65597152709961\n",
      "loss:26.8599853515625\n",
      "loss:28.72272300720215\n",
      "loss:29.456663131713867\n",
      "loss:15.993538856506348\n",
      "loss:36.448822021484375\n",
      "loss:39.177913665771484\n",
      "loss:42.726070404052734\n",
      "loss:22.46059226989746\n",
      "loss:35.86404800415039\n",
      "loss:40.31818771362305\n",
      "loss:70.65414428710938\n",
      "loss:59.35537338256836\n",
      "loss:27.899585723876953\n",
      "loss:48.32527542114258\n",
      "loss:32.822452545166016\n",
      "loss:51.204498291015625\n",
      "loss:33.263404846191406\n",
      "loss:33.610355377197266\n",
      "loss:41.49959945678711\n",
      "loss:30.517986297607422\n",
      "loss:45.22467803955078\n",
      "loss:53.60520553588867\n",
      "loss:25.665681838989258\n",
      "loss:35.79838562011719\n",
      "loss:38.896400451660156\n",
      "loss:60.681697845458984\n",
      "loss:37.38386917114258\n",
      "loss:27.868999481201172\n",
      "loss:51.42087173461914\n",
      "loss:29.027097702026367\n",
      "loss:35.88972854614258\n",
      "loss:31.907943725585938\n",
      "loss:36.272979736328125\n",
      "loss:66.35259246826172\n",
      "loss:9.233119010925293\n"
     ]
    },
    {
     "data": {
      "application/vnd.jupyter.widget-view+json": {
       "model_id": "c72bb720bef94051bda0c00752424da1",
       "version_major": 2,
       "version_minor": 0
      },
      "text/plain": [
       "  0%|          | 0/40 [00:00<?, ?it/s]"
      ]
     },
     "metadata": {},
     "output_type": "display_data"
    },
    {
     "name": "stdout",
     "output_type": "stream",
     "text": [
      "loss:22.525863647460938\n",
      "loss:45.421165466308594\n",
      "loss:52.15019607543945\n",
      "loss:46.18659591674805\n",
      "loss:47.94197082519531\n",
      "loss:30.275230407714844\n",
      "loss:47.539695739746094\n",
      "loss:29.916704177856445\n",
      "loss:37.32155227661133\n",
      "loss:55.170413970947266\n",
      "loss:22.493000030517578\n",
      "loss:38.76673889160156\n",
      "loss:20.7437744140625\n",
      "loss:35.56410217285156\n",
      "loss:26.270288467407227\n",
      "loss:27.697948455810547\n",
      "loss:42.751529693603516\n",
      "loss:43.06941604614258\n",
      "loss:100.92768859863281\n",
      "loss:20.06071662902832\n",
      "loss:29.301712036132812\n",
      "loss:29.995101928710938\n",
      "loss:40.51222229003906\n",
      "loss:28.68170738220215\n",
      "loss:30.84673309326172\n",
      "loss:27.540016174316406\n",
      "loss:49.41032028198242\n",
      "loss:43.74956512451172\n",
      "loss:34.21188735961914\n",
      "loss:39.686309814453125\n",
      "loss:37.01361083984375\n",
      "loss:26.86827278137207\n",
      "loss:36.288063049316406\n",
      "loss:64.1298828125\n",
      "loss:26.99672508239746\n",
      "loss:29.021547317504883\n",
      "loss:42.826107025146484\n",
      "loss:32.79393005371094\n",
      "loss:36.867767333984375\n",
      "loss:18.66073226928711\n"
     ]
    },
    {
     "data": {
      "application/vnd.jupyter.widget-view+json": {
       "model_id": "636fc59f414847bb8800ca58590b72a2",
       "version_major": 2,
       "version_minor": 0
      },
      "text/plain": [
       "  0%|          | 0/40 [00:00<?, ?it/s]"
      ]
     },
     "metadata": {},
     "output_type": "display_data"
    },
    {
     "name": "stdout",
     "output_type": "stream",
     "text": [
      "loss:45.6394157409668\n",
      "loss:68.2369384765625\n",
      "loss:33.72003936767578\n",
      "loss:31.259016036987305\n",
      "loss:48.55912780761719\n",
      "loss:43.56383514404297\n",
      "loss:42.969520568847656\n",
      "loss:30.92291831970215\n",
      "loss:26.02368927001953\n",
      "loss:42.73203659057617\n",
      "loss:41.69964599609375\n",
      "loss:26.10849952697754\n",
      "loss:28.19904136657715\n",
      "loss:24.19410514831543\n",
      "loss:46.8076171875\n",
      "loss:24.878005981445312\n",
      "loss:20.156726837158203\n",
      "loss:41.67024230957031\n",
      "loss:21.75863265991211\n",
      "loss:57.84564971923828\n",
      "loss:13.190356254577637\n",
      "loss:40.5312385559082\n",
      "loss:44.70942306518555\n",
      "loss:49.051212310791016\n",
      "loss:40.62441635131836\n",
      "loss:52.484153747558594\n",
      "loss:20.105731964111328\n",
      "loss:50.405921936035156\n",
      "loss:39.82271957397461\n",
      "loss:36.096885681152344\n",
      "loss:37.374656677246094\n",
      "loss:18.751720428466797\n",
      "loss:55.62746047973633\n",
      "loss:26.29373550415039\n",
      "loss:32.7370719909668\n",
      "loss:59.384525299072266\n",
      "loss:34.625064849853516\n",
      "loss:26.27695655822754\n",
      "loss:45.0278205871582\n",
      "loss:70.75227355957031\n"
     ]
    },
    {
     "data": {
      "text/plain": [
       "linearRegression(\n",
       "  (linear): Linear(in_features=1746, out_features=1, bias=True)\n",
       ")"
      ]
     },
     "execution_count": 20,
     "metadata": {},
     "output_type": "execute_result"
    }
   ],
   "source": [
    "for epoch in trange(epochs):\n",
    "    loss_sum = 0\n",
    "#     step = 0\n",
    "    for x, y in tqdm(train_dataset_batches):\n",
    "        pred_y = model(x)\n",
    "        \n",
    "        loss = criterion(torch.squeeze(pred_y),torch.squeeze(y))\n",
    "        \n",
    "        loss.backward()\n",
    "        \n",
    "        optimizer.step()\n",
    "        \n",
    "        optimizer.zero_grad()\n",
    "        \n",
    "        loss_sum += loss.item()\n",
    "#         if step % 100 == 99:\n",
    "#         writer.add_scalar(\"Loss\", loss_sum, step)\n",
    "        print(f'loss:{loss_sum}')\n",
    "        loss_sum = 0.0\n",
    "#         step += 1\n",
    "\n",
    "writer.flush()\n",
    "model.eval()"
   ]
  },
  {
   "cell_type": "code",
   "execution_count": 21,
   "id": "612c5406-224e-49dc-8dda-d0850357aa90",
   "metadata": {},
   "outputs": [
    {
     "data": {
      "text/plain": [
       "tensor([[7.4994]], grad_fn=<AddmmBackward0>)"
      ]
     },
     "execution_count": 21,
     "metadata": {},
     "output_type": "execute_result"
    }
   ],
   "source": [
    "# test a lyric to see the score\n",
    "test_lyric = \"[Verse 1]Ayy, sick of these niggas (Sick)Sick of these niggas (Sick, sick)Hire some help (Help), get rid of these niggas (Skrr)Sick of this shit, move to the RitzTurned out the bitch (Ayy)It is what it is, yeahGLE, 'cause that Lambo movin' fast (Skrr)S Class, G Class, lotta class (Sss, sss)In a rocket and that bitch ain't got no tags (Skrr, skrr)Louis bags in exchange for body bags, yeah[Pre-Chorus]Sick of these niggas (Sick)Sick of these niggas (Sick, sick)Hire some help (Help), get rid of these niggas (Grr)Fuck what it was, it is what it is (What)Whatever you did, it is what it is[Chorus]And I'm so tired (tired)I fuck with the mob and I got ties (Lotta ties, lotta ties)Knock you off to pay their tithes (Do doo)They want me gone but don't know whyIt's too late for all that lovey-dovey shitI'm your brother shit, all that other shitIt's too late for all thatIt's too late for all that, ayyIt's too late for all that lovey-dovey shitI'm your brother shit, all that other shitIt's too late for all that, ayyIt's too late for all that\"\n",
    "# corpus.get_prediction_tensor(test_lyric)\n",
    "preds = model(corpus.get_prediction_tensor(test_lyric))\n",
    "preds"
   ]
  },
  {
   "cell_type": "code",
   "execution_count": null,
   "id": "ede855ac-6e29-4796-a83e-fa3ffa4ffb12",
   "metadata": {},
   "outputs": [],
   "source": []
  }
 ],
 "metadata": {
  "kernelspec": {
   "display_name": "Python 3",
   "language": "python",
   "name": "python3"
  },
  "language_info": {
   "codemirror_mode": {
    "name": "ipython",
    "version": 3
   },
   "file_extension": ".py",
   "mimetype": "text/x-python",
   "name": "python",
   "nbconvert_exporter": "python",
   "pygments_lexer": "ipython3",
   "version": "3.8.8"
  }
 },
 "nbformat": 4,
 "nbformat_minor": 5
}
